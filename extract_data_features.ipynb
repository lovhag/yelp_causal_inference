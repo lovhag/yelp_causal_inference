{
 "metadata": {
  "language_info": {
   "codemirror_mode": {
    "name": "ipython",
    "version": 3
   },
   "file_extension": ".py",
   "mimetype": "text/x-python",
   "name": "python",
   "nbconvert_exporter": "python",
   "pygments_lexer": "ipython3",
   "version": "3.8.6-final"
  },
  "orig_nbformat": 2,
  "kernelspec": {
   "name": "Python 3.8.6 64-bit ('dl4nlp_assignment_1_BERT_env')",
   "display_name": "Python 3.8.6 64-bit ('dl4nlp_assignment_1_BERT_env')",
   "metadata": {
    "interpreter": {
     "hash": "ce84788798bca09e1ddbb5d7fec4d31e4297ac54712761acb10c0e86e265aaec"
    }
   }
  }
 },
 "nbformat": 4,
 "nbformat_minor": 2,
 "cells": [
  {
   "source": [
    "# EXTRACT DATA FEATURES FOR CAUSAL INFERENCE"
   ],
   "cell_type": "markdown",
   "metadata": {}
  },
  {
   "source": [
    "## Load the data"
   ],
   "cell_type": "markdown",
   "metadata": {}
  },
  {
   "cell_type": "code",
   "execution_count": 1,
   "metadata": {},
   "outputs": [],
   "source": [
    "import pandas as pd\n",
    "import re"
   ]
  },
  {
   "cell_type": "code",
   "execution_count": 2,
   "metadata": {},
   "outputs": [
    {
     "output_type": "stream",
     "name": "stdout",
     "text": [
      "<class 'pandas.core.frame.DataFrame'>\nRangeIndex: 10129 entries, 0 to 10128\nData columns (total 8 columns):\n #   Column       Non-Null Count  Dtype         \n---  ------       --------------  -----         \n 0   user_id      10129 non-null  object        \n 1   business_id  10129 non-null  object        \n 2   stars        10129 non-null  int64         \n 3   useful       10129 non-null  int64         \n 4   text         10129 non-null  object        \n 5   date         10129 non-null  datetime64[ns]\n 6   text_length  10129 non-null  int64         \n 7   nbr_words    10129 non-null  int64         \ndtypes: datetime64[ns](1), int64(4), object(3)\nmemory usage: 633.2+ KB\n"
     ]
    },
    {
     "output_type": "execute_result",
     "data": {
      "text/plain": [
       "                  user_id             business_id  stars  useful  \\\n",
       "0  6PgdGb3HrZdsfl2GiULo8w  RESDUcs7fIiihp38-d6_6g      5       0   \n",
       "1  IS9yw8P2uAPBX6FNLLX4KA  RESDUcs7fIiihp38-d6_6g      4      39   \n",
       "2  uZdFsE_aHbFBChgN6Xa8tw  RESDUcs7fIiihp38-d6_6g      4       1   \n",
       "3  8ZWJNAEWsymXDzKx3B0tTQ  RESDUcs7fIiihp38-d6_6g      1       0   \n",
       "4  E0sm4Ve7ifanFYeQMcV8Eg  RESDUcs7fIiihp38-d6_6g      5       0   \n",
       "\n",
       "                                                text                date  \\\n",
       "0  After getting food poisoning at the Palms hote... 2012-12-04 03:10:18   \n",
       "1  \"A feast worthy of Gods\"\\n\\nBaccarnal Buffet i... 2014-01-17 00:50:50   \n",
       "2  The crab legs are better than the ones at Wick... 2015-06-08 18:03:09   \n",
       "3  Not worth it! Too salty food and expensive! Th... 2016-12-19 16:15:29   \n",
       "4  I would give this infinite stars if I could. M... 2015-07-28 07:13:17   \n",
       "\n",
       "   text_length  nbr_words  \n",
       "0          937        176  \n",
       "1         4975        940  \n",
       "2          671        131  \n",
       "3           92         18  \n",
       "4          333         63  "
      ],
      "text/html": "<div>\n<style scoped>\n    .dataframe tbody tr th:only-of-type {\n        vertical-align: middle;\n    }\n\n    .dataframe tbody tr th {\n        vertical-align: top;\n    }\n\n    .dataframe thead th {\n        text-align: right;\n    }\n</style>\n<table border=\"1\" class=\"dataframe\">\n  <thead>\n    <tr style=\"text-align: right;\">\n      <th></th>\n      <th>user_id</th>\n      <th>business_id</th>\n      <th>stars</th>\n      <th>useful</th>\n      <th>text</th>\n      <th>date</th>\n      <th>text_length</th>\n      <th>nbr_words</th>\n    </tr>\n  </thead>\n  <tbody>\n    <tr>\n      <th>0</th>\n      <td>6PgdGb3HrZdsfl2GiULo8w</td>\n      <td>RESDUcs7fIiihp38-d6_6g</td>\n      <td>5</td>\n      <td>0</td>\n      <td>After getting food poisoning at the Palms hote...</td>\n      <td>2012-12-04 03:10:18</td>\n      <td>937</td>\n      <td>176</td>\n    </tr>\n    <tr>\n      <th>1</th>\n      <td>IS9yw8P2uAPBX6FNLLX4KA</td>\n      <td>RESDUcs7fIiihp38-d6_6g</td>\n      <td>4</td>\n      <td>39</td>\n      <td>\"A feast worthy of Gods\"\\n\\nBaccarnal Buffet i...</td>\n      <td>2014-01-17 00:50:50</td>\n      <td>4975</td>\n      <td>940</td>\n    </tr>\n    <tr>\n      <th>2</th>\n      <td>uZdFsE_aHbFBChgN6Xa8tw</td>\n      <td>RESDUcs7fIiihp38-d6_6g</td>\n      <td>4</td>\n      <td>1</td>\n      <td>The crab legs are better than the ones at Wick...</td>\n      <td>2015-06-08 18:03:09</td>\n      <td>671</td>\n      <td>131</td>\n    </tr>\n    <tr>\n      <th>3</th>\n      <td>8ZWJNAEWsymXDzKx3B0tTQ</td>\n      <td>RESDUcs7fIiihp38-d6_6g</td>\n      <td>1</td>\n      <td>0</td>\n      <td>Not worth it! Too salty food and expensive! Th...</td>\n      <td>2016-12-19 16:15:29</td>\n      <td>92</td>\n      <td>18</td>\n    </tr>\n    <tr>\n      <th>4</th>\n      <td>E0sm4Ve7ifanFYeQMcV8Eg</td>\n      <td>RESDUcs7fIiihp38-d6_6g</td>\n      <td>5</td>\n      <td>0</td>\n      <td>I would give this infinite stars if I could. M...</td>\n      <td>2015-07-28 07:13:17</td>\n      <td>333</td>\n      <td>63</td>\n    </tr>\n  </tbody>\n</table>\n</div>"
     },
     "metadata": {},
     "execution_count": 2
    }
   ],
   "source": [
    "data = pd.read_csv('data/reviews_Bacchanal_Buffet.csv', parse_dates=['date'], lineterminator='\\n')\n",
    "data.info()\n",
    "data.head()"
   ]
  },
  {
   "source": [
    "### Remove some unnecessary characters"
   ],
   "cell_type": "markdown",
   "metadata": {}
  },
  {
   "cell_type": "code",
   "execution_count": 3,
   "metadata": {},
   "outputs": [
    {
     "output_type": "execute_result",
     "data": {
      "text/plain": [
       "                  user_id             business_id  stars  useful  \\\n",
       "0  6PgdGb3HrZdsfl2GiULo8w  RESDUcs7fIiihp38-d6_6g      5       0   \n",
       "1  IS9yw8P2uAPBX6FNLLX4KA  RESDUcs7fIiihp38-d6_6g      4      39   \n",
       "2  uZdFsE_aHbFBChgN6Xa8tw  RESDUcs7fIiihp38-d6_6g      4       1   \n",
       "3  8ZWJNAEWsymXDzKx3B0tTQ  RESDUcs7fIiihp38-d6_6g      1       0   \n",
       "4  E0sm4Ve7ifanFYeQMcV8Eg  RESDUcs7fIiihp38-d6_6g      5       0   \n",
       "\n",
       "                                                text                date  \\\n",
       "0  After getting food poisoning at the Palms hote... 2012-12-04 03:10:18   \n",
       "1  \"A feast worthy of Gods\"\\n\\nBaccarnal Buffet i... 2014-01-17 00:50:50   \n",
       "2  The crab legs are better than the ones at Wick... 2015-06-08 18:03:09   \n",
       "3  Not worth it! Too salty food and expensive! Th... 2016-12-19 16:15:29   \n",
       "4  I would give this infinite stars if I could. M... 2015-07-28 07:13:17   \n",
       "\n",
       "   text_length  nbr_words                                     processed_text  \n",
       "0          937        176  After getting food poisoning at the Palms hote...  \n",
       "1         4975        940  \"A feast worthy of Gods\"  Baccarnal Buffet in ...  \n",
       "2          671        131  The crab legs are better than the ones at Wick...  \n",
       "3           92         18  Not worth it! Too salty food and expensive! Th...  \n",
       "4          333         63  I would give this infinite stars if I could. M...  "
      ],
      "text/html": "<div>\n<style scoped>\n    .dataframe tbody tr th:only-of-type {\n        vertical-align: middle;\n    }\n\n    .dataframe tbody tr th {\n        vertical-align: top;\n    }\n\n    .dataframe thead th {\n        text-align: right;\n    }\n</style>\n<table border=\"1\" class=\"dataframe\">\n  <thead>\n    <tr style=\"text-align: right;\">\n      <th></th>\n      <th>user_id</th>\n      <th>business_id</th>\n      <th>stars</th>\n      <th>useful</th>\n      <th>text</th>\n      <th>date</th>\n      <th>text_length</th>\n      <th>nbr_words</th>\n      <th>processed_text</th>\n    </tr>\n  </thead>\n  <tbody>\n    <tr>\n      <th>0</th>\n      <td>6PgdGb3HrZdsfl2GiULo8w</td>\n      <td>RESDUcs7fIiihp38-d6_6g</td>\n      <td>5</td>\n      <td>0</td>\n      <td>After getting food poisoning at the Palms hote...</td>\n      <td>2012-12-04 03:10:18</td>\n      <td>937</td>\n      <td>176</td>\n      <td>After getting food poisoning at the Palms hote...</td>\n    </tr>\n    <tr>\n      <th>1</th>\n      <td>IS9yw8P2uAPBX6FNLLX4KA</td>\n      <td>RESDUcs7fIiihp38-d6_6g</td>\n      <td>4</td>\n      <td>39</td>\n      <td>\"A feast worthy of Gods\"\\n\\nBaccarnal Buffet i...</td>\n      <td>2014-01-17 00:50:50</td>\n      <td>4975</td>\n      <td>940</td>\n      <td>\"A feast worthy of Gods\"  Baccarnal Buffet in ...</td>\n    </tr>\n    <tr>\n      <th>2</th>\n      <td>uZdFsE_aHbFBChgN6Xa8tw</td>\n      <td>RESDUcs7fIiihp38-d6_6g</td>\n      <td>4</td>\n      <td>1</td>\n      <td>The crab legs are better than the ones at Wick...</td>\n      <td>2015-06-08 18:03:09</td>\n      <td>671</td>\n      <td>131</td>\n      <td>The crab legs are better than the ones at Wick...</td>\n    </tr>\n    <tr>\n      <th>3</th>\n      <td>8ZWJNAEWsymXDzKx3B0tTQ</td>\n      <td>RESDUcs7fIiihp38-d6_6g</td>\n      <td>1</td>\n      <td>0</td>\n      <td>Not worth it! Too salty food and expensive! Th...</td>\n      <td>2016-12-19 16:15:29</td>\n      <td>92</td>\n      <td>18</td>\n      <td>Not worth it! Too salty food and expensive! Th...</td>\n    </tr>\n    <tr>\n      <th>4</th>\n      <td>E0sm4Ve7ifanFYeQMcV8Eg</td>\n      <td>RESDUcs7fIiihp38-d6_6g</td>\n      <td>5</td>\n      <td>0</td>\n      <td>I would give this infinite stars if I could. M...</td>\n      <td>2015-07-28 07:13:17</td>\n      <td>333</td>\n      <td>63</td>\n      <td>I would give this infinite stars if I could. M...</td>\n    </tr>\n  </tbody>\n</table>\n</div>"
     },
     "metadata": {},
     "execution_count": 3
    }
   ],
   "source": [
    "data[\"processed_text\"] = data.text.apply(lambda x: re.sub(r'[\\n]', ' ', x))\n",
    "data.head()"
   ]
  },
  {
   "cell_type": "code",
   "execution_count": 43,
   "metadata": {},
   "outputs": [
    {
     "output_type": "execute_result",
     "data": {
      "text/plain": [
       "'\"A feast worthy of Gods\"  Baccarnal Buffet in Caesar Palace is consider the best buffet in the Las Vegas by most food critics   It rated highest in trip advisor and yelp for a buffet restaurant in Vegas.  I was only going to eat Buffet once in this trip, so I decided must try the best there is available.  My review is based on late breakfast and lunch during a non-holiday weekday.  Finding this place is confusing and take more than five minutes from the main entrance to get here, this is common in most buffet in the strip.    Admission Price *Breakfast (Monday - Friday, 7 a.m. - 11 a.m.): $25.99 *Brunch (Saturday - Sunday, 8 a.m. - 3 p.m.): $40.99 * Lunch (Monday - Friday, 11 a.m. - 3 p.m.): $32.99 * Dinner (Daily, 3 p.m. - 10 p.m.): $45.99 on weekdays, $50.99 on weekends  * Holiday expect to paid $10 more. * Total Reward Card Holder gets $1 off. * Price not included the 8.1% sales tax.  Atmosphere The interior is similar to those of mid-level restaurant, they claim it cost 17 million that might not felt like it perhaps they included all the equipment and kitchen tools in to the cost.  There is a lot of seating, but do not count it those do not mean anything during dinner and weekend which can get full very quick.  The dessert section is separate counter from the rest of the food.  Customer Service We got assign an individual server, at first she was helpful but quickly kind of forgot our table.  This was not during a weekday lunch so is not busy; there is was still several table empty.  Imagine in dinner or weekend, the service might be worst. The nicest thing is that they did not enforce the 2 hours eating time limit as they normally do in a busy time.   During peak hours, you would need to get an estimated waiting time in a kiosk machine,   Beverage You can to choose variety of juice and coffee.  Some yelper was right that the juice they serving were no longer freshly squeezed, but instead are concentrate and probably are pre-made package.  At this price tag, they should had keep the fresh juice instead of during the cheap way.  I was told that the Mexico Section would had fresh juice and Hocharta but never came out.  Breakfast The item in the breakfast was the best part of the hot food section I think.  The typical American favorite food like Scramble Egg and Fried Chicken are just perfect in term of texture and flavor.  The dim sum was disappoint, it tasted like those cheap takeout place.   Seafood At this price they don\\'t had crab leg for lunch, I heard Aria is the only in the strip serve cheaper.  I can settle with no crab leg as long the other item in the seafood make up for it.  However, it failed to impress me at all.  The got the jumbo shrimp cocktail, looks good but tasted plain.  Probably the worst jumbo shrimp I\\'ve tasted.  The oyster was small and wasn\\'t much flavor either, lack freshness.  The smock salmon was not that great either, they got three version and all were no good.  Sushi was ok, I like the sushi rice it was authentic one, however the tuna wasn\\'t good.  But salmon was alright.  There was no specialty or hand roll here.  Noodle Section Skip this one, it was the worst section in the buffet I think.  They use pre-packed noodle, not even the good kind.  I try their Ramen, they use nissin kinds of noodle.  The broth was supposed to be Tonkotsu it tasted more like Shoyu.  There was tiny slice of chashu.  If they wanted to had this type of item, better get it right.  The pho was slight better but still no even close to the real Pho you can from any shop in L.A.  Meat Section I tried their sausage and beef ribs, it was mediocre at best.  The person that cutting the meat is cool with smile.  There was no lamb chop for lunch, but they do serve prime ribs. The best food in the hot section were the sliders, those were mouthwatering.   I should had get more of those.  I think the burger were prime meat it was extreme flavorful.  Actually, it tasted better than the Gordon Ramsey Hell Burger, which later I eat that night.  The made to order taco wasn\\'t good.  It tasted like king taco and other cheap taco place.  Dessert Section They dessert has variety of food but nothing really won me over except one item.  Their made to order crepes were the best dessert easily. Fresh and with the right texture, I added the ice cream which was heavenly match.  Their Crème brûlée was too watery.  Fruit and Salad They were pretty good in general, Large selection of salads.  You won\\'t get disappoint here.  Just wish they were more fruits.  My 2 Cents To be honest I am debating giving this 4 or 3 stars, I ended gave a four since there few dish were excellent and the best I had (Sliders, Crepes, Fried Chicken) .  But many other dish were average and even bad..  The price is the problem, they need to better quality and included more crab leg or lamb chop to worth the price.  I didn\\'t get any food sickness after eating here over 2 hours which is a good sigh that the food is prepare it right.'"
      ]
     },
     "metadata": {},
     "execution_count": 43
    }
   ],
   "source": [
    "data.processed_text.iloc[1]"
   ]
  },
  {
   "source": [
    "## Extract features "
   ],
   "cell_type": "markdown",
   "metadata": {}
  },
  {
   "source": [
    "1. With transformers\n",
    "* Sentiment\n",
    "* Topic?\n",
    "2. Number of words\n",
    "3. (Star rating)\n",
    "4. Occurence of certain word?\n"
   ],
   "cell_type": "markdown",
   "metadata": {}
  },
  {
   "source": [
    "### 1. With transformers"
   ],
   "cell_type": "markdown",
   "metadata": {}
  },
  {
   "cell_type": "code",
   "execution_count": 4,
   "metadata": {},
   "outputs": [],
   "source": [
    "from transformers import pipeline"
   ]
  },
  {
   "cell_type": "code",
   "execution_count": 9,
   "metadata": {},
   "outputs": [],
   "source": [
    "def print_sentiment_for_datapoint(data, index):\n",
    "    nlp_sentiment = pipeline('sentiment-analysis')\n",
    "    result = nlp_sentiment(data.iloc[index].processed_text)[0]\n",
    "\n",
    "    print(\"TEXT:\")\n",
    "    print(data.iloc[index].processed_text)\n",
    "    print(\"RESULT:\")\n",
    "    print(result)"
   ]
  },
  {
   "cell_type": "code",
   "execution_count": 10,
   "metadata": {},
   "outputs": [
    {
     "output_type": "stream",
     "name": "stdout",
     "text": [
      "TEXT:\n",
      "I would give this infinite stars if I could. My family has a diamond card at Caesars Palace so we skipped the long line. Literally no wait. The food was just perfect. King crab legs and lamb chops won honorable mention for me. You can't possibly ask for a better buffet anywhere else in the world. 5 star food at an unlimited supply.\n",
      "RESULT:\n",
      "{'label': 'POSITIVE', 'score': 0.9994301199913025}\n",
      "TEXT:\n",
      "Not worth it! Too salty food and expensive! This is our furst and kast visit on this buffet!\n",
      "RESULT:\n",
      "{'label': 'NEGATIVE', 'score': 0.9994542002677917}\n"
     ]
    }
   ],
   "source": [
    "print_sentiment_for_datapoint(data, 4)\n",
    "print_sentiment_for_datapoint(data, 3)"
   ]
  },
  {
   "cell_type": "code",
   "execution_count": 12,
   "metadata": {},
   "outputs": [],
   "source": [
    "index=4\n",
    "nlp_feature = pipeline('feature-extraction')\n",
    "result = nlp_feature(data.iloc[index].processed_text)\n",
    "#result"
   ]
  },
  {
   "source": [
    "## Group label 'useful'"
   ],
   "cell_type": "markdown",
   "metadata": {}
  },
  {
   "cell_type": "code",
   "execution_count": null,
   "metadata": {},
   "outputs": [],
   "source": []
  },
  {
   "source": [],
   "cell_type": "markdown",
   "metadata": {}
  }
 ]
}