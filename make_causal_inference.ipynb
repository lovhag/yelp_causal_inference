{
 "cells": [
  {
   "cell_type": "markdown",
   "metadata": {},
   "source": [
    "# Estimating causal effect of text features on usefulness"
   ]
  },
  {
   "cell_type": "code",
   "execution_count": 1,
   "metadata": {},
   "outputs": [],
   "source": [
    "import itertools\n",
    "import pandas as pd\n",
    "import numpy as np\n",
    "import statsmodels.api as sm\n",
    "import matplotlib.pyplot as plt\n",
    "from sklearn.linear_model import LinearRegression, LogisticRegression\n",
    "from sklearn.metrics import mean_squared_error, r2_score\n",
    "from sklearn import preprocessing\n",
    "from patsy import dmatrices"
   ]
  },
  {
   "cell_type": "markdown",
   "metadata": {},
   "source": [
    "## Look at the data"
   ]
  },
  {
   "cell_type": "code",
   "execution_count": 2,
   "metadata": {},
   "outputs": [
    {
     "data": {
      "text/html": [
       "<div>\n",
       "<style scoped>\n",
       "    .dataframe tbody tr th:only-of-type {\n",
       "        vertical-align: middle;\n",
       "    }\n",
       "\n",
       "    .dataframe tbody tr th {\n",
       "        vertical-align: top;\n",
       "    }\n",
       "\n",
       "    .dataframe thead th {\n",
       "        text-align: right;\n",
       "    }\n",
       "</style>\n",
       "<table border=\"1\" class=\"dataframe\">\n",
       "  <thead>\n",
       "    <tr style=\"text-align: right;\">\n",
       "      <th></th>\n",
       "      <th>test</th>\n",
       "      <th>Z1</th>\n",
       "      <th>Z2</th>\n",
       "      <th>stars</th>\n",
       "      <th>n_words</th>\n",
       "      <th>useful</th>\n",
       "      <th>useful_discrete</th>\n",
       "      <th>n_fans</th>\n",
       "      <th>n_reviews</th>\n",
       "    </tr>\n",
       "  </thead>\n",
       "  <tbody>\n",
       "    <tr>\n",
       "      <th>0</th>\n",
       "      <td>1</td>\n",
       "      <td>1</td>\n",
       "      <td>1</td>\n",
       "      <td>5</td>\n",
       "      <td>176</td>\n",
       "      <td>0</td>\n",
       "      <td>0</td>\n",
       "      <td>0</td>\n",
       "      <td>3</td>\n",
       "    </tr>\n",
       "    <tr>\n",
       "      <th>1</th>\n",
       "      <td>1</td>\n",
       "      <td>1</td>\n",
       "      <td>0</td>\n",
       "      <td>4</td>\n",
       "      <td>940</td>\n",
       "      <td>39</td>\n",
       "      <td>3</td>\n",
       "      <td>330</td>\n",
       "      <td>1224</td>\n",
       "    </tr>\n",
       "    <tr>\n",
       "      <th>2</th>\n",
       "      <td>0</td>\n",
       "      <td>0</td>\n",
       "      <td>0</td>\n",
       "      <td>4</td>\n",
       "      <td>131</td>\n",
       "      <td>1</td>\n",
       "      <td>1</td>\n",
       "      <td>113</td>\n",
       "      <td>1864</td>\n",
       "    </tr>\n",
       "    <tr>\n",
       "      <th>3</th>\n",
       "      <td>1</td>\n",
       "      <td>0</td>\n",
       "      <td>0</td>\n",
       "      <td>1</td>\n",
       "      <td>18</td>\n",
       "      <td>0</td>\n",
       "      <td>0</td>\n",
       "      <td>0</td>\n",
       "      <td>6</td>\n",
       "    </tr>\n",
       "    <tr>\n",
       "      <th>4</th>\n",
       "      <td>1</td>\n",
       "      <td>0</td>\n",
       "      <td>0</td>\n",
       "      <td>5</td>\n",
       "      <td>63</td>\n",
       "      <td>0</td>\n",
       "      <td>0</td>\n",
       "      <td>0</td>\n",
       "      <td>15</td>\n",
       "    </tr>\n",
       "  </tbody>\n",
       "</table>\n",
       "</div>"
      ],
      "text/plain": [
       "   test  Z1  Z2  stars  n_words  useful  useful_discrete  n_fans  n_reviews\n",
       "0     1   1   1      5      176       0                0       0          3\n",
       "1     1   1   0      4      940      39                3     330       1224\n",
       "2     0   0   0      4      131       1                1     113       1864\n",
       "3     1   0   0      1       18       0                0       0          6\n",
       "4     1   0   0      5       63       0                0       0         15"
      ]
     },
     "execution_count": 2,
     "metadata": {},
     "output_type": "execute_result"
    }
   ],
   "source": [
    "df = pd.read_csv('saved_data/features.csv')\n",
    "\n",
    "df.head()"
   ]
  },
  {
   "cell_type": "code",
   "execution_count": 3,
   "metadata": {},
   "outputs": [
    {
     "name": "stdout",
     "output_type": "stream",
     "text": [
      "Z1 = 0, Z2 = 0\n",
      "test                 0.879599\n",
      "Z1                   0.000000\n",
      "Z2                   0.000000\n",
      "stars                3.776473\n",
      "n_words            110.948005\n",
      "useful               1.025738\n",
      "useful_discrete      0.434272\n",
      "n_fans              13.048886\n",
      "n_reviews          146.732769\n",
      "dtype: float64\n",
      "\n",
      "Z1 = 0, Z2 = 1\n",
      "test              NaN\n",
      "Z1                NaN\n",
      "Z2                NaN\n",
      "stars             NaN\n",
      "n_words           NaN\n",
      "useful            NaN\n",
      "useful_discrete   NaN\n",
      "n_fans            NaN\n",
      "n_reviews         NaN\n",
      "dtype: float64\n",
      "\n",
      "Z1 = 1, Z2 = 0\n",
      "test                 0.696995\n",
      "Z1                   1.000000\n",
      "Z2                   0.000000\n",
      "stars                3.732888\n",
      "n_words            409.682805\n",
      "useful               4.661937\n",
      "useful_discrete      1.128548\n",
      "n_fans              52.112688\n",
      "n_reviews          345.883139\n",
      "dtype: float64\n",
      "\n",
      "Z1 = 1, Z2 = 1\n",
      "test                 0.369898\n",
      "Z1                   1.000000\n",
      "Z2                   1.000000\n",
      "stars                3.784120\n",
      "n_words             89.798788\n",
      "useful               0.750319\n",
      "useful_discrete      0.357143\n",
      "n_fans               8.922832\n",
      "n_reviews          119.305166\n",
      "dtype: float64\n",
      "\n"
     ]
    }
   ],
   "source": [
    "# Which are the average values in each treatment group?\n",
    "\n",
    "for Z1, Z2 in list(itertools.product([0, 1], repeat=2)):\n",
    "    print('Z1 = ' + str(Z1) + ', Z2 = ' + str(Z2))\n",
    "    print(df.loc[(df['Z1'] == Z1) & (df['Z2'] == Z2)].mean())\n",
    "    print()"
   ]
  },
  {
   "cell_type": "code",
   "execution_count": 4,
   "metadata": {},
   "outputs": [
    {
     "data": {
      "image/png": "[encoded data removed]",
      "text/plain": [
       "<Figure size 432x288 with 1 Axes>"
      ]
     },
     "metadata": {
      "needs_background": "light"
     },
     "output_type": "display_data"
    }
   ],
   "source": [
    "df.boxplot(column='useful', by='stars');"
   ]
  },
  {
   "cell_type": "code",
   "execution_count": 5,
   "metadata": {},
   "outputs": [
    {
     "data": {
      "image/png": "[encoded data removed]",
      "text/plain": [
       "<Figure size 432x288 with 1 Axes>"
      ]
     },
     "metadata": {
      "needs_background": "light"
     },
     "output_type": "display_data"
    },
    {
     "data": {
      "image/png": "[encoded data removed]",
      "text/plain": [
       "<Figure size 432x288 with 1 Axes>"
      ]
     },
     "metadata": {
      "needs_background": "light"
     },
     "output_type": "display_data"
    },
    {
     "data": {
      "image/png": "[encoded data removed]",
      "text/plain": [
       "<Figure size 432x288 with 1 Axes>"
      ]
     },
     "metadata": {
      "needs_background": "light"
     },
     "output_type": "display_data"
    }
   ],
   "source": [
    "for x in ['n_words', 'n_reviews', 'n_fans']:\n",
    "    df.plot.scatter(x=x, y='useful')"
   ]
  },
  {
   "cell_type": "markdown",
   "metadata": {},
   "source": [
    "## Extract treatments, confounders and outcomes"
   ]
  },
  {
   "cell_type": "code",
   "execution_count": 6,
   "metadata": {},
   "outputs": [],
   "source": [
    "class Data:\n",
    "    def __init__(self, data, treatments, confounders, include_stars=True):\n",
    "        self.data = data\n",
    "        self.treatments = treatments\n",
    "        self.n_treatments = len(treatments)\n",
    "        self.treatment_groups = list(itertools.product([0, 1], repeat=self.n_treatments))\n",
    "        self.confounders = confounders\n",
    "        self.include_stars = include_stars\n",
    "        self._get_data()\n",
    "        self._get_scaled_data()\n",
    "        \n",
    "    def _get_scaled_data(self):\n",
    "        self.X_train_scaled = dict.fromkeys(self.treatment_groups)\n",
    "        self.X_test_scaled = dict.fromkeys(self.treatment_groups)\n",
    "        \n",
    "        confounders_scaled = preprocessing.scale(self.data[self.confounders])\n",
    "        confounders_scaled = pd.DataFrame(confounders_scaled, index=self.data.index, columns=self.confounders)\n",
    "        \n",
    "        treatment_groups = self.data.groupby(self.treatments)\n",
    "        \n",
    "        for tg, indexes in treatment_groups.groups.items():\n",
    "            filter_col = [col for col in self.X_train[tg] if col.startswith('stars')]\n",
    "            \n",
    "            self.X_train_scaled[tg] = self.X_train[tg][filter_col].copy()\n",
    "            self.X_test_scaled[tg] = self.X_test[tg][filter_col].copy()\n",
    "            \n",
    "            indexes_train = self.X_train[tg].index\n",
    "            indexes_test = self.X_test[tg].index\n",
    "        \n",
    "            self.X_train_scaled[tg][self.confounders] = confounders_scaled.iloc[indexes_train]\n",
    "            self.X_test_scaled[tg][self.confounders] = confounders_scaled.iloc[indexes_test]\n",
    "            \n",
    "    def _get_data(self):\n",
    "        self.X_train = dict.fromkeys(self.treatment_groups)\n",
    "        self.X_test = dict.fromkeys(self.treatment_groups)\n",
    "        \n",
    "        self.Y_train = dict.fromkeys(self.treatment_groups)\n",
    "        self.Y_test = dict.fromkeys(self.treatment_groups)\n",
    "        \n",
    "        self.Y_train_discrete = dict.fromkeys(self.treatment_groups)\n",
    "        self.Y_test_discrete = dict.fromkeys(self.treatment_groups)\n",
    "        \n",
    "        treatment_groups = self.data.groupby(self.treatments)\n",
    "        \n",
    "        for tg, indexes in treatment_groups.groups.items():\n",
    "            temp_data_train = self.data.iloc[indexes].loc[self.data['test'] == 0]\n",
    "            temp_data_test = self.data.iloc[indexes].loc[self.data['test'] == 1]\n",
    "            \n",
    "            if self.include_stars:\n",
    "                self.X_train[tg] = pd.get_dummies(temp_data_train['stars'], drop_first=True, prefix='stars')\n",
    "                self.X_test[tg] = pd.get_dummies(temp_data_test['stars'], drop_first=True, prefix='stars')\n",
    "            \n",
    "            self.X_train[tg][self.confounders] = temp_data_train[self.confounders]\n",
    "            self.X_test[tg][self.confounders] = temp_data_test[self.confounders]\n",
    "            \n",
    "            self.Y_train[tg] = temp_data_train['useful']\n",
    "            self.Y_test[tg] = temp_data_test['useful']\n",
    "            \n",
    "            self.Y_train_discrete[tg] = temp_data_train['useful_discrete']\n",
    "            self.Y_test_discrete[tg] = temp_data_test['useful_discrete']"
   ]
  },
  {
   "cell_type": "code",
   "execution_count": 7,
   "metadata": {},
   "outputs": [],
   "source": [
    "treatments = ['Z1', 'Z2']\n",
    "confounders = ['n_words', 'n_fans', 'n_reviews']\n",
    "\n",
    "data = Data(df, treatments, confounders)"
   ]
  },
  {
   "cell_type": "code",
   "execution_count": 8,
   "metadata": {},
   "outputs": [
    {
     "data": {
      "text/plain": [
       "{(0,\n",
       "  0):        stars_2  stars_3  stars_4  stars_5   n_words    n_fans  n_reviews\n",
       " 2            0        0        1        0 -0.067233  1.648440   4.995672\n",
       " 28           0        0        0        1  0.386120 -0.194415   0.185469\n",
       " 50           0        0        0        0  0.078762 -0.279733  -0.469000\n",
       " 60           0        0        0        1  0.024975 -0.279733  -0.413238\n",
       " 83           0        0        0        1 -0.005761 -0.245606  -0.298779\n",
       " ...        ...      ...      ...      ...       ...       ...        ...\n",
       " 10082        0        0        1        0  0.117182 -0.279733  -0.398564\n",
       " 10093        0        0        0        0  0.501380 -0.245606  -0.307584\n",
       " 10099        0        1        0        0  0.316965 -0.092035  -0.102145\n",
       " 10114        1        0        0        0  0.209389 -0.228542  -0.187255\n",
       " 10121        0        0        1        0  0.163286 -0.160288  -0.108015\n",
       " \n",
       " [697 rows x 7 columns],\n",
       " (0, 1): None,\n",
       " (1,\n",
       "  0):        stars_2  stars_3  stars_4  stars_5   n_words    n_fans  n_reviews\n",
       " 18           0        0        0        1  2.022802  0.146854   0.769502\n",
       " 51           0        0        0        1  1.177567  0.266298   0.754828\n",
       " 139          0        0        1        0  2.383948 -0.279733  -0.369215\n",
       " 164          0        0        1        0  1.446506 -0.262669  -0.419108\n",
       " 230          0        1        0        0  1.677024  0.385743   0.317537\n",
       " ...        ...      ...      ...      ...       ...       ...        ...\n",
       " 9936         0        0        1        0  1.008520  0.385743   1.808436\n",
       " 9953         0        0        0        1  3.528857  1.187726   0.214818\n",
       " 10013        0        1        0        0  2.491523  1.085345   0.716675\n",
       " 10090        0        0        0        1  2.276373 -0.057908  -0.351606\n",
       " 10120        0        0        0        0  1.730812 -0.279733  -0.360411\n",
       " \n",
       " [363 rows x 7 columns],\n",
       " (1,\n",
       "  1):        stars_2  stars_3  stars_4  stars_5   n_words    n_fans  n_reviews\n",
       " 11           0        0        0        1 -0.167124 -0.228542  -0.319323\n",
       " 13           0        0        0        1 -0.705001 -0.262669  -0.454326\n",
       " 15           0        0        1        0 -0.820260 -0.211479  -0.369215\n",
       " 20           0        0        1        0 -0.113337 -0.262669  -0.419108\n",
       " 24           0        0        1        0 -0.866364 -0.279733  -0.469000\n",
       " ...        ...      ...      ...      ...       ...       ...        ...\n",
       " 10109        0        1        0        0 -0.597426  0.180981   0.370364\n",
       " 10110        0        0        0        1 -0.797208 -0.262669  -0.354541\n",
       " 10113        0        0        0        1 -0.973939 -0.279733  -0.463130\n",
       " 10115        0        0        0        1 -0.897100 -0.279733  -0.471935\n",
       " 10117        0        0        0        1 -0.712685 -0.279733  -0.460196\n",
       " \n",
       " [1976 rows x 7 columns]}"
      ]
     },
     "execution_count": 8,
     "metadata": {},
     "output_type": "execute_result"
    }
   ],
   "source": [
    "data.X_train_scaled"
   ]
  },
  {
   "cell_type": "markdown",
   "metadata": {},
   "source": [
    "## Helper functions"
   ]
  },
  {
   "cell_type": "code",
   "execution_count": 9,
   "metadata": {},
   "outputs": [],
   "source": [
    "# Should we use all data or only the data that we have for each pair of groups?\n",
    "\n",
    "def calculate_pairwise_ate(models, X):\n",
    "    for tg1, tg2 in list(itertools.combinations(models.keys(), 2)):\n",
    "        print('Comparing treatment groups ' + str(tg1) + ' and ' + str(tg2) + '.')\n",
    "        m_1 = models[tg1]\n",
    "        m_2 = models[tg2]\n",
    "\n",
    "        x1 = X[tg1]\n",
    "        x2 = X[tg2]\n",
    "\n",
    "        x = pd.concat([x1, x2])\n",
    "\n",
    "        ate = np.mean(m_1.predict(x) - m_2.predict(x))\n",
    "\n",
    "        print('The ATE is ' + str(round(ate, 2)) + '.')"
   ]
  },
  {
   "cell_type": "markdown",
   "metadata": {},
   "source": [
    "## Fit a regression model E[Y|T, X]"
   ]
  },
  {
   "cell_type": "code",
   "execution_count": 10,
   "metadata": {},
   "outputs": [
    {
     "name": "stdout",
     "output_type": "stream",
     "text": [
      "Treatment group (0, 0)\n",
      "Coefficients: \n",
      " [-0.33768296 -0.36526822 -0.27858156 -0.13633214  0.00783825  0.03814328\n",
      " -0.00159852]\n",
      "Mean squared error: 8.78\n",
      "R squared: 0.48\n",
      "\n",
      "Treatment group (0, 1)\n",
      "There is no data available for this treatment grop.\n",
      "\n",
      "Treatment group (1, 0)\n",
      "Coefficients: \n",
      " [ 1.87701489 -0.18778622  0.63973041  0.67213231  0.0074892   0.0652849\n",
      " -0.00446333]\n",
      "Mean squared error: 62.22\n",
      "R squared: 0.50\n",
      "\n",
      "Treatment group (1, 1)\n",
      "Coefficients: \n",
      " [-0.4394981  -0.75625763 -0.66825657 -0.43463496  0.0059957   0.04953838\n",
      " -0.00208061]\n",
      "Mean squared error: 3.13\n",
      "R squared: -0.58\n",
      "\n",
      "Comparing treatment groups (0, 0) and (1, 0).\n",
      "The ATE is 0.23.\n",
      "Comparing treatment groups (0, 0) and (1, 1).\n",
      "The ATE is -0.04.\n",
      "Comparing treatment groups (1, 0) and (1, 1).\n",
      "The ATE is -0.03.\n"
     ]
    }
   ],
   "source": [
    "def print_lm_info(lm, x_test, y_test):\n",
    "    preds = lm.predict(x_test)\n",
    "    \n",
    "    # The coefficients\n",
    "    print('Coefficients: \\n', lm.coef_)\n",
    "\n",
    "    # The mean squared error\n",
    "    print('Mean squared error: %.2f'\n",
    "          % mean_squared_error(y_test, preds))\n",
    "\n",
    "    # The coefficient of determination\n",
    "    print('R squared: %.2f'\n",
    "          % r2_score(y_test, preds))\n",
    "\n",
    "lm_models = {}\n",
    "\n",
    "for tg in data.treatment_groups:\n",
    "    print('Treatment group ' + str(tg))\n",
    "    x = data.X_test[tg]\n",
    "    y = data.Y_test[tg]\n",
    "    if x is not None:\n",
    "        lm = LinearRegression()\n",
    "        lm.fit(x, y)\n",
    "        lm_models[tg] = lm\n",
    "        print_lm_info(lm, data.X_train[tg], data.Y_train[tg])  # Use train data (for sIBP) to evaluate fit\n",
    "    else:\n",
    "        print('There is no data available for this treatment grop.')\n",
    "    print()\n",
    "\n",
    "# Calculate the average treatment effect between pairwise treatment groups\n",
    "calculate_pairwise_ate(lm_models, data.X_test)"
   ]
  },
  {
   "cell_type": "markdown",
   "metadata": {},
   "source": [
    "## Fit a logistic model Pr[Y|T, X]"
   ]
  },
  {
   "cell_type": "code",
   "execution_count": 11,
   "metadata": {},
   "outputs": [
    {
     "name": "stdout",
     "output_type": "stream",
     "text": [
      "Treatment group (0, 0)\n",
      "\n",
      "Treatment group (0, 1)\n",
      "There is no data available for this treatment grop.\n",
      "\n",
      "Treatment group (1, 0)\n",
      "\n",
      "Treatment group (1, 1)\n",
      "\n",
      "Comparing treatment groups (0, 0) and (1, 0).\n",
      "The ATE is -0.65.\n",
      "Comparing treatment groups (0, 0) and (1, 1).\n",
      "The ATE is -0.01.\n",
      "Comparing treatment groups (1, 0) and (1, 1).\n",
      "The ATE is 0.26.\n"
     ]
    }
   ],
   "source": [
    "clf_models = {}\n",
    "\n",
    "for tg in data.treatment_groups:\n",
    "    print('Treatment group ' + str(tg))\n",
    "    x = data.X_test_scaled[tg]\n",
    "    y = data.Y_test_discrete[tg]\n",
    "    if x is not None:\n",
    "        clf = LogisticRegression(max_iter=200)\n",
    "        clf.fit(x, y)\n",
    "        clf_models[tg] = clf\n",
    "        # TODO: Evaluate fit\n",
    "    else:\n",
    "        print('There is no data available for this treatment grop.')\n",
    "    print()\n",
    "\n",
    "# Calculate the average treatment effect between pairwise treatment groups\n",
    "calculate_pairwise_ate(clf_models, data.X_test_scaled)"
   ]
  },
  {
   "cell_type": "markdown",
   "metadata": {},
   "source": [
    "## Fit a ZIP model "
   ]
  },
  {
   "cell_type": "code",
   "execution_count": 13,
   "metadata": {},
   "outputs": [
    {
     "name": "stdout",
     "output_type": "stream",
     "text": [
      "Treatment group (0, 0)\n",
      "Optimization terminated successfully.\n",
      "         Current function value: 1.267820\n",
      "         Iterations: 65\n",
      "         Function evaluations: 69\n",
      "         Gradient evaluations: 69\n"
     ]
    },
    {
     "name": "stderr",
     "output_type": "stream",
     "text": [
      "/Users/antmats/Desktop/causality-and-causal-inference/project/env/lib/python3.8/site-packages/statsmodels/base/model.py:566: ConvergenceWarning: Maximum Likelihood optimization failed to converge. Check mle_retvals\n",
      "  warnings.warn(\"Maximum Likelihood optimization failed to \"\n",
      "/Users/antmats/Desktop/causality-and-causal-inference/project/env/lib/python3.8/site-packages/statsmodels/base/model.py:566: ConvergenceWarning: Maximum Likelihood optimization failed to converge. Check mle_retvals\n",
      "  warnings.warn(\"Maximum Likelihood optimization failed to \"\n"
     ]
    },
    {
     "name": "stdout",
     "output_type": "stream",
     "text": [
      "\n",
      "Treatment group (0, 1)\n",
      "There is no data available for this treatment grop.\n",
      "\n",
      "Treatment group (1, 0)\n",
      "Optimization terminated successfully.\n",
      "         Current function value: 3.340207\n",
      "         Iterations: 57\n",
      "         Function evaluations: 63\n",
      "         Gradient evaluations: 63\n",
      "\n",
      "Treatment group (1, 1)\n",
      "Optimization terminated successfully.\n",
      "         Current function value: 1.478595\n",
      "         Iterations: 64\n",
      "         Function evaluations: 67\n",
      "         Gradient evaluations: 67\n",
      "\n"
     ]
    },
    {
     "name": "stderr",
     "output_type": "stream",
     "text": [
      "/Users/antmats/Desktop/causality-and-causal-inference/project/env/lib/python3.8/site-packages/statsmodels/base/model.py:566: ConvergenceWarning: Maximum Likelihood optimization failed to converge. Check mle_retvals\n",
      "  warnings.warn(\"Maximum Likelihood optimization failed to \"\n"
     ]
    }
   ],
   "source": [
    "zip_models = {}\n",
    "\n",
    "for tg in data.treatment_groups:\n",
    "    print('Treatment group ' + str(tg))\n",
    "    x = data.X_test_scaled[tg]\n",
    "    y = data.Y_test[tg]\n",
    "    if x is not None:\n",
    "        zip_model = sm.ZeroInflatedPoisson(endog=y, exog=x, exog_infl=x, inflation='logit').fit(maxiter=200)\n",
    "        # print(zip_model.summary())\n",
    "        zip_models[tg] = zip_model\n",
    "        # TODO: Evaluate fit\n",
    "    else:\n",
    "        print('There is no data available for this treatment grop.')\n",
    "    print()"
   ]
  },
  {
   "cell_type": "code",
   "execution_count": 14,
   "metadata": {},
   "outputs": [
    {
     "name": "stdout",
     "output_type": "stream",
     "text": [
      "Comparing treatment groups (0, 0) and (1, 0).\n",
      "The ATE is 1.29.\n",
      "Comparing treatment groups (0, 0) and (1, 1).\n",
      "The ATE is -0.22.\n",
      "Comparing treatment groups (1, 0) and (1, 1).\n",
      "The ATE is -18.98.\n"
     ]
    }
   ],
   "source": [
    "# Calculate the average treatment effect between pairwise treatment groups\n",
    "\n",
    "# calculate_pairwise_ate(zip_models, data.X_test_scaled)\n",
    "\n",
    "for tg1, tg2 in list(itertools.combinations(zip_models.keys(), 2)):\n",
    "    print('Comparing treatment groups ' + str(tg1) + ' and ' + str(tg2) + '.')\n",
    "    m_1 = zip_models[tg1]\n",
    "    m_2 = zip_models[tg2]\n",
    "\n",
    "    x1 = data.X_test_scaled[tg1]\n",
    "    x2 = data.X_test_scaled[tg2]\n",
    "\n",
    "    x = pd.concat([x1, x2])\n",
    "    \n",
    "    ate = np.mean(m_1.predict(x, exog_infl=x) - m_2.predict(x, exog_infl=x))\n",
    "\n",
    "    print('The ATE is ' + str(round(ate, 2)) + '.')"
   ]
  }
 ],
 "metadata": {
  "kernelspec": {
   "display_name": "Python 3",
   "language": "python",
   "name": "python3"
  },
  "language_info": {
   "codemirror_mode": {
    "name": "ipython",
    "version": 3
   },
   "file_extension": ".py",
   "mimetype": "text/x-python",
   "name": "python",
   "nbconvert_exporter": "python",
   "pygments_lexer": "ipython3",
   "version": "3.8.5"
  }
 },
 "nbformat": 4,
 "nbformat_minor": 4
}
