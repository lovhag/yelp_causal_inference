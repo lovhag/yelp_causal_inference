{
 "cells": [
  {
   "cell_type": "markdown",
   "metadata": {},
   "source": [
    "# Estimating causal effect of text features on usefulness"
   ]
  },
  {
   "cell_type": "code",
   "execution_count": 1,
   "metadata": {},
   "outputs": [],
   "source": [
    "import itertools\n",
    "import outcome_models\n",
    "import pandas as pd\n",
    "import numpy as np\n",
    "import seaborn as sns\n",
    "import statsmodels.api as sm\n",
    "import matplotlib.pyplot as plt\n",
    "from sklearn.linear_model import LinearRegression, LogisticRegression\n",
    "from sklearn.ensemble import RandomForestClassifier\n",
    "from sklearn.dummy import DummyClassifier\n",
    "from sklearn.metrics import mean_squared_error, r2_score\n",
    "from sklearn import preprocessing\n",
    "from patsy import dmatrices\n",
    "from result_help_functions import Data\n",
    "from scipy import stats\n",
    "from sklearn.utils import resample\n",
    "from sklearn.metrics import accuracy_score\n",
    "\n",
    "plt.rcParams['font.family'] = 'Times New Roman'"
   ]
  },
  {
   "cell_type": "markdown",
   "metadata": {},
   "source": [
    "## Read data"
   ]
  },
  {
   "cell_type": "code",
   "execution_count": 2,
   "metadata": {},
   "outputs": [
    {
     "data": {
      "text/html": [
       "<div>\n",
       "<style scoped>\n",
       "    .dataframe tbody tr th:only-of-type {\n",
       "        vertical-align: middle;\n",
       "    }\n",
       "\n",
       "    .dataframe tbody tr th {\n",
       "        vertical-align: top;\n",
       "    }\n",
       "\n",
       "    .dataframe thead th {\n",
       "        text-align: right;\n",
       "    }\n",
       "</style>\n",
       "<table border=\"1\" class=\"dataframe\">\n",
       "  <thead>\n",
       "    <tr style=\"text-align: right;\">\n",
       "      <th></th>\n",
       "      <th>test</th>\n",
       "      <th>Z1</th>\n",
       "      <th>Z2</th>\n",
       "      <th>Z3</th>\n",
       "      <th>is_positive_sentiment</th>\n",
       "      <th>sentiment_certainty</th>\n",
       "      <th>stars</th>\n",
       "      <th>n_words</th>\n",
       "      <th>n_fans</th>\n",
       "      <th>n_reviews</th>\n",
       "      <th>useful</th>\n",
       "      <th>useful_discrete</th>\n",
       "    </tr>\n",
       "  </thead>\n",
       "  <tbody>\n",
       "    <tr>\n",
       "      <th>0</th>\n",
       "      <td>1</td>\n",
       "      <td>0</td>\n",
       "      <td>0</td>\n",
       "      <td>0</td>\n",
       "      <td>1.0</td>\n",
       "      <td>0.999428</td>\n",
       "      <td>5</td>\n",
       "      <td>176</td>\n",
       "      <td>0</td>\n",
       "      <td>3</td>\n",
       "      <td>0</td>\n",
       "      <td>0</td>\n",
       "    </tr>\n",
       "    <tr>\n",
       "      <th>1</th>\n",
       "      <td>1</td>\n",
       "      <td>1</td>\n",
       "      <td>0</td>\n",
       "      <td>1</td>\n",
       "      <td>0.0</td>\n",
       "      <td>0.990075</td>\n",
       "      <td>4</td>\n",
       "      <td>940</td>\n",
       "      <td>330</td>\n",
       "      <td>1224</td>\n",
       "      <td>39</td>\n",
       "      <td>1</td>\n",
       "    </tr>\n",
       "    <tr>\n",
       "      <th>2</th>\n",
       "      <td>1</td>\n",
       "      <td>0</td>\n",
       "      <td>0</td>\n",
       "      <td>0</td>\n",
       "      <td>1.0</td>\n",
       "      <td>0.935575</td>\n",
       "      <td>4</td>\n",
       "      <td>131</td>\n",
       "      <td>113</td>\n",
       "      <td>1864</td>\n",
       "      <td>1</td>\n",
       "      <td>1</td>\n",
       "    </tr>\n",
       "    <tr>\n",
       "      <th>3</th>\n",
       "      <td>0</td>\n",
       "      <td>0</td>\n",
       "      <td>1</td>\n",
       "      <td>0</td>\n",
       "      <td>0.0</td>\n",
       "      <td>0.999454</td>\n",
       "      <td>1</td>\n",
       "      <td>18</td>\n",
       "      <td>0</td>\n",
       "      <td>6</td>\n",
       "      <td>0</td>\n",
       "      <td>0</td>\n",
       "    </tr>\n",
       "    <tr>\n",
       "      <th>4</th>\n",
       "      <td>1</td>\n",
       "      <td>0</td>\n",
       "      <td>1</td>\n",
       "      <td>0</td>\n",
       "      <td>1.0</td>\n",
       "      <td>0.999430</td>\n",
       "      <td>5</td>\n",
       "      <td>63</td>\n",
       "      <td>0</td>\n",
       "      <td>15</td>\n",
       "      <td>0</td>\n",
       "      <td>0</td>\n",
       "    </tr>\n",
       "  </tbody>\n",
       "</table>\n",
       "</div>"
      ],
      "text/plain": [
       "   test  Z1  Z2  Z3  is_positive_sentiment  sentiment_certainty  stars  \\\n",
       "0     1   0   0   0                    1.0             0.999428      5   \n",
       "1     1   1   0   1                    0.0             0.990075      4   \n",
       "2     1   0   0   0                    1.0             0.935575      4   \n",
       "3     0   0   1   0                    0.0             0.999454      1   \n",
       "4     1   0   1   0                    1.0             0.999430      5   \n",
       "\n",
       "   n_words  n_fans  n_reviews  useful  useful_discrete  \n",
       "0      176       0          3       0                0  \n",
       "1      940     330       1224      39                1  \n",
       "2      131     113       1864       1                1  \n",
       "3       18       0          6       0                0  \n",
       "4       63       0         15       0                0  "
      ]
     },
     "execution_count": 2,
     "metadata": {},
     "output_type": "execute_result"
    }
   ],
   "source": [
    "filename = 'saved_data/features_interpretable.csv'\n",
    "\n",
    "df = pd.read_csv(filename)\n",
    "\n",
    "df = df.dropna(axis=0)\n",
    "df.reset_index(inplace=True, drop=True)\n",
    "\n",
    "df.head()"
   ]
  },
  {
   "cell_type": "code",
   "execution_count": 3,
   "metadata": {},
   "outputs": [],
   "source": [
    "# Define treatments and confounders\n",
    "\n",
    "treatments = [c for c in df if c.startswith('Z')]\n",
    "\n",
    "confounders_cont = ['n_words', 'n_fans', 'n_reviews']\n",
    "confounders_cat = ['stars', 'is_positive_sentiment']"
   ]
  },
  {
   "cell_type": "markdown",
   "metadata": {},
   "source": [
    "## Look at the data"
   ]
  },
  {
   "cell_type": "code",
   "execution_count": 4,
   "metadata": {},
   "outputs": [
    {
     "name": "stdout",
     "output_type": "stream",
     "text": [
      "Z1 = 0, Z2 = 0, Z3 = 0\n",
      "test                       0.844238\n",
      "Z1                         0.000000\n",
      "Z2                         0.000000\n",
      "Z3                         0.000000\n",
      "is_positive_sentiment      0.614746\n",
      "sentiment_certainty        0.965584\n",
      "stars                      3.678512\n",
      "n_words                  145.813019\n",
      "n_fans                    17.327134\n",
      "n_reviews                189.905679\n",
      "useful                     1.389572\n",
      "useful_discrete            0.513119\n",
      "dtype: float64\n",
      "\n",
      "Z1 = 0, Z2 = 0, Z3 = 1\n",
      "test                       0.795000\n",
      "Z1                         0.000000\n",
      "Z2                         0.000000\n",
      "Z3                         1.000000\n",
      "is_positive_sentiment      0.695000\n",
      "sentiment_certainty        0.938026\n",
      "stars                      4.140000\n",
      "n_words                  341.155000\n",
      "n_fans                    53.720000\n",
      "n_reviews                352.425000\n",
      "useful                     4.075000\n",
      "useful_discrete            0.825000\n",
      "dtype: float64\n",
      "\n",
      "Z1 = 0, Z2 = 1, Z3 = 0\n",
      "test                      0.797546\n",
      "Z1                        0.000000\n",
      "Z2                        1.000000\n",
      "Z3                        0.000000\n",
      "is_positive_sentiment     0.696115\n",
      "sentiment_certainty       0.979832\n",
      "stars                     3.896524\n",
      "n_words                  53.161554\n",
      "n_fans                    4.809611\n",
      "n_reviews                85.098569\n",
      "useful                    0.391411\n",
      "useful_discrete           0.224540\n",
      "dtype: float64\n",
      "\n",
      "Z1 = 0, Z2 = 1, Z3 = 1\n",
      "test                       0.654501\n",
      "Z1                         0.000000\n",
      "Z2                         1.000000\n",
      "Z3                         1.000000\n",
      "is_positive_sentiment      0.732360\n",
      "sentiment_certainty        0.966436\n",
      "stars                      4.133820\n",
      "n_words                  210.785888\n",
      "n_fans                    38.257908\n",
      "n_reviews                300.055961\n",
      "useful                     2.615572\n",
      "useful_discrete            0.664234\n",
      "dtype: float64\n",
      "\n",
      "Z1 = 1, Z2 = 0, Z3 = 0\n",
      "test                       0.881356\n",
      "Z1                         1.000000\n",
      "Z2                         0.000000\n",
      "Z3                         0.000000\n",
      "is_positive_sentiment      0.455744\n",
      "sentiment_certainty        0.954365\n",
      "stars                      3.435028\n",
      "n_words                  372.508475\n",
      "n_fans                    42.403013\n",
      "n_reviews                301.325800\n",
      "useful                     4.082863\n",
      "useful_discrete            0.777778\n",
      "dtype: float64\n",
      "\n",
      "Z1 = 1, Z2 = 0, Z3 = 1\n",
      "test                       0.788288\n",
      "Z1                         1.000000\n",
      "Z2                         0.000000\n",
      "Z3                         1.000000\n",
      "is_positive_sentiment      0.522523\n",
      "sentiment_certainty        0.935206\n",
      "stars                      3.770270\n",
      "n_words                  641.130631\n",
      "n_fans                    67.360360\n",
      "n_reviews                395.072072\n",
      "useful                     6.761261\n",
      "useful_discrete            0.878378\n",
      "dtype: float64\n",
      "\n",
      "Z1 = 1, Z2 = 1, Z3 = 0\n",
      "test                       0.706434\n",
      "Z1                         1.000000\n",
      "Z2                         1.000000\n",
      "Z3                         0.000000\n",
      "is_positive_sentiment      0.463807\n",
      "sentiment_certainty        0.960813\n",
      "stars                      3.304290\n",
      "n_words                  231.021448\n",
      "n_fans                    23.878016\n",
      "n_reviews                210.176944\n",
      "useful                     2.105898\n",
      "useful_discrete            0.604558\n",
      "dtype: float64\n",
      "\n",
      "Z1 = 1, Z2 = 1, Z3 = 1\n",
      "test                       0.514563\n",
      "Z1                         1.000000\n",
      "Z2                         1.000000\n",
      "Z3                         1.000000\n",
      "is_positive_sentiment      0.504854\n",
      "sentiment_certainty        0.946070\n",
      "stars                      3.660194\n",
      "n_words                  434.883495\n",
      "n_fans                    73.650485\n",
      "n_reviews                441.038835\n",
      "useful                     5.747573\n",
      "useful_discrete            0.815534\n",
      "dtype: float64\n",
      "\n"
     ]
    }
   ],
   "source": [
    "# Which are the average values in each treatment group?\n",
    "\n",
    "n_treatments = len(treatments)\n",
    "\n",
    "if n_treatments == 2:\n",
    "    for Z1, Z2 in list(itertools.product([0, 1], repeat=2)):\n",
    "        print('Z1 = ' + str(Z1) + ', Z2 = ' + str(Z2))\n",
    "        print(df.loc[(df['Z1'] == Z1) & (df['Z2'] == Z2)].mean())\n",
    "        print()\n",
    "elif n_treatments == 3:\n",
    "    for Z1, Z2, Z3 in list(itertools.product([0, 1], repeat=3)):\n",
    "        print('Z1 = ' + str(Z1) + ', Z2 = ' + str(Z2) + ', Z3 = ' + str(Z3))\n",
    "        print(df.loc[(df['Z1'] == Z1) & (df['Z2'] == Z2) & (df['Z3'] == Z3)].mean())\n",
    "        print()\n",
    "else:\n",
    "    print('There is no code for ' + str(n_treatments) + ' treatments.')"
   ]
  },
  {
   "cell_type": "code",
   "execution_count": 5,
   "metadata": {},
   "outputs": [
    {
     "data": {
      "image/png": "[encoded data removed]",
      "text/plain": [
       "<Figure size 432x288 with 1 Axes>"
      ]
     },
     "metadata": {
      "needs_background": "light"
     },
     "output_type": "display_data"
    }
   ],
   "source": [
    "df.boxplot(column='useful', by='stars');"
   ]
  },
  {
   "cell_type": "code",
   "execution_count": 6,
   "metadata": {},
   "outputs": [
    {
     "data": {
      "image/png": "[encoded data removed]",
      "text/plain": [
       "<Figure size 432x288 with 1 Axes>"
      ]
     },
     "metadata": {
      "needs_background": "light"
     },
     "output_type": "display_data"
    },
    {
     "data": {
      "image/png": "[encoded data removed]",
      "text/plain": [
       "<Figure size 432x288 with 1 Axes>"
      ]
     },
     "metadata": {
      "needs_background": "light"
     },
     "output_type": "display_data"
    },
    {
     "data": {
      "image/png": "[encoded data removed]",
      "text/plain": [
       "<Figure size 432x288 with 1 Axes>"
      ]
     },
     "metadata": {
      "needs_background": "light"
     },
     "output_type": "display_data"
    }
   ],
   "source": [
    "for x in ['n_words', 'n_reviews', 'n_fans']:\n",
    "    df.plot.scatter(x=x, y='useful')"
   ]
  },
  {
   "cell_type": "markdown",
   "metadata": {},
   "source": [
    "## Helper functions"
   ]
  },
  {
   "cell_type": "code",
   "execution_count": 7,
   "metadata": {},
   "outputs": [],
   "source": [
    "def fit_treatment_group_models(model_name, models, X, Y, data_threshold = -1, verb=True):\n",
    "    treatment_group_models = {}\n",
    "    for tg in X.keys():\n",
    "        x = X[tg]\n",
    "        y = Y[tg]\n",
    "        if data_threshold > 0 and len(x.index) < data_threshold:\n",
    "            print('Too little data for treatment ' + str(tg))\n",
    "            continue\n",
    "        model = models[model_name]()\n",
    "        try:\n",
    "            model.fit(x, y)\n",
    "        except Exception as e:\n",
    "            if verb: \n",
    "                print(f'Model evaluation failed for treatment: {tg}')\n",
    "                print('Caught exception: ')\n",
    "                print(e)\n",
    "            continue\n",
    "        treatment_group_models[tg] = model\n",
    "        if verb: print('Successfully fitted model for treatment ' + str(tg))\n",
    "    return treatment_group_models"
   ]
  },
  {
   "cell_type": "code",
   "execution_count": 8,
   "metadata": {},
   "outputs": [],
   "source": [
    "def calculate_pairwise_ate(fitted_models, X, is_classifier, verb=False):\n",
    "    pairwise_treatments = list(itertools.combinations(fitted_models.keys(), 2))\n",
    "    treatments = list(fitted_models.keys())\n",
    "    n_treatments = len(treatments)\n",
    "    ate_matrix = np.empty((n_treatments, n_treatments), dtype=object)\n",
    "    for tg1, tg2 in pairwise_treatments:\n",
    "        if verb: print('Comparing treatment groups ' + str(tg1) + ' and ' + str(tg2) + '.')\n",
    "        \n",
    "        m1 = fitted_models[tg1]\n",
    "        m2 = fitted_models[tg2]\n",
    "        \n",
    "        i_tg1 = treatments.index(tg1)\n",
    "        i_tg2 = treatments.index(tg2)\n",
    "        \n",
    "        for i in range(100):\n",
    "            X_temp = resample(X, n_samples=int(0.5*len(X.index)))\n",
    "        \n",
    "            if is_classifier:\n",
    "                m1_preds = m1.predict_proba(X_temp)\n",
    "                m1_preds = m1_preds[:, 1]\n",
    "                m2_preds = m2.predict_proba(X_temp)\n",
    "                m2_preds = m2_preds[:, 1]\n",
    "            else:\n",
    "                m1_preds = m1.predict(X_temp)\n",
    "                m2_preds = m2.predict(X_temp)\n",
    "                \n",
    "            ate12 = np.mean(m1_preds - m2_preds)\n",
    "            ate21 = np.mean(m2_preds - m1_preds)\n",
    "            \n",
    "            if i == 0:\n",
    "                ate_matrix[i_tg1, i_tg2] = [ate12]\n",
    "                ate_matrix[i_tg2, i_tg1] = [ate21]\n",
    "            else:\n",
    "                ate_matrix[i_tg1, i_tg2].append(ate12)\n",
    "                ate_matrix[i_tg2, i_tg1].append(ate21)\n",
    "        \n",
    "        if is_classifier:\n",
    "            m1_preds = m1.predict_proba(X)\n",
    "            m1_preds = m1_preds[:, 1]\n",
    "            m2_preds = m2.predict_proba(X)\n",
    "            m2_preds = m2_preds[:, 1]\n",
    "        else:\n",
    "            m1_preds = m1.predict(X)\n",
    "            m2_preds = m2.predict(X)\n",
    "        \n",
    "        ate12 = np.mean(m1_preds - m2_preds)\n",
    "        ate21 = np.mean(m2_preds - m1_preds)\n",
    "        \n",
    "        p_value = stats.ttest_ind(m1_preds, m2_preds)[1]  # Using the predictions from the last iteration\n",
    "\n",
    "        if verb: \n",
    "            print('The ATE is ' + str(round(ate12, 2)) + '.')\n",
    "            print('The ATE is ' + str(round(ate21, 2)) + '.')\n",
    "            print('The p-value is ' + str(round(p_value, 3)) + '.')\n",
    "    return ate_matrix, treatments, p_value"
   ]
  },
  {
   "cell_type": "markdown",
   "metadata": {},
   "source": [
    "## Make causal inference"
   ]
  },
  {
   "cell_type": "code",
   "execution_count": 9,
   "metadata": {},
   "outputs": [],
   "source": [
    "# Load data\n",
    "\n",
    "data = Data(df, treatments, confounders_cont, confounders_cat)\n",
    "\n",
    "# for key, value in data.X_test.items():\n",
    "#     print(key)\n",
    "#     print(len(value.index))"
   ]
  },
  {
   "cell_type": "code",
   "execution_count": 10,
   "metadata": {},
   "outputs": [],
   "source": [
    "# Choose model(s) to evaluate\n",
    "\n",
    "# models = {\"linear_model\": outcome_models.get_linear_model, \n",
    "#         \"logistic_regression_model\": outcome_models.get_logistic_regression_model,\n",
    "#         \"random_forest_model_1\": outcome_models.get_random_forest_model_1,\n",
    "#         \"random_forest_model_2\": outcome_models.get_random_forest_model_2}\n",
    "\n",
    "models = {\"logistic_regression_model\": outcome_models.get_logistic_regression_model}"
   ]
  },
  {
   "cell_type": "code",
   "execution_count": 11,
   "metadata": {},
   "outputs": [
    {
     "name": "stdout",
     "output_type": "stream",
     "text": [
      "MODEL TO FIT: logistic_regression_model\n",
      "\n",
      "Too little data for treatment (0, 0, 1)\n",
      "Too little data for treatment (0, 1, 1)\n",
      "Too little data for treatment (1, 0, 1)\n",
      "Too little data for treatment (1, 1, 1)\n",
      "Comparing treatment groups (0, 0, 0) and (0, 1, 0).\n",
      "The ATE is 0.02.\n",
      "The ATE is -0.02.\n",
      "The p-value is 0.0.\n",
      "Comparing treatment groups (0, 0, 0) and (1, 0, 0).\n",
      "The ATE is -0.13.\n",
      "The ATE is 0.13.\n",
      "The p-value is 0.0.\n",
      "Comparing treatment groups (0, 0, 0) and (1, 1, 0).\n",
      "The ATE is -0.04.\n",
      "The ATE is 0.04.\n",
      "The p-value is 0.0.\n",
      "Comparing treatment groups (0, 1, 0) and (1, 0, 0).\n",
      "The ATE is -0.14.\n",
      "The ATE is 0.14.\n",
      "The p-value is 0.0.\n",
      "Comparing treatment groups (0, 1, 0) and (1, 1, 0).\n",
      "The ATE is -0.06.\n",
      "The ATE is 0.06.\n",
      "The p-value is 0.0.\n",
      "Comparing treatment groups (1, 0, 0) and (1, 1, 0).\n",
      "The ATE is 0.08.\n",
      "The ATE is -0.08.\n",
      "The p-value is 0.0.\n",
      "\n",
      "-----\n",
      "\n"
     ]
    }
   ],
   "source": [
    "results = []\n",
    "\n",
    "for model_name in models.keys():\n",
    "    print('MODEL TO FIT: ' + model_name)\n",
    "    print()    \n",
    "    \n",
    "    if model_name in ['linear_model']:\n",
    "        X = data.X_test\n",
    "        Y = data.Y_test\n",
    "        is_classifier = False\n",
    "    elif model_name in ['logistic_regression_model']:\n",
    "        X = data.X_test_scaled\n",
    "        Y = data.Y_test_discrete\n",
    "        is_classifier = True\n",
    "    elif model_name in ['random_forest_model_1', 'random_forest_model_2']:\n",
    "        X = data.X_test\n",
    "        Y = data.Y_test_discrete\n",
    "        is_classifier = True\n",
    "    else:\n",
    "        raise NotImplementedError\n",
    "    X_all = pd.concat(X.values(), ignore_index=True)\n",
    "    \n",
    "    fitted_models = fit_treatment_group_models(model_name, models, X, Y, data_threshold=400, verb=False)\n",
    "    \n",
    "    ate_matrix, treatments, p_value = calculate_pairwise_ate(fitted_models, X_all, is_classifier, verb=True)\n",
    "    results.append((model_name, ate_matrix, treatments))\n",
    "    \n",
    "    print()\n",
    "    print('-----')\n",
    "    print()"
   ]
  },
  {
   "cell_type": "code",
   "execution_count": 12,
   "metadata": {},
   "outputs": [
    {
     "data": {
      "image/png": "[encoded data removed]",
      "text/plain": [
       "<Figure size 432x288 with 1 Axes>"
      ]
     },
     "metadata": {
      "needs_background": "light"
     },
     "output_type": "display_data"
    },
    {
     "data": {
      "image/png": "[encoded data removed]",
      "text/plain": [
       "<Figure size 432x288 with 1 Axes>"
      ]
     },
     "metadata": {
      "needs_background": "light"
     },
     "output_type": "display_data"
    },
    {
     "data": {
      "image/png": "[encoded data removed]",
      "text/plain": [
       "<Figure size 432x288 with 1 Axes>"
      ]
     },
     "metadata": {
      "needs_background": "light"
     },
     "output_type": "display_data"
    },
    {
     "data": {
      "image/png": "[encoded data removed]",
      "text/plain": [
       "<Figure size 432x288 with 1 Axes>"
      ]
     },
     "metadata": {
      "needs_background": "light"
     },
     "output_type": "display_data"
    }
   ],
   "source": [
    "# Plot boxplots\n",
    "\n",
    "for model_name, ate_matrix, treatments in results:\n",
    "    for row in range(ate_matrix.shape[0]):\n",
    "        temp = ate_matrix[row, :]\n",
    "        i = np.argwhere(temp == None)[0][0]\n",
    "        j = np.argwhere(temp != None).flatten()\n",
    "        plt.figure()\n",
    "        plt.title(str(treatments[i]))\n",
    "        labels = [str(x) for i, x in enumerate(treatments) if i in j]\n",
    "        plt.boxplot(tuple(temp[j]), labels=labels)\n",
    "        plt.hlines(0, 0.5, 3.5, colors=['red'], linestyles='dashed')\n",
    "        # plt.ylim((-0.2, 0.1))\n",
    "        plt.ylabel('ATE')\n",
    "        # plt.savefig(str(treatments[i]) + '.pdf')"
   ]
  },
  {
   "cell_type": "markdown",
   "metadata": {},
   "source": [
    "# OLD"
   ]
  },
  {
   "cell_type": "markdown",
   "metadata": {},
   "source": [
    "## Helper functions"
   ]
  },
  {
   "cell_type": "code",
   "execution_count": null,
   "metadata": {},
   "outputs": [],
   "source": [
    "# Should we use all data or only the data that we have for each pair of groups?\n",
    "\n",
    "def calculate_pairwise_ate(models, X):\n",
    "    for tg1, tg2 in list(itertools.combinations(models.keys(), 2)):\n",
    "        print('Comparing treatment groups ' + str(tg1) + ' and ' + str(tg2) + '.')\n",
    "        m_1 = models[tg1]\n",
    "        m_2 = models[tg2]\n",
    "\n",
    "        x1 = X[tg1]\n",
    "        x2 = X[tg2]\n",
    "\n",
    "        x = pd.concat([x1, x2])\n",
    "\n",
    "        ate = np.mean(m_1.predict(x) - m_2.predict(x))\n",
    "\n",
    "        print('The ATE is ' + str(round(ate, 2)) + '.')"
   ]
  },
  {
   "cell_type": "markdown",
   "metadata": {},
   "source": [
    "## Fit a regression model E[Y|T, X]"
   ]
  },
  {
   "cell_type": "code",
   "execution_count": null,
   "metadata": {},
   "outputs": [],
   "source": [
    "def print_lm_info(lm, x_test, y_test):\n",
    "    preds = lm.predict(x_test)\n",
    "    \n",
    "    # The coefficients\n",
    "    print('Coefficients: \\n', lm.coef_)\n",
    "\n",
    "    # The mean squared error\n",
    "    print('Mean squared error: %.2f'\n",
    "          % mean_squared_error(y_test, preds))\n",
    "\n",
    "    # The coefficient of determination\n",
    "    print('R squared: %.2f'\n",
    "          % r2_score(y_test, preds))\n",
    "\n",
    "lm_models = {}\n",
    "\n",
    "for tg in data.treatment_groups:\n",
    "    print('Treatment group ' + str(tg))\n",
    "    x = data.X_test[tg]\n",
    "    y = data.Y_test[tg]\n",
    "    if x is not None:\n",
    "        lm = LinearRegression()\n",
    "        lm.fit(x, y)\n",
    "        lm_models[tg] = lm\n",
    "        print_lm_info(lm, data.X_train[tg], data.Y_train[tg])  # Use train data (for sIBP) to evaluate fit\n",
    "    else:\n",
    "        print('There is no data available for this treatment grop.')\n",
    "    print()\n",
    "\n",
    "# Calculate the average treatment effect between pairwise treatment groups\n",
    "calculate_pairwise_ate(lm_models, data.X_test)"
   ]
  },
  {
   "cell_type": "markdown",
   "metadata": {},
   "source": [
    "## Fit a logistic model Pr[Y|T, X]"
   ]
  },
  {
   "cell_type": "code",
   "execution_count": null,
   "metadata": {},
   "outputs": [],
   "source": [
    "clf_models = {}\n",
    "\n",
    "for tg in data.treatment_groups:\n",
    "    print('Treatment group ' + str(tg))\n",
    "    x = data.X_test_scaled[tg]\n",
    "    y = data.Y_test_discrete[tg]\n",
    "    if x is not None:\n",
    "        clf = LogisticRegression(max_iter=200)\n",
    "        clf.fit(x, y)\n",
    "        clf_models[tg] = clf\n",
    "        # TODO: Evaluate fit\n",
    "    else:\n",
    "        print('There is no data available for this treatment grop.')\n",
    "    print()\n",
    "\n",
    "# Calculate the average treatment effect between pairwise treatment groups\n",
    "calculate_pairwise_ate(clf_models, data.X_test_scaled)"
   ]
  },
  {
   "cell_type": "markdown",
   "metadata": {},
   "source": [
    "## Fit a ZIP model "
   ]
  },
  {
   "cell_type": "code",
   "execution_count": null,
   "metadata": {},
   "outputs": [],
   "source": [
    "zip_models = {}\n",
    "\n",
    "for tg in data.treatment_groups:\n",
    "    print('Treatment group ' + str(tg))\n",
    "    x = data.X_test_scaled[tg]\n",
    "    y = data.Y_test[tg]\n",
    "    if x is not None:\n",
    "        zip_model = sm.ZeroInflatedPoisson(endog=y, exog=x, exog_infl=x, inflation='logit').fit(maxiter=200)\n",
    "        # print(zip_model.summary())\n",
    "        zip_models[tg] = zip_model\n",
    "        # TODO: Evaluate fit\n",
    "    else:\n",
    "        print('There is no data available for this treatment grop.')\n",
    "    print()"
   ]
  },
  {
   "cell_type": "code",
   "execution_count": null,
   "metadata": {},
   "outputs": [],
   "source": [
    "# Calculate the average treatment effect between pairwise treatment groups\n",
    "\n",
    "# calculate_pairwise_ate(zip_models, data.X_test_scaled)\n",
    "\n",
    "for tg1, tg2 in list(itertools.combinations(zip_models.keys(), 2)):\n",
    "    print('Comparing treatment groups ' + str(tg1) + ' and ' + str(tg2) + '.')\n",
    "    m_1 = zip_models[tg1]\n",
    "    m_2 = zip_models[tg2]\n",
    "\n",
    "    x1 = data.X_test_scaled[tg1]\n",
    "    x2 = data.X_test_scaled[tg2]\n",
    "\n",
    "    x = pd.concat([x1, x2])\n",
    "    \n",
    "    ate = np.mean(m_1.predict(x, exog_infl=x) - m_2.predict(x, exog_infl=x))\n",
    "\n",
    "    print('The ATE is ' + str(round(ate, 2)) + '.')"
   ]
  }
 ],
 "metadata": {
  "kernelspec": {
   "display_name": "Python 3",
   "language": "python",
   "name": "python3"
  },
  "language_info": {
   "codemirror_mode": {
    "name": "ipython",
    "version": 3
   },
   "file_extension": ".py",
   "mimetype": "text/x-python",
   "name": "python",
   "nbconvert_exporter": "python",
   "pygments_lexer": "ipython3",
   "version": "3.8.5"
  }
 },
 "nbformat": 4,
 "nbformat_minor": 4
}
