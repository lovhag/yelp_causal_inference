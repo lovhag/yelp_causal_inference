{
 "metadata": {
  "language_info": {
   "codemirror_mode": {
    "name": "ipython",
    "version": 3
   },
   "file_extension": ".py",
   "mimetype": "text/x-python",
   "name": "python",
   "nbconvert_exporter": "python",
   "pygments_lexer": "ipython3",
   "version": "3.8.6-final"
  },
  "orig_nbformat": 2,
  "kernelspec": {
   "name": "Python 3.8.6 64-bit ('dl4nlp_assignment_1_BERT_env': venv)",
   "display_name": "Python 3.8.6 64-bit ('dl4nlp_assignment_1_BERT_env': venv)",
   "metadata": {
    "interpreter": {
     "hash": "ce84788798bca09e1ddbb5d7fec4d31e4297ac54712761acb10c0e86e265aaec"
    }
   }
  }
 },
 "nbformat": 4,
 "nbformat_minor": 2,
 "cells": [
  {
   "source": [
    "# Format the text data for processing"
   ],
   "cell_type": "markdown",
   "metadata": {}
  },
  {
   "cell_type": "code",
   "execution_count": 4,
   "metadata": {},
   "outputs": [],
   "source": [
    "import pandas as pd\n",
    "import spacy"
   ]
  },
  {
   "cell_type": "code",
   "execution_count": 90,
   "metadata": {},
   "outputs": [],
   "source": [
    "def save_data_to_file(data):\n",
    "    print(\"Given data with head:\")\n",
    "    print(data.head())\n",
    "    should_save = input(\"Do you wish to save it? (y/n): \")\n",
    "    if should_save == \"y\":\n",
    "        filename = input(\"Specify the filename to save to: \")\n",
    "        data.to_csv(filename, index=False)\n",
    "        print(\"Saved data!\")"
   ]
  },
  {
   "source": [
    "## Load the data"
   ],
   "cell_type": "markdown",
   "metadata": {}
  },
  {
   "cell_type": "code",
   "execution_count": 15,
   "metadata": {},
   "outputs": [
    {
     "output_type": "stream",
     "name": "stdout",
     "text": [
      "<class 'pandas.core.frame.DataFrame'>\nRangeIndex: 10129 entries, 0 to 10128\nData columns (total 8 columns):\n #   Column       Non-Null Count  Dtype         \n---  ------       --------------  -----         \n 0   user_id      10129 non-null  object        \n 1   business_id  10129 non-null  object        \n 2   stars        10129 non-null  int64         \n 3   useful       10129 non-null  int64         \n 4   text         10129 non-null  object        \n 5   date         10129 non-null  datetime64[ns]\n 6   text_length  10129 non-null  int64         \n 7   nbr_words    10129 non-null  int64         \ndtypes: datetime64[ns](1), int64(4), object(3)\nmemory usage: 633.2+ KB\n"
     ]
    },
    {
     "output_type": "execute_result",
     "data": {
      "text/plain": [
       "                  user_id             business_id  stars  useful  \\\n",
       "0  6PgdGb3HrZdsfl2GiULo8w  RESDUcs7fIiihp38-d6_6g      5       0   \n",
       "1  IS9yw8P2uAPBX6FNLLX4KA  RESDUcs7fIiihp38-d6_6g      4      39   \n",
       "2  uZdFsE_aHbFBChgN6Xa8tw  RESDUcs7fIiihp38-d6_6g      4       1   \n",
       "3  8ZWJNAEWsymXDzKx3B0tTQ  RESDUcs7fIiihp38-d6_6g      1       0   \n",
       "4  E0sm4Ve7ifanFYeQMcV8Eg  RESDUcs7fIiihp38-d6_6g      5       0   \n",
       "\n",
       "                                                text                date  \\\n",
       "0  After getting food poisoning at the Palms hote... 2012-12-04 03:10:18   \n",
       "1  \"A feast worthy of Gods\"\\n\\nBaccarnal Buffet i... 2014-01-17 00:50:50   \n",
       "2  The crab legs are better than the ones at Wick... 2015-06-08 18:03:09   \n",
       "3  Not worth it! Too salty food and expensive! Th... 2016-12-19 16:15:29   \n",
       "4  I would give this infinite stars if I could. M... 2015-07-28 07:13:17   \n",
       "\n",
       "   text_length  nbr_words  \n",
       "0          937        176  \n",
       "1         4975        940  \n",
       "2          671        131  \n",
       "3           92         18  \n",
       "4          333         63  "
      ],
      "text/html": "<div>\n<style scoped>\n    .dataframe tbody tr th:only-of-type {\n        vertical-align: middle;\n    }\n\n    .dataframe tbody tr th {\n        vertical-align: top;\n    }\n\n    .dataframe thead th {\n        text-align: right;\n    }\n</style>\n<table border=\"1\" class=\"dataframe\">\n  <thead>\n    <tr style=\"text-align: right;\">\n      <th></th>\n      <th>user_id</th>\n      <th>business_id</th>\n      <th>stars</th>\n      <th>useful</th>\n      <th>text</th>\n      <th>date</th>\n      <th>text_length</th>\n      <th>nbr_words</th>\n    </tr>\n  </thead>\n  <tbody>\n    <tr>\n      <th>0</th>\n      <td>6PgdGb3HrZdsfl2GiULo8w</td>\n      <td>RESDUcs7fIiihp38-d6_6g</td>\n      <td>5</td>\n      <td>0</td>\n      <td>After getting food poisoning at the Palms hote...</td>\n      <td>2012-12-04 03:10:18</td>\n      <td>937</td>\n      <td>176</td>\n    </tr>\n    <tr>\n      <th>1</th>\n      <td>IS9yw8P2uAPBX6FNLLX4KA</td>\n      <td>RESDUcs7fIiihp38-d6_6g</td>\n      <td>4</td>\n      <td>39</td>\n      <td>\"A feast worthy of Gods\"\\n\\nBaccarnal Buffet i...</td>\n      <td>2014-01-17 00:50:50</td>\n      <td>4975</td>\n      <td>940</td>\n    </tr>\n    <tr>\n      <th>2</th>\n      <td>uZdFsE_aHbFBChgN6Xa8tw</td>\n      <td>RESDUcs7fIiihp38-d6_6g</td>\n      <td>4</td>\n      <td>1</td>\n      <td>The crab legs are better than the ones at Wick...</td>\n      <td>2015-06-08 18:03:09</td>\n      <td>671</td>\n      <td>131</td>\n    </tr>\n    <tr>\n      <th>3</th>\n      <td>8ZWJNAEWsymXDzKx3B0tTQ</td>\n      <td>RESDUcs7fIiihp38-d6_6g</td>\n      <td>1</td>\n      <td>0</td>\n      <td>Not worth it! Too salty food and expensive! Th...</td>\n      <td>2016-12-19 16:15:29</td>\n      <td>92</td>\n      <td>18</td>\n    </tr>\n    <tr>\n      <th>4</th>\n      <td>E0sm4Ve7ifanFYeQMcV8Eg</td>\n      <td>RESDUcs7fIiihp38-d6_6g</td>\n      <td>5</td>\n      <td>0</td>\n      <td>I would give this infinite stars if I could. M...</td>\n      <td>2015-07-28 07:13:17</td>\n      <td>333</td>\n      <td>63</td>\n    </tr>\n  </tbody>\n</table>\n</div>"
     },
     "metadata": {},
     "execution_count": 15
    }
   ],
   "source": [
    "data = pd.read_csv('data/reviews_Bacchanal_Buffet.csv', parse_dates=['date'], lineterminator='\\n')\n",
    "data.info()\n",
    "data.head()"
   ]
  },
  {
   "source": [
    "## Format the data"
   ],
   "cell_type": "markdown",
   "metadata": {}
  },
  {
   "cell_type": "code",
   "execution_count": null,
   "metadata": {},
   "outputs": [],
   "source": [
    "spacy_parser = spacy.load('en')"
   ]
  },
  {
   "cell_type": "code",
   "execution_count": 69,
   "metadata": {},
   "outputs": [],
   "source": [
    "def get_lemmatized_text(text, parser, include_stopwords=True, include_non_alpha=True):\n",
    "    def should_include_token(token):\n",
    "        if token.lemma_.strip():\n",
    "            if not token.is_alpha and not include_non_alpha and not token.lemma_.strip()==\"$\":\n",
    "                return False\n",
    "            if token.is_stop and not include_stopwords:\n",
    "                return False\n",
    "            return True\n",
    "        return False\n",
    "\n",
    "    doc = parser(text)\n",
    "    lemmatized_text = \" \".join([token.lemma_.strip() for token in doc if should_include_token(token)])\n",
    "    return lemmatized_text"
   ]
  },
  {
   "cell_type": "code",
   "execution_count": null,
   "metadata": {},
   "outputs": [],
   "source": [
    "def get_text(text, parser, include_stopwords=True):\n",
    "    doc = parser(text)\n",
    "    if include_stopwords:\n",
    "        lemmatized_text = \" \".join([token.lemma_.strip() for token in doc if token.lemma_.strip()])\n",
    "    else:\n",
    "        lemmatized_text= \" \".join([token.lemma_.strip() for token in doc if (token.lemma_.strip() and not token.is_stop)])\n",
    "    return lemmatized_text"
   ]
  },
  {
   "cell_type": "code",
   "execution_count": 37,
   "metadata": {},
   "outputs": [
    {
     "output_type": "execute_result",
     "data": {
      "text/plain": [
       "'\"A feast worthy of Gods\"\\n\\nBaccarnal Buffet in Caesar Palace is consider the best buffet in the Las Vegas by most food critics   It rated highest in trip advisor and yelp for a buffet restaurant in Vegas.  I was only going to eat Buffet once in this trip, so I decided must try the best there is available.  My review is based on late breakfast and lunch during a non-holiday weekday.  Finding this place is confusing and take more than five minutes from the main entrance to get here, this is common in most buffet in the strip.  \\n\\nAdmission Price\\n*Breakfast (Monday - Friday, 7 a.m. - 11 a.m.): $25.99\\n*Brunch (Saturday - Sunday, 8 a.m. - 3 p.m.): $40.99\\n* Lunch (Monday - Friday, 11 a.m. - 3 p.m.): $32.99\\n* Dinner (Daily, 3 p.m. - 10 p.m.): $45.99 on weekdays, $50.99 on weekends \\n* Holiday expect to paid $10 more.\\n* Total Reward Card Holder gets $1 off.\\n* Price not included the 8.1% sales tax.\\n\\nAtmosphere\\nThe interior is similar to those of mid-level restaurant, they claim it cost 17 million that might not felt like it perhaps they included all the equipment and kitchen tools in to the cost.  There is a lot of seating, but do not count it those do not mean anything during dinner and weekend which can get full very quick.  The dessert section is separate counter from the rest of the food.\\n\\nCustomer Service\\nWe got assign an individual server, at first she was helpful but quickly kind of forgot our table.  This was not during a weekday lunch so is not busy; there is was still several table empty.  Imagine in dinner or weekend, the service might be worst. The nicest thing is that they did not enforce the 2 hours eating time limit as they normally do in a busy time.   During peak hours, you would need to get an estimated waiting time in a kiosk machine, \\n\\nBeverage\\nYou can to choose variety of juice and coffee.  Some yelper was right that the juice they serving were no longer freshly squeezed, but instead are concentrate and probably are pre-made package.  At this price tag, they should had keep the fresh juice instead of during the cheap way.  I was told that the Mexico Section would had fresh juice and Hocharta but never came out.\\n\\nBreakfast\\nThe item in the breakfast was the best part of the hot food section I think.  The typical American favorite food like Scramble Egg and Fried Chicken are just perfect in term of texture and flavor.  The dim sum was disappoint, it tasted like those cheap takeout place. \\n\\nSeafood\\nAt this price they don\\'t had crab leg for lunch, I heard Aria is the only in the strip serve cheaper.  I can settle with no crab leg as long the other item in the seafood make up for it.  However, it failed to impress me at all.  The got the jumbo shrimp cocktail, looks good but tasted plain.  Probably the worst jumbo shrimp I\\'ve tasted.  The oyster was small and wasn\\'t much flavor either, lack freshness.  The smock salmon was not that great either, they got three version and all were no good.  Sushi was ok, I like the sushi rice it was authentic one, however the tuna wasn\\'t good.  But salmon was alright.  There was no specialty or hand roll here.\\n\\nNoodle Section\\nSkip this one, it was the worst section in the buffet I think.  They use pre-packed noodle, not even the good kind.  I try their Ramen, they use nissin kinds of noodle.  The broth was supposed to be Tonkotsu it tasted more like Shoyu.  There was tiny slice of chashu.  If they wanted to had this type of item, better get it right.  The pho was slight better but still no even close to the real Pho you can from any shop in L.A.\\n\\nMeat Section\\nI tried their sausage and beef ribs, it was mediocre at best.  The person that cutting the meat is cool with smile.  There was no lamb chop for lunch, but they do serve prime ribs. The best food in the hot section were the sliders, those were mouthwatering.   I should had get more of those.  I think the burger were prime meat it was extreme flavorful.  Actually, it tasted better than the Gordon Ramsey Hell Burger, which later I eat that night.  The made to order taco wasn\\'t good.  It tasted like king taco and other cheap taco place.\\n\\nDessert Section\\nThey dessert has variety of food but nothing really won me over except one item.  Their made to order crepes were the best dessert easily. Fresh and with the right texture, I added the ice cream which was heavenly match.  Their Crème brûlée was too watery.\\n\\nFruit and Salad\\nThey were pretty good in general, Large selection of salads.  You won\\'t get disappoint here.  Just wish they were more fruits.\\n\\nMy 2 Cents\\nTo be honest I am debating giving this 4 or 3 stars, I ended gave a four since there few dish were excellent and the best I had (Sliders, Crepes, Fried Chicken) .  But many other dish were average and even bad..  The price is the problem, they need to better quality and included more crab leg or lamb chop to worth the price.  I didn\\'t get any food sickness after eating here over 2 hours which is a good sigh that the food is prepare it right.'"
      ]
     },
     "metadata": {},
     "execution_count": 37
    }
   ],
   "source": [
    "data.iloc[1].text"
   ]
  },
  {
   "cell_type": "code",
   "execution_count": 66,
   "metadata": {},
   "outputs": [
    {
     "output_type": "execute_result",
     "data": {
      "text/plain": [
       "'\" a feast worthy of god \" Baccarnal Buffet in Caesar Palace be consider the good buffet in the Las Vegas by most food critic -PRON- rate highest in trip advisor and yelp for a buffet restaurant in Vegas . -PRON- be only go to eat Buffet once in this trip , so -PRON- decide must try the good there be available . -PRON- review be base on late breakfast and lunch during a non - holiday weekday . find this place be confusing and take more than five minute from the main entrance to get here , this be common in most buffet in the strip . Admission Price * Breakfast ( Monday - Friday , 7 a.m. - 11 a.m. ) : $ 25.99 * Brunch ( Saturday - Sunday , 8 a.m. - 3 p.m. ) : $ 40.99 * Lunch ( Monday - Friday , 11 a.m. - 3 p.m. ) : $ 32.99 * Dinner ( Daily , 3 p.m. - 10 p.m. ) : $ 45.99 on weekday , $ 50.99 on weekend * holiday expect to pay $ 10 more . * Total Reward Card Holder get $ 1 off . * price not include the 8.1 % sale tax . Atmosphere the interior be similar to those of mid - level restaurant , -PRON- claim -PRON- cost 17 million that may not feel like -PRON- perhaps -PRON- include all the equipment and kitchen tool in to the cost . there be a lot of seating , but do not count -PRON- those do not mean anything during dinner and weekend which can get full very quick . the dessert section be separate counter from the rest of the food . Customer Service -PRON- get assign an individual server , at first -PRON- be helpful but quickly kind of forget -PRON- table . this be not during a weekday lunch so be not busy ; there be be still several table empty . Imagine in dinner or weekend , the service may be worst . the nice thing be that -PRON- do not enforce the 2 hour eat time limit as -PRON- normally do in a busy time . during peak hour , -PRON- would need to get an estimate wait time in a kiosk machine , beverage -PRON- can to choose variety of juice and coffee . some yelper be right that the juice -PRON- serve be no long freshly squeeze , but instead be concentrate and probably be pre - make package . at this price tag , -PRON- should have keep the fresh juice instead of during the cheap way . -PRON- be tell that the Mexico Section would had fresh juice and Hocharta but never come out . Breakfast the item in the breakfast be the good part of the hot food section -PRON- think . the typical american favorite food like Scramble Egg and Fried Chicken be just perfect in term of texture and flavor . the dim sum be disappoint , -PRON- taste like those cheap takeout place . Seafood at this price -PRON- do not have crab leg for lunch , -PRON- hear Aria be the only in the strip serve cheap . -PRON- can settle with no crab leg as long the other item in the seafood make up for -PRON- . however , -PRON- fail to impress -PRON- at all . the get the jumbo shrimp cocktail , look good but taste plain . probably the bad jumbo shrimp -PRON- have taste . the oyster be small and be not much flavor either , lack freshness . the smock salmon be not that great either , -PRON- get three version and all be no good . Sushi be ok , -PRON- like the sushi rice -PRON- be authentic one , however the tuna be not good . but salmon be alright . there be no specialty or hand roll here . Noodle Section Skip this one , -PRON- be the bad section in the buffet -PRON- think . -PRON- use pre - packed noodle , not even the good kind . -PRON- try -PRON- raman , -PRON- use nissin kind of noodle . the broth be suppose to be Tonkotsu -PRON- taste more like Shoyu . there be tiny slice of chashu . if -PRON- want to had this type of item , well get -PRON- right . the pho be slight well but still no even close to the real Pho -PRON- can from any shop in L.A. Meat Section -PRON- try -PRON- sausage and beef rib , -PRON- be mediocre at good . the person that cut the meat be cool with smile . there be no lamb chop for lunch , but -PRON- do serve prime rib . the good food in the hot section be the slider , those be mouthwatere . -PRON- should have get more of those . -PRON- think the burger be prime meat -PRON- be extreme flavorful . actually , -PRON- taste well than the Gordon Ramsey Hell Burger , which later -PRON- eat that night . the make to order taco be not good . -PRON- taste like king taco and other cheap taco place . Dessert Section -PRON- dessert have variety of food but nothing really win -PRON- over except one item . -PRON- make to order crepe be the good dessert easily . fresh and with the right texture , -PRON- add the ice cream which be heavenly match . -PRON- Crème brûlée be too watery . Fruit and Salad -PRON- be pretty good in general , large selection of salad . -PRON- will not get disappoint here . just wish -PRON- be more fruit . -PRON- 2 cent to be honest -PRON- be debate give this 4 or 3 star , -PRON- end give a four since there few dish be excellent and the good -PRON- have ( Sliders , Crepes , Fried Chicken ) . but many other dish be average and even bad .. the price be the problem , -PRON- need to well quality and include more crab leg or lamb chop to worth the price . -PRON- do not get any food sickness after eat here over 2 hour which be a good sigh that the food be prepare -PRON- right .'"
      ]
     },
     "metadata": {},
     "execution_count": 66
    }
   ],
   "source": [
    "get_lemmatized_text(data.iloc[1].text, spacy_parser)"
   ]
  },
  {
   "cell_type": "code",
   "execution_count": 67,
   "metadata": {},
   "outputs": [
    {
     "output_type": "execute_result",
     "data": {
      "text/plain": [
       "'crab leg well one Wicked Spoon huge prawn . sheer selection insane . save room pasta , pizza , cheese sushi oink crab leg , prawn dessert . tonkatsu raman ok piece pork . $ 105 people Sunday brunch bottomless mimosas bloody mary . bloody mary disgust . come 2p kiosk get 3p dinner price . dessert pretty good . shave ice , crepe , black sesame green mint tea cream . taffy , gummy bear mini dessert .'"
      ]
     },
     "metadata": {},
     "execution_count": 67
    }
   ],
   "source": [
    "get_lemmatized_text(data.iloc[2].text, spacy_parser, include_stopwords=False)"
   ]
  },
  {
   "cell_type": "code",
   "execution_count": 73,
   "metadata": {},
   "outputs": [
    {
     "output_type": "execute_result",
     "data": {
      "text/plain": [
       "'feast worthy god Baccarnal Buffet Caesar Palace consider good buffet Las Vegas food critic rate highest trip advisor yelp buffet restaurant Vegas go eat Buffet trip decide try good available review base late breakfast lunch non holiday weekday find place confusing minute main entrance common buffet strip Admission Price Breakfast Monday Friday $ Brunch Saturday Sunday $ Lunch Monday Friday $ Dinner Daily $ weekday $ weekend holiday expect pay $ Total Reward Card Holder get $ price include sale tax Atmosphere interior similar mid level restaurant claim cost million feel like include equipment kitchen tool cost lot seating count mean dinner weekend quick dessert section separate counter rest food Customer Service get assign individual server helpful quickly kind forget table weekday lunch busy table Imagine dinner weekend service worst nice thing enforce hour eat time limit normally busy time peak hour need estimate wait time kiosk machine beverage choose variety juice coffee yelper right juice serve long freshly squeeze instead concentrate probably pre package price tag fresh juice instead cheap way tell Mexico Section fresh juice Hocharta come Breakfast item breakfast good hot food section think typical american favorite food like Scramble Egg Fried Chicken perfect term texture flavor dim sum disappoint taste like cheap takeout place Seafood price crab leg lunch hear Aria strip serve cheap settle crab leg long item seafood fail impress get jumbo shrimp cocktail look good taste plain probably bad jumbo shrimp taste oyster small flavor lack freshness smock salmon great get version good Sushi ok like sushi rice authentic tuna good salmon alright specialty hand roll Noodle Section Skip bad section buffet think use pre packed noodle good kind try raman use nissin kind noodle broth suppose Tonkotsu taste like Shoyu tiny slice chashu want type item well right pho slight well close real Pho shop Meat Section try sausage beef rib mediocre good person cut meat cool smile lamb chop lunch serve prime rib good food hot section slider mouthwatere think burger prime meat extreme flavorful actually taste well Gordon Ramsey Hell Burger later eat night order taco good taste like king taco cheap taco place Dessert Section dessert variety food win item order crepe good dessert easily fresh right texture add ice cream heavenly match Crème brûlée watery Fruit Salad pretty good general large selection salad will disappoint wish fruit cent honest debate give star end give dish excellent good Sliders Crepes Fried Chicken dish average bad price problem need well quality include crab leg lamb chop worth price food sickness eat hour good sigh food prepare right'"
      ]
     },
     "metadata": {},
     "execution_count": 73
    }
   ],
   "source": [
    "get_lemmatized_text(data.iloc[1].text, spacy_parser, include_stopwords=False, include_non_alpha=False)"
   ]
  },
  {
   "cell_type": "code",
   "execution_count": 74,
   "metadata": {},
   "outputs": [],
   "source": [
    "def get_lemmatized_text_data(data, text_col, parser, include_stopwords=True, include_non_alpha=True):\n",
    "    lemmatized_text = data[text_col].apply(lambda x: get_lemmatized_text(x, parser, include_stopwords, include_non_alpha))\n",
    "    return lemmatized_text"
   ]
  },
  {
   "cell_type": "code",
   "execution_count": 75,
   "metadata": {},
   "outputs": [
    {
     "output_type": "execute_result",
     "data": {
      "text/plain": [
       "                  user_id             business_id  stars  useful  \\\n",
       "0  6PgdGb3HrZdsfl2GiULo8w  RESDUcs7fIiihp38-d6_6g      5       0   \n",
       "1  IS9yw8P2uAPBX6FNLLX4KA  RESDUcs7fIiihp38-d6_6g      4      39   \n",
       "2  uZdFsE_aHbFBChgN6Xa8tw  RESDUcs7fIiihp38-d6_6g      4       1   \n",
       "3  8ZWJNAEWsymXDzKx3B0tTQ  RESDUcs7fIiihp38-d6_6g      1       0   \n",
       "4  E0sm4Ve7ifanFYeQMcV8Eg  RESDUcs7fIiihp38-d6_6g      5       0   \n",
       "\n",
       "                                                text                date  \\\n",
       "0  After getting food poisoning at the Palms hote... 2012-12-04 03:10:18   \n",
       "1  \"A feast worthy of Gods\"\\n\\nBaccarnal Buffet i... 2014-01-17 00:50:50   \n",
       "2  The crab legs are better than the ones at Wick... 2015-06-08 18:03:09   \n",
       "3  Not worth it! Too salty food and expensive! Th... 2016-12-19 16:15:29   \n",
       "4  I would give this infinite stars if I could. M... 2015-07-28 07:13:17   \n",
       "\n",
       "   text_length  nbr_words                                    lemmatized_text  \n",
       "0          937        176  get food poisoning Palms hotel scared eat buff...  \n",
       "1         4975        940  feast worthy god Baccarnal Buffet Caesar Palac...  \n",
       "2          671        131  crab leg well one Wicked Spoon huge prawn shee...  \n",
       "3           92         18  worth salty food expensive furst kast visit bu...  \n",
       "4          333         63  infinite star family diamond card Caesars Pala...  "
      ],
      "text/html": "<div>\n<style scoped>\n    .dataframe tbody tr th:only-of-type {\n        vertical-align: middle;\n    }\n\n    .dataframe tbody tr th {\n        vertical-align: top;\n    }\n\n    .dataframe thead th {\n        text-align: right;\n    }\n</style>\n<table border=\"1\" class=\"dataframe\">\n  <thead>\n    <tr style=\"text-align: right;\">\n      <th></th>\n      <th>user_id</th>\n      <th>business_id</th>\n      <th>stars</th>\n      <th>useful</th>\n      <th>text</th>\n      <th>date</th>\n      <th>text_length</th>\n      <th>nbr_words</th>\n      <th>lemmatized_text</th>\n    </tr>\n  </thead>\n  <tbody>\n    <tr>\n      <th>0</th>\n      <td>6PgdGb3HrZdsfl2GiULo8w</td>\n      <td>RESDUcs7fIiihp38-d6_6g</td>\n      <td>5</td>\n      <td>0</td>\n      <td>After getting food poisoning at the Palms hote...</td>\n      <td>2012-12-04 03:10:18</td>\n      <td>937</td>\n      <td>176</td>\n      <td>get food poisoning Palms hotel scared eat buff...</td>\n    </tr>\n    <tr>\n      <th>1</th>\n      <td>IS9yw8P2uAPBX6FNLLX4KA</td>\n      <td>RESDUcs7fIiihp38-d6_6g</td>\n      <td>4</td>\n      <td>39</td>\n      <td>\"A feast worthy of Gods\"\\n\\nBaccarnal Buffet i...</td>\n      <td>2014-01-17 00:50:50</td>\n      <td>4975</td>\n      <td>940</td>\n      <td>feast worthy god Baccarnal Buffet Caesar Palac...</td>\n    </tr>\n    <tr>\n      <th>2</th>\n      <td>uZdFsE_aHbFBChgN6Xa8tw</td>\n      <td>RESDUcs7fIiihp38-d6_6g</td>\n      <td>4</td>\n      <td>1</td>\n      <td>The crab legs are better than the ones at Wick...</td>\n      <td>2015-06-08 18:03:09</td>\n      <td>671</td>\n      <td>131</td>\n      <td>crab leg well one Wicked Spoon huge prawn shee...</td>\n    </tr>\n    <tr>\n      <th>3</th>\n      <td>8ZWJNAEWsymXDzKx3B0tTQ</td>\n      <td>RESDUcs7fIiihp38-d6_6g</td>\n      <td>1</td>\n      <td>0</td>\n      <td>Not worth it! Too salty food and expensive! Th...</td>\n      <td>2016-12-19 16:15:29</td>\n      <td>92</td>\n      <td>18</td>\n      <td>worth salty food expensive furst kast visit bu...</td>\n    </tr>\n    <tr>\n      <th>4</th>\n      <td>E0sm4Ve7ifanFYeQMcV8Eg</td>\n      <td>RESDUcs7fIiihp38-d6_6g</td>\n      <td>5</td>\n      <td>0</td>\n      <td>I would give this infinite stars if I could. M...</td>\n      <td>2015-07-28 07:13:17</td>\n      <td>333</td>\n      <td>63</td>\n      <td>infinite star family diamond card Caesars Pala...</td>\n    </tr>\n  </tbody>\n</table>\n</div>"
     },
     "metadata": {},
     "execution_count": 75
    }
   ],
   "source": [
    "data['lemmatized_text'] = get_lemmatized_text_data(data, \"text\", spacy_parser, False, False)\n",
    "data.head()"
   ]
  },
  {
   "cell_type": "code",
   "execution_count": 79,
   "metadata": {},
   "outputs": [
    {
     "output_type": "stream",
     "name": "stdout",
     "text": [
      "ORIGINAL TEXT: \nThe crab legs are better than the ones at Wicked Spoon and they have huge prawns here.  The sheer selection was insane.  I didn't get to save any room for pasta, pizza, cheese or sushi because I was oinking out on the crab legs, prawns and dessert.  The tonkatsu ramen is ok and had a piece of pork in it.\n\nIt's $105 for two people for Sunday brunch with bottomless mimosas and bloody marys.  The bloody marys were disgusting.  We came around 2p at the kiosk and got in before 3p when they up the dinner prices.  \n\nThe dessert was pretty good.  They have shaved ice, crepes, black sesame and green mint tea cream.  They also have taffy, gummy bears and the mini desserts.\n\nPROCESSED TEXT:\ncrab leg well one Wicked Spoon huge prawn sheer selection insane save room pasta pizza cheese sushi oink crab leg prawn dessert tonkatsu raman ok piece pork $ people Sunday brunch bottomless mimosas bloody mary bloody mary disgust come kiosk get dinner price dessert pretty good shave ice crepe black sesame green mint tea cream taffy gummy bear mini dessert\n"
     ]
    }
   ],
   "source": [
    "print(\"ORIGINAL TEXT: \")\n",
    "print(data.iloc[2].text)\n",
    "print(\"\")\n",
    "print(\"PROCESSED TEXT:\")\n",
    "print(data.iloc[2].lemmatized_text)"
   ]
  },
  {
   "cell_type": "code",
   "execution_count": 91,
   "metadata": {},
   "outputs": [
    {
     "output_type": "stream",
     "name": "stdout",
     "text": [
      "Given data with head:\n",
      "                  user_id             business_id  stars  useful  \\\n",
      "0  6PgdGb3HrZdsfl2GiULo8w  RESDUcs7fIiihp38-d6_6g      5       0   \n",
      "1  IS9yw8P2uAPBX6FNLLX4KA  RESDUcs7fIiihp38-d6_6g      4      39   \n",
      "2  uZdFsE_aHbFBChgN6Xa8tw  RESDUcs7fIiihp38-d6_6g      4       1   \n",
      "3  8ZWJNAEWsymXDzKx3B0tTQ  RESDUcs7fIiihp38-d6_6g      1       0   \n",
      "4  E0sm4Ve7ifanFYeQMcV8Eg  RESDUcs7fIiihp38-d6_6g      5       0   \n",
      "\n",
      "                                                text                date  \\\n",
      "0  After getting food poisoning at the Palms hote... 2012-12-04 03:10:18   \n",
      "1  \"A feast worthy of Gods\"\\n\\nBaccarnal Buffet i... 2014-01-17 00:50:50   \n",
      "2  The crab legs are better than the ones at Wick... 2015-06-08 18:03:09   \n",
      "3  Not worth it! Too salty food and expensive! Th... 2016-12-19 16:15:29   \n",
      "4  I would give this infinite stars if I could. M... 2015-07-28 07:13:17   \n",
      "\n",
      "   text_length  nbr_words                                    lemmatized_text  \n",
      "0          937        176  get food poisoning Palms hotel scared eat buff...  \n",
      "1         4975        940  feast worthy god Baccarnal Buffet Caesar Palac...  \n",
      "2          671        131  crab leg well one Wicked Spoon huge prawn shee...  \n",
      "3           92         18  worth salty food expensive furst kast visit bu...  \n",
      "4          333         63  infinite star family diamond card Caesars Pala...  \n",
      "Saved data!\n"
     ]
    }
   ],
   "source": [
    "save_data_to_file(data)"
   ]
  },
  {
   "source": [
    "## Create a VOCABULARY"
   ],
   "cell_type": "markdown",
   "metadata": {}
  },
  {
   "cell_type": "code",
   "execution_count": 2,
   "metadata": {},
   "outputs": [],
   "source": [
    "import pandas as pd\n",
    "import help_functions"
   ]
  },
  {
   "cell_type": "code",
   "execution_count": 3,
   "metadata": {},
   "outputs": [],
   "source": [
    "def load_data_from_file(filename=None):\n",
    "    should_load = input(\"Do you wish to load data from a file? (y/n): \")\n",
    "    if should_load == \"y\":\n",
    "        if not filename:\n",
    "            filename = input(\"Specify the filename to load from: \")\n",
    "        data = pd.read_csv(filename, parse_dates=['date'], lineterminator='\\n')\n",
    "        return data"
   ]
  },
  {
   "cell_type": "code",
   "execution_count": 6,
   "metadata": {},
   "outputs": [
    {
     "output_type": "stream",
     "name": "stdout",
     "text": [
      "<class 'pandas.core.frame.DataFrame'>\nRangeIndex: 10123 entries, 0 to 10122\nData columns (total 9 columns):\n #   Column           Non-Null Count  Dtype         \n---  ------           --------------  -----         \n 0   user_id          10123 non-null  object        \n 1   business_id      10123 non-null  object        \n 2   stars            10123 non-null  int64         \n 3   useful           10123 non-null  int64         \n 4   text             10123 non-null  object        \n 5   date             10123 non-null  datetime64[ns]\n 6   text_length      10123 non-null  int64         \n 7   nbr_words        10123 non-null  int64         \n 8   lemmatized_text  10123 non-null  object        \ndtypes: datetime64[ns](1), int64(4), object(4)\nmemory usage: 711.9+ KB\n"
     ]
    },
    {
     "output_type": "execute_result",
     "data": {
      "text/plain": [
       "                  user_id             business_id  stars  useful  \\\n",
       "0  6PgdGb3HrZdsfl2GiULo8w  RESDUcs7fIiihp38-d6_6g      5       0   \n",
       "1  IS9yw8P2uAPBX6FNLLX4KA  RESDUcs7fIiihp38-d6_6g      4      39   \n",
       "2  uZdFsE_aHbFBChgN6Xa8tw  RESDUcs7fIiihp38-d6_6g      4       1   \n",
       "3  8ZWJNAEWsymXDzKx3B0tTQ  RESDUcs7fIiihp38-d6_6g      1       0   \n",
       "4  E0sm4Ve7ifanFYeQMcV8Eg  RESDUcs7fIiihp38-d6_6g      5       0   \n",
       "\n",
       "                                                text                date  \\\n",
       "0  After getting food poisoning at the Palms hote... 2012-12-04 03:10:18   \n",
       "1  \"A feast worthy of Gods\"\\n\\nBaccarnal Buffet i... 2014-01-17 00:50:50   \n",
       "2  The crab legs are better than the ones at Wick... 2015-06-08 18:03:09   \n",
       "3  Not worth it! Too salty food and expensive! Th... 2016-12-19 16:15:29   \n",
       "4  I would give this infinite stars if I could. M... 2015-07-28 07:13:17   \n",
       "\n",
       "   text_length  nbr_words                                    lemmatized_text  \n",
       "0          937        176  get food poisoning Palms hotel scared eat buff...  \n",
       "1         4975        940  feast worthy god Baccarnal Buffet Caesar Palac...  \n",
       "2          671        131  crab leg well one Wicked Spoon huge prawn shee...  \n",
       "3           92         18  worth salty food expensive furst kast visit bu...  \n",
       "4          333         63  infinite star family diamond card Caesars Pala...  "
      ],
      "text/html": "<div>\n<style scoped>\n    .dataframe tbody tr th:only-of-type {\n        vertical-align: middle;\n    }\n\n    .dataframe tbody tr th {\n        vertical-align: top;\n    }\n\n    .dataframe thead th {\n        text-align: right;\n    }\n</style>\n<table border=\"1\" class=\"dataframe\">\n  <thead>\n    <tr style=\"text-align: right;\">\n      <th></th>\n      <th>user_id</th>\n      <th>business_id</th>\n      <th>stars</th>\n      <th>useful</th>\n      <th>text</th>\n      <th>date</th>\n      <th>text_length</th>\n      <th>nbr_words</th>\n      <th>lemmatized_text</th>\n    </tr>\n  </thead>\n  <tbody>\n    <tr>\n      <th>0</th>\n      <td>6PgdGb3HrZdsfl2GiULo8w</td>\n      <td>RESDUcs7fIiihp38-d6_6g</td>\n      <td>5</td>\n      <td>0</td>\n      <td>After getting food poisoning at the Palms hote...</td>\n      <td>2012-12-04 03:10:18</td>\n      <td>937</td>\n      <td>176</td>\n      <td>get food poisoning Palms hotel scared eat buff...</td>\n    </tr>\n    <tr>\n      <th>1</th>\n      <td>IS9yw8P2uAPBX6FNLLX4KA</td>\n      <td>RESDUcs7fIiihp38-d6_6g</td>\n      <td>4</td>\n      <td>39</td>\n      <td>\"A feast worthy of Gods\"\\n\\nBaccarnal Buffet i...</td>\n      <td>2014-01-17 00:50:50</td>\n      <td>4975</td>\n      <td>940</td>\n      <td>feast worthy god Baccarnal Buffet Caesar Palac...</td>\n    </tr>\n    <tr>\n      <th>2</th>\n      <td>uZdFsE_aHbFBChgN6Xa8tw</td>\n      <td>RESDUcs7fIiihp38-d6_6g</td>\n      <td>4</td>\n      <td>1</td>\n      <td>The crab legs are better than the ones at Wick...</td>\n      <td>2015-06-08 18:03:09</td>\n      <td>671</td>\n      <td>131</td>\n      <td>crab leg well one Wicked Spoon huge prawn shee...</td>\n    </tr>\n    <tr>\n      <th>3</th>\n      <td>8ZWJNAEWsymXDzKx3B0tTQ</td>\n      <td>RESDUcs7fIiihp38-d6_6g</td>\n      <td>1</td>\n      <td>0</td>\n      <td>Not worth it! Too salty food and expensive! Th...</td>\n      <td>2016-12-19 16:15:29</td>\n      <td>92</td>\n      <td>18</td>\n      <td>worth salty food expensive furst kast visit bu...</td>\n    </tr>\n    <tr>\n      <th>4</th>\n      <td>E0sm4Ve7ifanFYeQMcV8Eg</td>\n      <td>RESDUcs7fIiihp38-d6_6g</td>\n      <td>5</td>\n      <td>0</td>\n      <td>I would give this infinite stars if I could. M...</td>\n      <td>2015-07-28 07:13:17</td>\n      <td>333</td>\n      <td>63</td>\n      <td>infinite star family diamond card Caesars Pala...</td>\n    </tr>\n  </tbody>\n</table>\n</div>"
     },
     "metadata": {},
     "execution_count": 6
    }
   ],
   "source": [
    "data = load_data_from_file(\"saved_data/lemmatized_reviews_Bacchanal_Buffet.csv\")\n",
    "data = data.dropna(axis=0)\n",
    "data.reset_index(inplace=True, drop=True)\n",
    "data.info()\n",
    "data.head()"
   ]
  },
  {
   "cell_type": "code",
   "execution_count": 8,
   "metadata": {},
   "outputs": [
    {
     "output_type": "execute_result",
     "data": {
      "text/plain": [
       "522"
      ]
     },
     "metadata": {},
     "execution_count": 8
    }
   ],
   "source": [
    "voc = help_functions.Vocabulary(min_word_freq=200, lower=True)\n",
    "voc.build(data.lemmatized_text.apply(lambda x: x.split(\" \")))\n",
    "len(voc)"
   ]
  },
  {
   "source": [
    "## Create a term-document matrix"
   ],
   "cell_type": "markdown",
   "metadata": {}
  },
  {
   "cell_type": "code",
   "execution_count": 7,
   "metadata": {},
   "outputs": [
    {
     "output_type": "execute_result",
     "data": {
      "text/plain": [
       "'feast worthy god Baccarnal Buffet Caesar Palace consider good buffet Las Vegas food critic rate highest trip advisor yelp buffet restaurant Vegas go eat Buffet trip decide try good available review base late breakfast lunch non holiday weekday find place confusing minute main entrance common buffet strip Admission Price Breakfast Monday Friday $ Brunch Saturday Sunday $ Lunch Monday Friday $ Dinner Daily $ weekday $ weekend holiday expect pay $ Total Reward Card Holder get $ price include sale tax Atmosphere interior similar mid level restaurant claim cost million feel like include equipment kitchen tool cost lot seating count mean dinner weekend quick dessert section separate counter rest food Customer Service get assign individual server helpful quickly kind forget table weekday lunch busy table Imagine dinner weekend service worst nice thing enforce hour eat time limit normally busy time peak hour need estimate wait time kiosk machine beverage choose variety juice coffee yelper right juice serve long freshly squeeze instead concentrate probably pre package price tag fresh juice instead cheap way tell Mexico Section fresh juice Hocharta come Breakfast item breakfast good hot food section think typical american favorite food like Scramble Egg Fried Chicken perfect term texture flavor dim sum disappoint taste like cheap takeout place Seafood price crab leg lunch hear Aria strip serve cheap settle crab leg long item seafood fail impress get jumbo shrimp cocktail look good taste plain probably bad jumbo shrimp taste oyster small flavor lack freshness smock salmon great get version good Sushi ok like sushi rice authentic tuna good salmon alright specialty hand roll Noodle Section Skip bad section buffet think use pre packed noodle good kind try raman use nissin kind noodle broth suppose Tonkotsu taste like Shoyu tiny slice chashu want type item well right pho slight well close real Pho shop Meat Section try sausage beef rib mediocre good person cut meat cool smile lamb chop lunch serve prime rib good food hot section slider mouthwatere think burger prime meat extreme flavorful actually taste well Gordon Ramsey Hell Burger later eat night order taco good taste like king taco cheap taco place Dessert Section dessert variety food win item order crepe good dessert easily fresh right texture add ice cream heavenly match Crème brûlée watery Fruit Salad pretty good general large selection salad will disappoint wish fruit cent honest debate give star end give dish excellent good Sliders Crepes Fried Chicken dish average bad price problem need well quality include crab leg lamb chop worth price food sickness eat hour good sigh food prepare right'"
      ]
     },
     "metadata": {},
     "execution_count": 7
    }
   ],
   "source": [
    "data.iloc[1].lemmatized_text"
   ]
  },
  {
   "cell_type": "code",
   "execution_count": 54,
   "metadata": {},
   "outputs": [
    {
     "output_type": "execute_result",
     "data": {
      "text/plain": [
       "<module 'help_functions' from '/Users/lovhag/Projects/yelp_causal_inference/help_functions.py'>"
      ]
     },
     "metadata": {},
     "execution_count": 54
    }
   ],
   "source": [
    "import importlib\n",
    "importlib.reload(help_functions)"
   ]
  },
  {
   "cell_type": "code",
   "execution_count": 53,
   "metadata": {},
   "outputs": [
    {
     "output_type": "execute_result",
     "data": {
      "text/plain": [
       "'crab leg well one Wicked Spoon huge prawn sheer selection insane save room pasta pizza cheese sushi oink crab leg prawn dessert tonkatsu raman ok piece pork $ people Sunday brunch bottomless mimosas bloody mary bloody mary disgust come kiosk get dinner price dessert pretty good shave ice crepe black sesame green mint tea cream taffy gummy bear mini dessert'"
      ]
     },
     "metadata": {},
     "execution_count": 53
    }
   ],
   "source": [
    "data.iloc[2].lemmatized_text"
   ]
  },
  {
   "cell_type": "code",
   "execution_count": 9,
   "metadata": {},
   "outputs": [
    {
     "output_type": "execute_result",
     "data": {
      "text/plain": [
       "   buffet  food  good  wait  line  time  crab  dessert  $  like  ...  kid  \\\n",
       "0       1     1     1     0     4     0     0        0  0     0  ...    0   \n",
       "1       6     8    14     1     0     3     3        4  7     6  ...    0   \n",
       "2       0     0     1     0     0     0     2        3  1     0  ...    0   \n",
       "3       1     1     0     0     0     0     0        0  0     0  ...    0   \n",
       "4       1     2     0     1     1     0     1        0  0     0  ...    0   \n",
       "\n",
       "   boil  value  seating  orange  counter  cool  blow  omg  monday  \n",
       "0     0      0        0       0        0     0     0    0       0  \n",
       "1     0      0        1       0        1     1     0    0       2  \n",
       "2     0      0        0       0        0     0     0    0       0  \n",
       "3     0      0        0       0        0     0     0    0       0  \n",
       "4     0      0        0       0        0     0     0    0       0  \n",
       "\n",
       "[5 rows x 522 columns]"
      ],
      "text/html": "<div>\n<style scoped>\n    .dataframe tbody tr th:only-of-type {\n        vertical-align: middle;\n    }\n\n    .dataframe tbody tr th {\n        vertical-align: top;\n    }\n\n    .dataframe thead th {\n        text-align: right;\n    }\n</style>\n<table border=\"1\" class=\"dataframe\">\n  <thead>\n    <tr style=\"text-align: right;\">\n      <th></th>\n      <th>buffet</th>\n      <th>food</th>\n      <th>good</th>\n      <th>wait</th>\n      <th>line</th>\n      <th>time</th>\n      <th>crab</th>\n      <th>dessert</th>\n      <th>$</th>\n      <th>like</th>\n      <th>...</th>\n      <th>kid</th>\n      <th>boil</th>\n      <th>value</th>\n      <th>seating</th>\n      <th>orange</th>\n      <th>counter</th>\n      <th>cool</th>\n      <th>blow</th>\n      <th>omg</th>\n      <th>monday</th>\n    </tr>\n  </thead>\n  <tbody>\n    <tr>\n      <th>0</th>\n      <td>1</td>\n      <td>1</td>\n      <td>1</td>\n      <td>0</td>\n      <td>4</td>\n      <td>0</td>\n      <td>0</td>\n      <td>0</td>\n      <td>0</td>\n      <td>0</td>\n      <td>...</td>\n      <td>0</td>\n      <td>0</td>\n      <td>0</td>\n      <td>0</td>\n      <td>0</td>\n      <td>0</td>\n      <td>0</td>\n      <td>0</td>\n      <td>0</td>\n      <td>0</td>\n    </tr>\n    <tr>\n      <th>1</th>\n      <td>6</td>\n      <td>8</td>\n      <td>14</td>\n      <td>1</td>\n      <td>0</td>\n      <td>3</td>\n      <td>3</td>\n      <td>4</td>\n      <td>7</td>\n      <td>6</td>\n      <td>...</td>\n      <td>0</td>\n      <td>0</td>\n      <td>0</td>\n      <td>1</td>\n      <td>0</td>\n      <td>1</td>\n      <td>1</td>\n      <td>0</td>\n      <td>0</td>\n      <td>2</td>\n    </tr>\n    <tr>\n      <th>2</th>\n      <td>0</td>\n      <td>0</td>\n      <td>1</td>\n      <td>0</td>\n      <td>0</td>\n      <td>0</td>\n      <td>2</td>\n      <td>3</td>\n      <td>1</td>\n      <td>0</td>\n      <td>...</td>\n      <td>0</td>\n      <td>0</td>\n      <td>0</td>\n      <td>0</td>\n      <td>0</td>\n      <td>0</td>\n      <td>0</td>\n      <td>0</td>\n      <td>0</td>\n      <td>0</td>\n    </tr>\n    <tr>\n      <th>3</th>\n      <td>1</td>\n      <td>1</td>\n      <td>0</td>\n      <td>0</td>\n      <td>0</td>\n      <td>0</td>\n      <td>0</td>\n      <td>0</td>\n      <td>0</td>\n      <td>0</td>\n      <td>...</td>\n      <td>0</td>\n      <td>0</td>\n      <td>0</td>\n      <td>0</td>\n      <td>0</td>\n      <td>0</td>\n      <td>0</td>\n      <td>0</td>\n      <td>0</td>\n      <td>0</td>\n    </tr>\n    <tr>\n      <th>4</th>\n      <td>1</td>\n      <td>2</td>\n      <td>0</td>\n      <td>1</td>\n      <td>1</td>\n      <td>0</td>\n      <td>1</td>\n      <td>0</td>\n      <td>0</td>\n      <td>0</td>\n      <td>...</td>\n      <td>0</td>\n      <td>0</td>\n      <td>0</td>\n      <td>0</td>\n      <td>0</td>\n      <td>0</td>\n      <td>0</td>\n      <td>0</td>\n      <td>0</td>\n      <td>0</td>\n    </tr>\n  </tbody>\n</table>\n<p>5 rows × 522 columns</p>\n</div>"
     },
     "metadata": {},
     "execution_count": 9
    }
   ],
   "source": [
    "word_occurence_dict = voc.build_word_occurence_dict(data.lemmatized_text.to_list())\n",
    "word_occurence_data = pd.DataFrame(word_occurence_dict)\n",
    "word_occurence_data.head()"
   ]
  },
  {
   "cell_type": "code",
   "execution_count": 10,
   "metadata": {},
   "outputs": [
    {
     "output_type": "stream",
     "name": "stdout",
     "text": [
      "<class 'pandas.core.frame.DataFrame'>\nRangeIndex: 10123 entries, 0 to 10122\nColumns: 522 entries, buffet to monday\ndtypes: int64(522)\nmemory usage: 40.3 MB\n"
     ]
    }
   ],
   "source": [
    "word_occurence_data.info()"
   ]
  },
  {
   "cell_type": "code",
   "execution_count": 11,
   "metadata": {},
   "outputs": [
    {
     "output_type": "execute_result",
     "data": {
      "text/plain": [
       "Index([], dtype='object')"
      ]
     },
     "metadata": {},
     "execution_count": 11
    }
   ],
   "source": [
    "word_occurence_data.columns[word_occurence_data.sum()==0]"
   ]
  },
  {
   "cell_type": "code",
   "execution_count": 85,
   "metadata": {},
   "outputs": [
    {
     "output_type": "execute_result",
     "data": {
      "text/plain": [
       "buffet     17206\n",
       "food       12902\n",
       "good       11453\n",
       "wait        6791\n",
       "line        6576\n",
       "           ...  \n",
       "counter      203\n",
       "cool         203\n",
       "blow         203\n",
       "omg          200\n",
       "monday       200\n",
       "Length: 522, dtype: int64"
      ]
     },
     "metadata": {},
     "execution_count": 85
    }
   ],
   "source": [
    "word_occurence_data.sum()"
   ]
  },
  {
   "source": [
    "## SAVE THE TERM DOCUMENT MATRIX"
   ],
   "cell_type": "markdown",
   "metadata": {}
  },
  {
   "cell_type": "code",
   "execution_count": 9,
   "metadata": {},
   "outputs": [
    {
     "output_type": "stream",
     "name": "stdout",
     "text": [
      "Data saved!\n"
     ]
    }
   ],
   "source": [
    "should_save_data = input(\"Do you wish to save the df_tdm data? (y/n): \")\n",
    "if should_save_data == \"y\":\n",
    "    df_tdm.to_csv('saved_data/X_lemmatized.csv', index=False)\n",
    "    data['useful'].to_csv('saved_data/Y_lemmatized.csv', index=False)\n",
    "    print(\"Data saved!\")"
   ]
  },
  {
   "cell_type": "code",
   "execution_count": 86,
   "metadata": {},
   "outputs": [
    {
     "output_type": "stream",
     "name": "stdout",
     "text": [
      "Data saved!\n"
     ]
    }
   ],
   "source": [
    "should_save_data = input(\"Do you wish to save the word_occurence_data data? (y/n): \")\n",
    "if should_save_data == \"y\":\n",
    "    word_occurence_data.to_csv('saved_data/X_lemmatized.csv', index=False)\n",
    "    data['useful'].to_csv('saved_data/Y_lemmatized.csv', index=False)\n",
    "    print(\"Data saved!\")"
   ]
  }
 ]
}