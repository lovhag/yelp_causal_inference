{
 "metadata": {
  "language_info": {
   "codemirror_mode": {
    "name": "ipython",
    "version": 3
   },
   "file_extension": ".py",
   "mimetype": "text/x-python",
   "name": "python",
   "nbconvert_exporter": "python",
   "pygments_lexer": "ipython3",
   "version": "3.7.1-final"
  },
  "orig_nbformat": 2,
  "kernelspec": {
   "name": "python_defaultSpec_1600927099648",
   "display_name": "Python 3.7.1 64-bit ('causal_project': conda)"
  }
 },
 "nbformat": 4,
 "nbformat_minor": 2,
 "cells": [
  {
   "source": [
    "# Yelp Dataset Analysis"
   ],
   "cell_type": "markdown",
   "metadata": {}
  },
  {
   "cell_type": "code",
   "execution_count": 9,
   "metadata": {},
   "outputs": [],
   "source": [
    "import load_data_functions\n",
    "import pandas as pd"
   ]
  },
  {
   "source": [
    "## Extract business data"
   ],
   "cell_type": "markdown",
   "metadata": {}
  },
  {
   "source": [
    "The business data contains a total of 209,393 businesses."
   ],
   "cell_type": "markdown",
   "metadata": {}
  },
  {
   "cell_type": "code",
   "execution_count": 10,
   "metadata": {
    "tags": []
   },
   "outputs": [
    {
     "output_type": "execute_result",
     "data": {
      "text/plain": "              business_id                      name             city stars  \\\n0  f9NumwFMBDn751xgFiRbNA  The Range At Lake Norman        Cornelius   3.5   \n1  Yzvjg0SayhoZgCljUJRF9Q         Carlos Santo, NMD       Scottsdale   5.0   \n2  XNoUzKckATkOD1hP6vghZg                   Felinus         Montreal   5.0   \n3  6OAZjbxqM5ol29BuHsil3w      Nevada House of Hose  North Las Vegas   2.5   \n4  51M2Kk903DFYI6gnB5I6SQ   USE MY GUY SERVICES LLC             Mesa   4.5   \n\n   review_count                                         categories  \n0            36  Active Life, Gun/Rifle Ranges, Guns & Ammo, Sh...  \n1             4  Health & Medical, Fitness & Instruction, Yoga,...  \n2             5                   Pets, Pet Services, Pet Groomers  \n3             3  Hardware Stores, Home Services, Building Suppl...  \n4            26  Home Services, Plumbing, Electricians, Handyma...  ",
      "text/html": "<div>\n<style scoped>\n    .dataframe tbody tr th:only-of-type {\n        vertical-align: middle;\n    }\n\n    .dataframe tbody tr th {\n        vertical-align: top;\n    }\n\n    .dataframe thead th {\n        text-align: right;\n    }\n</style>\n<table border=\"1\" class=\"dataframe\">\n  <thead>\n    <tr style=\"text-align: right;\">\n      <th></th>\n      <th>business_id</th>\n      <th>name</th>\n      <th>city</th>\n      <th>stars</th>\n      <th>review_count</th>\n      <th>categories</th>\n    </tr>\n  </thead>\n  <tbody>\n    <tr>\n      <th>0</th>\n      <td>f9NumwFMBDn751xgFiRbNA</td>\n      <td>The Range At Lake Norman</td>\n      <td>Cornelius</td>\n      <td>3.5</td>\n      <td>36</td>\n      <td>Active Life, Gun/Rifle Ranges, Guns &amp; Ammo, Sh...</td>\n    </tr>\n    <tr>\n      <th>1</th>\n      <td>Yzvjg0SayhoZgCljUJRF9Q</td>\n      <td>Carlos Santo, NMD</td>\n      <td>Scottsdale</td>\n      <td>5.0</td>\n      <td>4</td>\n      <td>Health &amp; Medical, Fitness &amp; Instruction, Yoga,...</td>\n    </tr>\n    <tr>\n      <th>2</th>\n      <td>XNoUzKckATkOD1hP6vghZg</td>\n      <td>Felinus</td>\n      <td>Montreal</td>\n      <td>5.0</td>\n      <td>5</td>\n      <td>Pets, Pet Services, Pet Groomers</td>\n    </tr>\n    <tr>\n      <th>3</th>\n      <td>6OAZjbxqM5ol29BuHsil3w</td>\n      <td>Nevada House of Hose</td>\n      <td>North Las Vegas</td>\n      <td>2.5</td>\n      <td>3</td>\n      <td>Hardware Stores, Home Services, Building Suppl...</td>\n    </tr>\n    <tr>\n      <th>4</th>\n      <td>51M2Kk903DFYI6gnB5I6SQ</td>\n      <td>USE MY GUY SERVICES LLC</td>\n      <td>Mesa</td>\n      <td>4.5</td>\n      <td>26</td>\n      <td>Home Services, Plumbing, Electricians, Handyma...</td>\n    </tr>\n  </tbody>\n</table>\n</div>"
     },
     "metadata": {},
     "execution_count": 10
    }
   ],
   "source": [
    "df_business = load_data_functions.get_data_frame_from_file(filename=r\"C:\\Users\\lovis\\Projects\\Causal Project\\yelp_dataset\\yelp_academic_dataset_business.json\", fields=[\"business_id\",\"name\",\"city\",\"stars\",\"review_count\",\"categories\"], max_nbr_items=500000)\n",
    "df_business.head()"
   ]
  },
  {
   "cell_type": "code",
   "execution_count": 11,
   "metadata": {},
   "outputs": [],
   "source": [
    "df_business['stars'] = df_business.stars.astype('double')\n",
    "df_business['review_count'] = df_business.review_count.astype('int')"
   ]
  },
  {
   "cell_type": "code",
   "execution_count": 12,
   "metadata": {
    "tags": []
   },
   "outputs": [
    {
     "output_type": "stream",
     "name": "stdout",
     "text": "<class 'pandas.core.frame.DataFrame'>\nRangeIndex: 209393 entries, 0 to 209392\nData columns (total 6 columns):\n #   Column        Non-Null Count   Dtype  \n---  ------        --------------   -----  \n 0   business_id   209393 non-null  object \n 1   name          209393 non-null  object \n 2   city          209393 non-null  object \n 3   stars         209393 non-null  float64\n 4   review_count  209393 non-null  int32  \n 5   categories    208869 non-null  object \ndtypes: float64(1), int32(1), object(4)\nmemory usage: 8.8+ MB\n"
    }
   ],
   "source": [
    "df_business.info()"
   ]
  },
  {
   "source": [
    "The business with the maximum number of reviews."
   ],
   "cell_type": "markdown",
   "metadata": {}
  },
  {
   "cell_type": "code",
   "execution_count": 13,
   "metadata": {},
   "outputs": [
    {
     "output_type": "execute_result",
     "data": {
      "text/plain": "                  business_id              name       city  stars  \\\n81545  RESDUcs7fIiihp38-d6_6g  Bacchanal Buffet  Las Vegas    4.0   \n\n       review_count                                         categories  \n81545         10129  Sandwiches, Breakfast & Brunch, Food, Restaura...  ",
      "text/html": "<div>\n<style scoped>\n    .dataframe tbody tr th:only-of-type {\n        vertical-align: middle;\n    }\n\n    .dataframe tbody tr th {\n        vertical-align: top;\n    }\n\n    .dataframe thead th {\n        text-align: right;\n    }\n</style>\n<table border=\"1\" class=\"dataframe\">\n  <thead>\n    <tr style=\"text-align: right;\">\n      <th></th>\n      <th>business_id</th>\n      <th>name</th>\n      <th>city</th>\n      <th>stars</th>\n      <th>review_count</th>\n      <th>categories</th>\n    </tr>\n  </thead>\n  <tbody>\n    <tr>\n      <th>81545</th>\n      <td>RESDUcs7fIiihp38-d6_6g</td>\n      <td>Bacchanal Buffet</td>\n      <td>Las Vegas</td>\n      <td>4.0</td>\n      <td>10129</td>\n      <td>Sandwiches, Breakfast &amp; Brunch, Food, Restaura...</td>\n    </tr>\n  </tbody>\n</table>\n</div>"
     },
     "metadata": {},
     "execution_count": 13
    }
   ],
   "source": [
    "df_business[df_business.review_count == df_business.review_count.max()]"
   ]
  },
  {
   "source": [
    "## Business 1\n",
    "We extract all of the businesses which are categorized as 'Hotels', and not 'Restaurants' to a dataset 'Business 1'."
   ],
   "cell_type": "markdown",
   "metadata": {}
  },
  {
   "cell_type": "code",
   "execution_count": 14,
   "metadata": {},
   "outputs": [
    {
     "output_type": "execute_result",
     "data": {
      "text/plain": "                  business_id                                          name  \\\n8909   _ZfjpSEO5ntk-1hbnwCR4g                                   Palms Place   \n11511  vnvQ0lD9MDje2DFde9PKQA  Elara by Hilton Grand Vacations -  Las Vegas   \n17985  p0iEUamJVp_QpaheE-Nz_g               South Point Hotel, Casino & Spa   \n18943  u_vPjx925UPEG9DFOAAvFQ             Flamingo Las Vegas Hotel & Casino   \n30491  SMPbvZLSMMb7KU76YNYMGg                          ARIA Resort & Casino   \n\n            city  stars  review_count  \\\n8909   Las Vegas    3.0          1027   \n11511  Las Vegas    3.5          1015   \n17985  Las Vegas    3.5          1818   \n18943  Las Vegas    2.5          3905   \n30491  Las Vegas    3.5          4580   \n\n                                              categories  \n8909   Casinos, Arts & Entertainment, Resorts, Hotels...  \n11511  Vacation Rentals, Hotels, Hotels & Travel, Eve...  \n17985  Active Life, Bowling, Cinema, Arts & Entertain...  \n18943  Arts & Entertainment, Casinos, Hotels, Hotels ...  \n30491  Arts & Entertainment, Hotels & Travel, Casinos...  ",
      "text/html": "<div>\n<style scoped>\n    .dataframe tbody tr th:only-of-type {\n        vertical-align: middle;\n    }\n\n    .dataframe tbody tr th {\n        vertical-align: top;\n    }\n\n    .dataframe thead th {\n        text-align: right;\n    }\n</style>\n<table border=\"1\" class=\"dataframe\">\n  <thead>\n    <tr style=\"text-align: right;\">\n      <th></th>\n      <th>business_id</th>\n      <th>name</th>\n      <th>city</th>\n      <th>stars</th>\n      <th>review_count</th>\n      <th>categories</th>\n    </tr>\n  </thead>\n  <tbody>\n    <tr>\n      <th>8909</th>\n      <td>_ZfjpSEO5ntk-1hbnwCR4g</td>\n      <td>Palms Place</td>\n      <td>Las Vegas</td>\n      <td>3.0</td>\n      <td>1027</td>\n      <td>Casinos, Arts &amp; Entertainment, Resorts, Hotels...</td>\n    </tr>\n    <tr>\n      <th>11511</th>\n      <td>vnvQ0lD9MDje2DFde9PKQA</td>\n      <td>Elara by Hilton Grand Vacations -  Las Vegas</td>\n      <td>Las Vegas</td>\n      <td>3.5</td>\n      <td>1015</td>\n      <td>Vacation Rentals, Hotels, Hotels &amp; Travel, Eve...</td>\n    </tr>\n    <tr>\n      <th>17985</th>\n      <td>p0iEUamJVp_QpaheE-Nz_g</td>\n      <td>South Point Hotel, Casino &amp; Spa</td>\n      <td>Las Vegas</td>\n      <td>3.5</td>\n      <td>1818</td>\n      <td>Active Life, Bowling, Cinema, Arts &amp; Entertain...</td>\n    </tr>\n    <tr>\n      <th>18943</th>\n      <td>u_vPjx925UPEG9DFOAAvFQ</td>\n      <td>Flamingo Las Vegas Hotel &amp; Casino</td>\n      <td>Las Vegas</td>\n      <td>2.5</td>\n      <td>3905</td>\n      <td>Arts &amp; Entertainment, Casinos, Hotels, Hotels ...</td>\n    </tr>\n    <tr>\n      <th>30491</th>\n      <td>SMPbvZLSMMb7KU76YNYMGg</td>\n      <td>ARIA Resort &amp; Casino</td>\n      <td>Las Vegas</td>\n      <td>3.5</td>\n      <td>4580</td>\n      <td>Arts &amp; Entertainment, Hotels &amp; Travel, Casinos...</td>\n    </tr>\n  </tbody>\n</table>\n</div>"
     },
     "metadata": {},
     "execution_count": 14
    }
   ],
   "source": [
    "df_business_1 = df_business[(df_business.review_count>1000) & (~df_business.categories.str.contains('Restaurants',regex=False,na=False)) & (df_business.categories.str.contains('Hotels',regex=False,na=False)) & (df_business.city=='Las Vegas')]\n",
    "df_business_1.head()"
   ]
  },
  {
   "source": [
    "### Review count\n",
    "The total number of reviews for the businesses in 'Business 1' are 65,235."
   ],
   "cell_type": "markdown",
   "metadata": {}
  },
  {
   "cell_type": "code",
   "execution_count": 15,
   "metadata": {},
   "outputs": [
    {
     "output_type": "execute_result",
     "data": {
      "text/plain": "65235"
     },
     "metadata": {},
     "execution_count": 15
    }
   ],
   "source": [
    "df_business_1.review_count.sum()"
   ]
  },
  {
   "source": [
    "### Most reviewed business\n",
    "The business in 'Business 1' with the most reviews is 'ARIA Resort & Casino'."
   ],
   "cell_type": "markdown",
   "metadata": {}
  },
  {
   "cell_type": "code",
   "execution_count": 16,
   "metadata": {},
   "outputs": [
    {
     "output_type": "execute_result",
     "data": {
      "text/plain": "                  business_id                  name       city  stars  \\\n30491  SMPbvZLSMMb7KU76YNYMGg  ARIA Resort & Casino  Las Vegas    3.5   \n\n       review_count                                         categories  \n30491          4580  Arts & Entertainment, Hotels & Travel, Casinos...  ",
      "text/html": "<div>\n<style scoped>\n    .dataframe tbody tr th:only-of-type {\n        vertical-align: middle;\n    }\n\n    .dataframe tbody tr th {\n        vertical-align: top;\n    }\n\n    .dataframe thead th {\n        text-align: right;\n    }\n</style>\n<table border=\"1\" class=\"dataframe\">\n  <thead>\n    <tr style=\"text-align: right;\">\n      <th></th>\n      <th>business_id</th>\n      <th>name</th>\n      <th>city</th>\n      <th>stars</th>\n      <th>review_count</th>\n      <th>categories</th>\n    </tr>\n  </thead>\n  <tbody>\n    <tr>\n      <th>30491</th>\n      <td>SMPbvZLSMMb7KU76YNYMGg</td>\n      <td>ARIA Resort &amp; Casino</td>\n      <td>Las Vegas</td>\n      <td>3.5</td>\n      <td>4580</td>\n      <td>Arts &amp; Entertainment, Hotels &amp; Travel, Casinos...</td>\n    </tr>\n  </tbody>\n</table>\n</div>"
     },
     "metadata": {},
     "execution_count": 16
    }
   ],
   "source": [
    "top_business_1 = df_business_1[df_business_1.review_count == df_business_1.review_count.max()]\n",
    "top_business_1"
   ]
  },
  {
   "source": [
    "### Save business ids of 'Business 1' to a csv file"
   ],
   "cell_type": "markdown",
   "metadata": {}
  },
  {
   "cell_type": "code",
   "execution_count": 42,
   "metadata": {
    "tags": []
   },
   "outputs": [
    {
     "output_type": "stream",
     "name": "stdout",
     "text": "8909      _ZfjpSEO5ntk-1hbnwCR4g\n11511     vnvQ0lD9MDje2DFde9PKQA\n17985     p0iEUamJVp_QpaheE-Nz_g\n18943     u_vPjx925UPEG9DFOAAvFQ\n30491     SMPbvZLSMMb7KU76YNYMGg\n33183     fWetLvfQXqpZcBQLHldUhA\n53030     WYw3Uf56DT5IwpaLNnCH5Q\n59274     na4Th5DrNauOv-c43QQFvA\n62235     e0CTLPxTnFEQSqQ1FJUqog\n64234     Az_60nNuh1FH8Ds8oasZjw\n76448     FaHADZARwnY4yvlvpnsfGA\n83279     BLIJ-p5wYuAhw6Pp6mh6mw\n87339     dWFUKB_HPBIE87AFBHEb_w\n90458     6Ct57qgmXwOnzfSZoUGh0Q\n96940     5iSmZO0SrKU6EoXK_1M8Kw\n101200    ZjSzUWHtnpCfjsa7CksSOg\n124063    o7AiTlyWUrBSzdz6oMHj5w\n129704    eEnNw3_hBvxcFHyr23kAuA\n130311    NY80DkkCfEl198JmwtO4pA\n132076    yhgUyctWczUN13MinNgZ3w\n134905    VyjyHoBg3KC5BSFRlD0ZPQ\n144733    hrhtWc8UcoZqYr2d7YPgEA\n145383    t-o_Sraneime4DDhWrQRBA\n149867    9SU7ZZhaFUJJ6m2k5HKHeg\n172561    g83WbX_recywc4DEIZ-xug\n183166    qjnJFZtsY_nfRzoL3J_UWQ\n189685    ThNGovQZjZ5mn-ZwX_N2BQ\n194036    XQETjKH84gxDrAiz2lH7Wg\nName: business_id, dtype: object\n"
    }
   ],
   "source": [
    "print(df_business_1.business_id)\n",
    "df_business_1.business_id.to_csv(r\"C:\\Users\\lovis\\Projects\\yelp_causal_inference\\data\\business_ids_Hotels.csv\", index=False)"
   ]
  },
  {
   "source": [
    "#"
   ],
   "cell_type": "markdown",
   "metadata": {}
  },
  {
   "source": [
    "## Business 2\n",
    "We extract all of the businesses which are categorized as 'Restaurants', and not 'Hotels' to a dataset 'Business 2'."
   ],
   "cell_type": "markdown",
   "metadata": {}
  },
  {
   "cell_type": "code",
   "execution_count": 22,
   "metadata": {},
   "outputs": [
    {
     "output_type": "execute_result",
     "data": {
      "text/plain": "                 business_id                         name       city  stars  \\\n246   AtD6B83S4Mbmq0t7iDnUVA                 Veggie House  Las Vegas    4.5   \n2575  7sb2FYLS2sejZKxRYF9mtg                       Sakana  Las Vegas    4.5   \n3653  rcaPajgKOJC2vo_l3xa42A                      Bouchon  Las Vegas    4.0   \n4030  lmxA0dJM0XsPCIHPXhEQ-g                     Sake Rok  Las Vegas    4.0   \n4269  e13SEvJud_vgeDR_doL4sQ  Hussong's Cantina Las Vegas  Las Vegas    4.0   \n\n      review_count                                         categories  \n246           1142  Restaurants, Specialty Food, Japanese, Sushi B...  \n2575          2529  Restaurants, Sushi Bars, Buffets, Japanese, Ba...  \n3653          4138  French, Cafes, Restaurants, Cocktail Bars, Nig...  \n4030          1110  Restaurants, Asian Fusion, Japanese, Bars, Sus...  \n4269          1050  Restaurants, Bars, Nightlife, Mexican, Burgers...  ",
      "text/html": "<div>\n<style scoped>\n    .dataframe tbody tr th:only-of-type {\n        vertical-align: middle;\n    }\n\n    .dataframe tbody tr th {\n        vertical-align: top;\n    }\n\n    .dataframe thead th {\n        text-align: right;\n    }\n</style>\n<table border=\"1\" class=\"dataframe\">\n  <thead>\n    <tr style=\"text-align: right;\">\n      <th></th>\n      <th>business_id</th>\n      <th>name</th>\n      <th>city</th>\n      <th>stars</th>\n      <th>review_count</th>\n      <th>categories</th>\n    </tr>\n  </thead>\n  <tbody>\n    <tr>\n      <th>246</th>\n      <td>AtD6B83S4Mbmq0t7iDnUVA</td>\n      <td>Veggie House</td>\n      <td>Las Vegas</td>\n      <td>4.5</td>\n      <td>1142</td>\n      <td>Restaurants, Specialty Food, Japanese, Sushi B...</td>\n    </tr>\n    <tr>\n      <th>2575</th>\n      <td>7sb2FYLS2sejZKxRYF9mtg</td>\n      <td>Sakana</td>\n      <td>Las Vegas</td>\n      <td>4.5</td>\n      <td>2529</td>\n      <td>Restaurants, Sushi Bars, Buffets, Japanese, Ba...</td>\n    </tr>\n    <tr>\n      <th>3653</th>\n      <td>rcaPajgKOJC2vo_l3xa42A</td>\n      <td>Bouchon</td>\n      <td>Las Vegas</td>\n      <td>4.0</td>\n      <td>4138</td>\n      <td>French, Cafes, Restaurants, Cocktail Bars, Nig...</td>\n    </tr>\n    <tr>\n      <th>4030</th>\n      <td>lmxA0dJM0XsPCIHPXhEQ-g</td>\n      <td>Sake Rok</td>\n      <td>Las Vegas</td>\n      <td>4.0</td>\n      <td>1110</td>\n      <td>Restaurants, Asian Fusion, Japanese, Bars, Sus...</td>\n    </tr>\n    <tr>\n      <th>4269</th>\n      <td>e13SEvJud_vgeDR_doL4sQ</td>\n      <td>Hussong's Cantina Las Vegas</td>\n      <td>Las Vegas</td>\n      <td>4.0</td>\n      <td>1050</td>\n      <td>Restaurants, Bars, Nightlife, Mexican, Burgers...</td>\n    </tr>\n  </tbody>\n</table>\n</div>"
     },
     "metadata": {},
     "execution_count": 22
    }
   ],
   "source": [
    "df_business_2 = df_business[(df_business.review_count>1000) & (df_business.categories.str.contains('Restaurants',regex=False,na=False)) & (~df_business.categories.str.contains('Hotels',regex=False,na=False)) & (df_business.city=='Las Vegas')]\n",
    "df_business_2.head()"
   ]
  },
  {
   "source": [
    "### Review count\n",
    "The total number of reviews for the businesses in 'Business 2' are 484,659."
   ],
   "cell_type": "markdown",
   "metadata": {}
  },
  {
   "cell_type": "code",
   "execution_count": 23,
   "metadata": {},
   "outputs": [
    {
     "output_type": "execute_result",
     "data": {
      "text/plain": "484659"
     },
     "metadata": {},
     "execution_count": 23
    }
   ],
   "source": [
    "df_business_2.review_count.sum()"
   ]
  },
  {
   "source": [
    "### Most reviewed business\n",
    "The business in 'Business 2' with the most reviews is 'Bacchanal Buffet'."
   ],
   "cell_type": "markdown",
   "metadata": {}
  },
  {
   "cell_type": "code",
   "execution_count": 49,
   "metadata": {},
   "outputs": [
    {
     "output_type": "execute_result",
     "data": {
      "text/plain": "                  business_id              name       city  stars  \\\n81545  RESDUcs7fIiihp38-d6_6g  Bacchanal Buffet  Las Vegas    4.0   \n\n       review_count                                         categories  \n81545         10129  Sandwiches, Breakfast & Brunch, Food, Restaura...  ",
      "text/html": "<div>\n<style scoped>\n    .dataframe tbody tr th:only-of-type {\n        vertical-align: middle;\n    }\n\n    .dataframe tbody tr th {\n        vertical-align: top;\n    }\n\n    .dataframe thead th {\n        text-align: right;\n    }\n</style>\n<table border=\"1\" class=\"dataframe\">\n  <thead>\n    <tr style=\"text-align: right;\">\n      <th></th>\n      <th>business_id</th>\n      <th>name</th>\n      <th>city</th>\n      <th>stars</th>\n      <th>review_count</th>\n      <th>categories</th>\n    </tr>\n  </thead>\n  <tbody>\n    <tr>\n      <th>81545</th>\n      <td>RESDUcs7fIiihp38-d6_6g</td>\n      <td>Bacchanal Buffet</td>\n      <td>Las Vegas</td>\n      <td>4.0</td>\n      <td>10129</td>\n      <td>Sandwiches, Breakfast &amp; Brunch, Food, Restaura...</td>\n    </tr>\n  </tbody>\n</table>\n</div>"
     },
     "metadata": {},
     "execution_count": 49
    }
   ],
   "source": [
    "top_business_2 = df_business_2[df_business_2.review_count == df_business_2.review_count.max()]\n",
    "top_business_2"
   ]
  },
  {
   "source": [
    "### Save business ids of 'Business 2' to a csv file"
   ],
   "cell_type": "markdown",
   "metadata": {}
  },
  {
   "cell_type": "code",
   "execution_count": 45,
   "metadata": {
    "tags": []
   },
   "outputs": [
    {
     "output_type": "stream",
     "name": "stdout",
     "text": "246       AtD6B83S4Mbmq0t7iDnUVA\n2575      7sb2FYLS2sejZKxRYF9mtg\n3653      rcaPajgKOJC2vo_l3xa42A\n4030      lmxA0dJM0XsPCIHPXhEQ-g\n4269      e13SEvJud_vgeDR_doL4sQ\n                   ...          \n204952    ugLqbAvBdRDc-gS4hpslXw\n206247    sqRX-XLlhx4rs2c1TpBf8A\n206374    -ed0Yc9on37RoIoG2ZgxBA\n206401    G-5kEa6E6PD5fkBRuA7k9Q\n207774    PQER4ba8Q0zqB1G2QiXamQ\nName: business_id, Length: 262, dtype: object\n"
    }
   ],
   "source": [
    "print(df_business_2.business_id)\n",
    "df_business_2.business_id.to_csv(r\"C:\\Users\\lovis\\Projects\\yelp_causal_inference\\data\\business_ids_Restaurants.csv\", index=False)"
   ]
  },
  {
   "source": [
    "## Extract review data"
   ],
   "cell_type": "markdown",
   "metadata": {}
  },
  {
   "cell_type": "code",
   "execution_count": 25,
   "metadata": {
    "tags": []
   },
   "outputs": [
    {
     "output_type": "execute_result",
     "data": {
      "text/plain": "                  user_id             business_id stars  useful  \\\n0  2hRe26HSCAWbFRn5WChK-Q  d4qwVw4PcN-_2mK2o1Ro1g   1.0       0   \n1  RR-2nouBn408e3djxC470g  d4qwVw4PcN-_2mK2o1Ro1g   5.0       0   \n2  -Co-ReNx_lXT1xL_Rr0B2g  XZbuPXdyA0ZtTu3AzqtQhg   4.0       0   \n3  4xIRICDNx33zPG-CYshTXQ  IhNASEZ3XnBHmuuVnWdIwA   5.0       0   \n4  DMtVkV1K2DPimItj9xUfjw  XZbuPXdyA0ZtTu3AzqtQhg   4.0       1   \n\n                                                text                 date  \n0  10pm on a super bowl Sunday and they're alread...  2015-02-02 06:28:00  \n1  Holy heck this place is amazing. I love their ...  2017-02-09 04:25:03  \n2  As the previous person posted, what more can r...  2009-10-13 09:50:48  \n3  If you are looking for something refreshing an...  2015-07-16 06:46:29  \n4  Bobby Flay's restaurant at Caesar's Palace.  T...  2012-11-06 06:00:13  ",
      "text/html": "<div>\n<style scoped>\n    .dataframe tbody tr th:only-of-type {\n        vertical-align: middle;\n    }\n\n    .dataframe tbody tr th {\n        vertical-align: top;\n    }\n\n    .dataframe thead th {\n        text-align: right;\n    }\n</style>\n<table border=\"1\" class=\"dataframe\">\n  <thead>\n    <tr style=\"text-align: right;\">\n      <th></th>\n      <th>user_id</th>\n      <th>business_id</th>\n      <th>stars</th>\n      <th>useful</th>\n      <th>text</th>\n      <th>date</th>\n    </tr>\n  </thead>\n  <tbody>\n    <tr>\n      <th>0</th>\n      <td>2hRe26HSCAWbFRn5WChK-Q</td>\n      <td>d4qwVw4PcN-_2mK2o1Ro1g</td>\n      <td>1.0</td>\n      <td>0</td>\n      <td>10pm on a super bowl Sunday and they're alread...</td>\n      <td>2015-02-02 06:28:00</td>\n    </tr>\n    <tr>\n      <th>1</th>\n      <td>RR-2nouBn408e3djxC470g</td>\n      <td>d4qwVw4PcN-_2mK2o1Ro1g</td>\n      <td>5.0</td>\n      <td>0</td>\n      <td>Holy heck this place is amazing. I love their ...</td>\n      <td>2017-02-09 04:25:03</td>\n    </tr>\n    <tr>\n      <th>2</th>\n      <td>-Co-ReNx_lXT1xL_Rr0B2g</td>\n      <td>XZbuPXdyA0ZtTu3AzqtQhg</td>\n      <td>4.0</td>\n      <td>0</td>\n      <td>As the previous person posted, what more can r...</td>\n      <td>2009-10-13 09:50:48</td>\n    </tr>\n    <tr>\n      <th>3</th>\n      <td>4xIRICDNx33zPG-CYshTXQ</td>\n      <td>IhNASEZ3XnBHmuuVnWdIwA</td>\n      <td>5.0</td>\n      <td>0</td>\n      <td>If you are looking for something refreshing an...</td>\n      <td>2015-07-16 06:46:29</td>\n    </tr>\n    <tr>\n      <th>4</th>\n      <td>DMtVkV1K2DPimItj9xUfjw</td>\n      <td>XZbuPXdyA0ZtTu3AzqtQhg</td>\n      <td>4.0</td>\n      <td>1</td>\n      <td>Bobby Flay's restaurant at Caesar's Palace.  T...</td>\n      <td>2012-11-06 06:00:13</td>\n    </tr>\n  </tbody>\n</table>\n</div>"
     },
     "metadata": {},
     "execution_count": 25
    }
   ],
   "source": [
    "df = load_data_functions.get_data_frame_from_file(filename=r\"C:\\Users\\lovis\\Projects\\Causal Project\\yelp_dataset\\yelp_academic_dataset_review.json\", fields=[\"user_id\",\"business_id\",\"stars\",\"useful\",\"text\",\"date\"], max_nbr_items=df_business_2.review_count.sum(), wanted_values={'business_id': list(df_business_2.business_id)})\n",
    "df.head()"
   ]
  },
  {
   "cell_type": "code",
   "execution_count": 26,
   "metadata": {
    "tags": []
   },
   "outputs": [
    {
     "output_type": "stream",
     "name": "stdout",
     "text": "<class 'pandas.core.frame.DataFrame'>\nRangeIndex: 484659 entries, 0 to 484658\nData columns (total 6 columns):\n #   Column       Non-Null Count   Dtype \n---  ------       --------------   ----- \n 0   user_id      484659 non-null  object\n 1   business_id  484659 non-null  object\n 2   stars        484659 non-null  object\n 3   useful       484659 non-null  int64 \n 4   text         484659 non-null  object\n 5   date         484659 non-null  object\ndtypes: int64(1), object(5)\nmemory usage: 22.2+ MB\n"
    }
   ],
   "source": [
    "df.info()"
   ]
  },
  {
   "cell_type": "code",
   "execution_count": 27,
   "metadata": {},
   "outputs": [
    {
     "output_type": "execute_result",
     "data": {
      "text/plain": "                  user_id             business_id  stars  useful  \\\n0  2hRe26HSCAWbFRn5WChK-Q  d4qwVw4PcN-_2mK2o1Ro1g      1       0   \n1  RR-2nouBn408e3djxC470g  d4qwVw4PcN-_2mK2o1Ro1g      5       0   \n2  -Co-ReNx_lXT1xL_Rr0B2g  XZbuPXdyA0ZtTu3AzqtQhg      4       0   \n3  4xIRICDNx33zPG-CYshTXQ  IhNASEZ3XnBHmuuVnWdIwA      5       0   \n4  DMtVkV1K2DPimItj9xUfjw  XZbuPXdyA0ZtTu3AzqtQhg      4       1   \n\n                                                text                date  \\\n0  10pm on a super bowl Sunday and they're alread... 2015-02-02 06:28:00   \n1  Holy heck this place is amazing. I love their ... 2017-02-09 04:25:03   \n2  As the previous person posted, what more can r... 2009-10-13 09:50:48   \n3  If you are looking for something refreshing an... 2015-07-16 06:46:29   \n4  Bobby Flay's restaurant at Caesar's Palace.  T... 2012-11-06 06:00:13   \n\n   text_length  nbr_words  \n0          102         19  \n1          144         24  \n2         2470        476  \n3          785        139  \n4          849        146  ",
      "text/html": "<div>\n<style scoped>\n    .dataframe tbody tr th:only-of-type {\n        vertical-align: middle;\n    }\n\n    .dataframe tbody tr th {\n        vertical-align: top;\n    }\n\n    .dataframe thead th {\n        text-align: right;\n    }\n</style>\n<table border=\"1\" class=\"dataframe\">\n  <thead>\n    <tr style=\"text-align: right;\">\n      <th></th>\n      <th>user_id</th>\n      <th>business_id</th>\n      <th>stars</th>\n      <th>useful</th>\n      <th>text</th>\n      <th>date</th>\n      <th>text_length</th>\n      <th>nbr_words</th>\n    </tr>\n  </thead>\n  <tbody>\n    <tr>\n      <th>0</th>\n      <td>2hRe26HSCAWbFRn5WChK-Q</td>\n      <td>d4qwVw4PcN-_2mK2o1Ro1g</td>\n      <td>1</td>\n      <td>0</td>\n      <td>10pm on a super bowl Sunday and they're alread...</td>\n      <td>2015-02-02 06:28:00</td>\n      <td>102</td>\n      <td>19</td>\n    </tr>\n    <tr>\n      <th>1</th>\n      <td>RR-2nouBn408e3djxC470g</td>\n      <td>d4qwVw4PcN-_2mK2o1Ro1g</td>\n      <td>5</td>\n      <td>0</td>\n      <td>Holy heck this place is amazing. I love their ...</td>\n      <td>2017-02-09 04:25:03</td>\n      <td>144</td>\n      <td>24</td>\n    </tr>\n    <tr>\n      <th>2</th>\n      <td>-Co-ReNx_lXT1xL_Rr0B2g</td>\n      <td>XZbuPXdyA0ZtTu3AzqtQhg</td>\n      <td>4</td>\n      <td>0</td>\n      <td>As the previous person posted, what more can r...</td>\n      <td>2009-10-13 09:50:48</td>\n      <td>2470</td>\n      <td>476</td>\n    </tr>\n    <tr>\n      <th>3</th>\n      <td>4xIRICDNx33zPG-CYshTXQ</td>\n      <td>IhNASEZ3XnBHmuuVnWdIwA</td>\n      <td>5</td>\n      <td>0</td>\n      <td>If you are looking for something refreshing an...</td>\n      <td>2015-07-16 06:46:29</td>\n      <td>785</td>\n      <td>139</td>\n    </tr>\n    <tr>\n      <th>4</th>\n      <td>DMtVkV1K2DPimItj9xUfjw</td>\n      <td>XZbuPXdyA0ZtTu3AzqtQhg</td>\n      <td>4</td>\n      <td>1</td>\n      <td>Bobby Flay's restaurant at Caesar's Palace.  T...</td>\n      <td>2012-11-06 06:00:13</td>\n      <td>849</td>\n      <td>146</td>\n    </tr>\n  </tbody>\n</table>\n</div>"
     },
     "metadata": {},
     "execution_count": 27
    }
   ],
   "source": [
    "df['date'] = pd.to_datetime(df['date'])\n",
    "df['text_length'] = df.text.apply(lambda x: len(x))\n",
    "df['stars'] = df.stars.astype('int')\n",
    "df['nbr_words'] = df.text.apply(lambda x: len(x.split(' ')))\n",
    "df.head()"
   ]
  },
  {
   "cell_type": "code",
   "execution_count": 31,
   "metadata": {
    "tags": []
   },
   "outputs": [
    {
     "output_type": "stream",
     "name": "stdout",
     "text": "<class 'pandas.core.frame.DataFrame'>\nInt64Index: 177697 entries, 4 to 484653\nData columns (total 8 columns):\n #   Column       Non-Null Count   Dtype         \n---  ------       --------------   -----         \n 0   user_id      177697 non-null  object        \n 1   business_id  177697 non-null  object        \n 2   stars        177697 non-null  int32         \n 3   useful       177697 non-null  int64         \n 4   text         177697 non-null  object        \n 5   date         177697 non-null  datetime64[ns]\n 6   text_length  177697 non-null  int64         \n 7   nbr_words    177697 non-null  int64         \ndtypes: datetime64[ns](1), int32(1), int64(3), object(3)\nmemory usage: 11.5+ MB\n"
    }
   ],
   "source": [
    "df_no_zero_useful = df[df.useful>0]\n",
    "df_no_zero_useful.info()"
   ]
  },
  {
   "source": [
    "### Save the review data to a csv file"
   ],
   "cell_type": "markdown",
   "metadata": {}
  },
  {
   "cell_type": "code",
   "execution_count": 30,
   "metadata": {},
   "outputs": [],
   "source": [
    "data_folder = r\"C:\\Users\\lovis\\Projects\\yelp_causal_inference\\data\\\\\"\n",
    "save_to_file = input(f\"Specify the filename you would like to save the current df to: \\n{data_folder}  \")\n",
    "df.to_csv(data_folder + save_to_file)"
   ]
  }
 ]
}