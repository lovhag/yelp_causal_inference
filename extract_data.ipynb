{
 "metadata": {
  "language_info": {
   "codemirror_mode": {
    "name": "ipython",
    "version": 3
   },
   "file_extension": ".py",
   "mimetype": "text/x-python",
   "name": "python",
   "nbconvert_exporter": "python",
   "pygments_lexer": "ipython3",
   "version": "3.8.2-final"
  },
  "orig_nbformat": 2,
  "kernelspec": {
   "name": "Python 3.8.2 64-bit ('yelp_causal_inference_env': venv)",
   "display_name": "Python 3.8.2 64-bit ('yelp_causal_inference_env': venv)",
   "metadata": {
    "interpreter": {
     "hash": "d03f4cc62ac582640d1e83c04ad53964cf16e425c143a0aa009080b877a3c65d"
    }
   }
  }
 },
 "nbformat": 4,
 "nbformat_minor": 2,
 "cells": [
  {
   "source": [
    "# Yelp Dataset Analysis"
   ],
   "cell_type": "markdown",
   "metadata": {}
  },
  {
   "cell_type": "code",
   "execution_count": 1,
   "metadata": {},
   "outputs": [],
   "source": [
    "import load_data_functions\n",
    "import pandas as pd"
   ]
  },
  {
   "source": [
    "## Extract business data"
   ],
   "cell_type": "markdown",
   "metadata": {}
  },
  {
   "source": [
    "The business data contains a total of 209,393 businesses."
   ],
   "cell_type": "markdown",
   "metadata": {}
  },
  {
   "cell_type": "code",
   "execution_count": 2,
   "metadata": {
    "tags": []
   },
   "outputs": [
    {
     "output_type": "execute_result",
     "data": {
      "text/plain": [
       "              business_id                      name             city stars  \\\n",
       "0  f9NumwFMBDn751xgFiRbNA  The Range At Lake Norman        Cornelius   3.5   \n",
       "1  Yzvjg0SayhoZgCljUJRF9Q         Carlos Santo, NMD       Scottsdale   5.0   \n",
       "2  XNoUzKckATkOD1hP6vghZg                   Felinus         Montreal   5.0   \n",
       "3  6OAZjbxqM5ol29BuHsil3w      Nevada House of Hose  North Las Vegas   2.5   \n",
       "4  51M2Kk903DFYI6gnB5I6SQ   USE MY GUY SERVICES LLC             Mesa   4.5   \n",
       "\n",
       "   review_count                                         categories  \n",
       "0            36  Active Life, Gun/Rifle Ranges, Guns & Ammo, Sh...  \n",
       "1             4  Health & Medical, Fitness & Instruction, Yoga,...  \n",
       "2             5                   Pets, Pet Services, Pet Groomers  \n",
       "3             3  Hardware Stores, Home Services, Building Suppl...  \n",
       "4            26  Home Services, Plumbing, Electricians, Handyma...  "
      ],
      "text/html": "<div>\n<style scoped>\n    .dataframe tbody tr th:only-of-type {\n        vertical-align: middle;\n    }\n\n    .dataframe tbody tr th {\n        vertical-align: top;\n    }\n\n    .dataframe thead th {\n        text-align: right;\n    }\n</style>\n<table border=\"1\" class=\"dataframe\">\n  <thead>\n    <tr style=\"text-align: right;\">\n      <th></th>\n      <th>business_id</th>\n      <th>name</th>\n      <th>city</th>\n      <th>stars</th>\n      <th>review_count</th>\n      <th>categories</th>\n    </tr>\n  </thead>\n  <tbody>\n    <tr>\n      <th>0</th>\n      <td>f9NumwFMBDn751xgFiRbNA</td>\n      <td>The Range At Lake Norman</td>\n      <td>Cornelius</td>\n      <td>3.5</td>\n      <td>36</td>\n      <td>Active Life, Gun/Rifle Ranges, Guns &amp; Ammo, Sh...</td>\n    </tr>\n    <tr>\n      <th>1</th>\n      <td>Yzvjg0SayhoZgCljUJRF9Q</td>\n      <td>Carlos Santo, NMD</td>\n      <td>Scottsdale</td>\n      <td>5.0</td>\n      <td>4</td>\n      <td>Health &amp; Medical, Fitness &amp; Instruction, Yoga,...</td>\n    </tr>\n    <tr>\n      <th>2</th>\n      <td>XNoUzKckATkOD1hP6vghZg</td>\n      <td>Felinus</td>\n      <td>Montreal</td>\n      <td>5.0</td>\n      <td>5</td>\n      <td>Pets, Pet Services, Pet Groomers</td>\n    </tr>\n    <tr>\n      <th>3</th>\n      <td>6OAZjbxqM5ol29BuHsil3w</td>\n      <td>Nevada House of Hose</td>\n      <td>North Las Vegas</td>\n      <td>2.5</td>\n      <td>3</td>\n      <td>Hardware Stores, Home Services, Building Suppl...</td>\n    </tr>\n    <tr>\n      <th>4</th>\n      <td>51M2Kk903DFYI6gnB5I6SQ</td>\n      <td>USE MY GUY SERVICES LLC</td>\n      <td>Mesa</td>\n      <td>4.5</td>\n      <td>26</td>\n      <td>Home Services, Plumbing, Electricians, Handyma...</td>\n    </tr>\n  </tbody>\n</table>\n</div>"
     },
     "metadata": {},
     "execution_count": 2
    }
   ],
   "source": [
    "df_business = load_data_functions.get_data_frame_from_file(filename=r\"data/yelp_academic_dataset_business.json\", fields=[\"business_id\",\"name\",\"city\",\"stars\",\"review_count\",\"categories\"], max_nbr_items=500000)\n",
    "df_business.head()"
   ]
  },
  {
   "cell_type": "code",
   "execution_count": 3,
   "metadata": {},
   "outputs": [],
   "source": [
    "df_business['stars'] = df_business.stars.astype('double')\n",
    "df_business['review_count'] = df_business.review_count.astype('int')"
   ]
  },
  {
   "cell_type": "code",
   "execution_count": 4,
   "metadata": {
    "tags": []
   },
   "outputs": [
    {
     "output_type": "stream",
     "name": "stdout",
     "text": [
      "<class 'pandas.core.frame.DataFrame'>\nRangeIndex: 209393 entries, 0 to 209392\nData columns (total 6 columns):\n #   Column        Non-Null Count   Dtype  \n---  ------        --------------   -----  \n 0   business_id   209393 non-null  object \n 1   name          209393 non-null  object \n 2   city          209393 non-null  object \n 3   stars         209393 non-null  float64\n 4   review_count  209393 non-null  int64  \n 5   categories    208869 non-null  object \ndtypes: float64(1), int64(1), object(4)\nmemory usage: 9.6+ MB\n"
     ]
    }
   ],
   "source": [
    "df_business.info()"
   ]
  },
  {
   "source": [
    "The business with the maximum number of reviews."
   ],
   "cell_type": "markdown",
   "metadata": {}
  },
  {
   "cell_type": "code",
   "execution_count": 5,
   "metadata": {},
   "outputs": [
    {
     "output_type": "execute_result",
     "data": {
      "text/plain": [
       "                  business_id              name       city  stars  \\\n",
       "81545  RESDUcs7fIiihp38-d6_6g  Bacchanal Buffet  Las Vegas    4.0   \n",
       "\n",
       "       review_count                                         categories  \n",
       "81545         10129  Sandwiches, Breakfast & Brunch, Food, Restaura...  "
      ],
      "text/html": "<div>\n<style scoped>\n    .dataframe tbody tr th:only-of-type {\n        vertical-align: middle;\n    }\n\n    .dataframe tbody tr th {\n        vertical-align: top;\n    }\n\n    .dataframe thead th {\n        text-align: right;\n    }\n</style>\n<table border=\"1\" class=\"dataframe\">\n  <thead>\n    <tr style=\"text-align: right;\">\n      <th></th>\n      <th>business_id</th>\n      <th>name</th>\n      <th>city</th>\n      <th>stars</th>\n      <th>review_count</th>\n      <th>categories</th>\n    </tr>\n  </thead>\n  <tbody>\n    <tr>\n      <th>81545</th>\n      <td>RESDUcs7fIiihp38-d6_6g</td>\n      <td>Bacchanal Buffet</td>\n      <td>Las Vegas</td>\n      <td>4.0</td>\n      <td>10129</td>\n      <td>Sandwiches, Breakfast &amp; Brunch, Food, Restaura...</td>\n    </tr>\n  </tbody>\n</table>\n</div>"
     },
     "metadata": {},
     "execution_count": 5
    }
   ],
   "source": [
    "df_business[df_business.review_count == df_business.review_count.max()]"
   ]
  },
  {
   "source": [
    "## Business 1\n",
    "We extract all of the businesses which are categorized as 'Hotels', and not 'Restaurants' to a dataset 'Business 1'."
   ],
   "cell_type": "markdown",
   "metadata": {}
  },
  {
   "cell_type": "code",
   "execution_count": 14,
   "metadata": {},
   "outputs": [
    {
     "output_type": "execute_result",
     "data": {
      "text/plain": "                  business_id                                          name  \\\n8909   _ZfjpSEO5ntk-1hbnwCR4g                                   Palms Place   \n11511  vnvQ0lD9MDje2DFde9PKQA  Elara by Hilton Grand Vacations -  Las Vegas   \n17985  p0iEUamJVp_QpaheE-Nz_g               South Point Hotel, Casino & Spa   \n18943  u_vPjx925UPEG9DFOAAvFQ             Flamingo Las Vegas Hotel & Casino   \n30491  SMPbvZLSMMb7KU76YNYMGg                          ARIA Resort & Casino   \n\n            city  stars  review_count  \\\n8909   Las Vegas    3.0          1027   \n11511  Las Vegas    3.5          1015   \n17985  Las Vegas    3.5          1818   \n18943  Las Vegas    2.5          3905   \n30491  Las Vegas    3.5          4580   \n\n                                              categories  \n8909   Casinos, Arts & Entertainment, Resorts, Hotels...  \n11511  Vacation Rentals, Hotels, Hotels & Travel, Eve...  \n17985  Active Life, Bowling, Cinema, Arts & Entertain...  \n18943  Arts & Entertainment, Casinos, Hotels, Hotels ...  \n30491  Arts & Entertainment, Hotels & Travel, Casinos...  ",
      "text/html": "<div>\n<style scoped>\n    .dataframe tbody tr th:only-of-type {\n        vertical-align: middle;\n    }\n\n    .dataframe tbody tr th {\n        vertical-align: top;\n    }\n\n    .dataframe thead th {\n        text-align: right;\n    }\n</style>\n<table border=\"1\" class=\"dataframe\">\n  <thead>\n    <tr style=\"text-align: right;\">\n      <th></th>\n      <th>business_id</th>\n      <th>name</th>\n      <th>city</th>\n      <th>stars</th>\n      <th>review_count</th>\n      <th>categories</th>\n    </tr>\n  </thead>\n  <tbody>\n    <tr>\n      <th>8909</th>\n      <td>_ZfjpSEO5ntk-1hbnwCR4g</td>\n      <td>Palms Place</td>\n      <td>Las Vegas</td>\n      <td>3.0</td>\n      <td>1027</td>\n      <td>Casinos, Arts &amp; Entertainment, Resorts, Hotels...</td>\n    </tr>\n    <tr>\n      <th>11511</th>\n      <td>vnvQ0lD9MDje2DFde9PKQA</td>\n      <td>Elara by Hilton Grand Vacations -  Las Vegas</td>\n      <td>Las Vegas</td>\n      <td>3.5</td>\n      <td>1015</td>\n      <td>Vacation Rentals, Hotels, Hotels &amp; Travel, Eve...</td>\n    </tr>\n    <tr>\n      <th>17985</th>\n      <td>p0iEUamJVp_QpaheE-Nz_g</td>\n      <td>South Point Hotel, Casino &amp; Spa</td>\n      <td>Las Vegas</td>\n      <td>3.5</td>\n      <td>1818</td>\n      <td>Active Life, Bowling, Cinema, Arts &amp; Entertain...</td>\n    </tr>\n    <tr>\n      <th>18943</th>\n      <td>u_vPjx925UPEG9DFOAAvFQ</td>\n      <td>Flamingo Las Vegas Hotel &amp; Casino</td>\n      <td>Las Vegas</td>\n      <td>2.5</td>\n      <td>3905</td>\n      <td>Arts &amp; Entertainment, Casinos, Hotels, Hotels ...</td>\n    </tr>\n    <tr>\n      <th>30491</th>\n      <td>SMPbvZLSMMb7KU76YNYMGg</td>\n      <td>ARIA Resort &amp; Casino</td>\n      <td>Las Vegas</td>\n      <td>3.5</td>\n      <td>4580</td>\n      <td>Arts &amp; Entertainment, Hotels &amp; Travel, Casinos...</td>\n    </tr>\n  </tbody>\n</table>\n</div>"
     },
     "metadata": {},
     "execution_count": 14
    }
   ],
   "source": [
    "df_business_1 = df_business[(df_business.review_count>1000) & (~df_business.categories.str.contains('Restaurants',regex=False,na=False)) & (df_business.categories.str.contains('Hotels',regex=False,na=False)) & (df_business.city=='Las Vegas')]\n",
    "df_business_1.head()"
   ]
  },
  {
   "source": [
    "### Review count\n",
    "The total number of reviews for the businesses in 'Business 1' are 65,235."
   ],
   "cell_type": "markdown",
   "metadata": {}
  },
  {
   "cell_type": "code",
   "execution_count": 15,
   "metadata": {},
   "outputs": [
    {
     "output_type": "execute_result",
     "data": {
      "text/plain": "65235"
     },
     "metadata": {},
     "execution_count": 15
    }
   ],
   "source": [
    "df_business_1.review_count.sum()"
   ]
  },
  {
   "source": [
    "### Most reviewed business\n",
    "The business in 'Business 1' with the most reviews is 'ARIA Resort & Casino'."
   ],
   "cell_type": "markdown",
   "metadata": {}
  },
  {
   "cell_type": "code",
   "execution_count": 16,
   "metadata": {},
   "outputs": [
    {
     "output_type": "execute_result",
     "data": {
      "text/plain": "                  business_id                  name       city  stars  \\\n30491  SMPbvZLSMMb7KU76YNYMGg  ARIA Resort & Casino  Las Vegas    3.5   \n\n       review_count                                         categories  \n30491          4580  Arts & Entertainment, Hotels & Travel, Casinos...  ",
      "text/html": "<div>\n<style scoped>\n    .dataframe tbody tr th:only-of-type {\n        vertical-align: middle;\n    }\n\n    .dataframe tbody tr th {\n        vertical-align: top;\n    }\n\n    .dataframe thead th {\n        text-align: right;\n    }\n</style>\n<table border=\"1\" class=\"dataframe\">\n  <thead>\n    <tr style=\"text-align: right;\">\n      <th></th>\n      <th>business_id</th>\n      <th>name</th>\n      <th>city</th>\n      <th>stars</th>\n      <th>review_count</th>\n      <th>categories</th>\n    </tr>\n  </thead>\n  <tbody>\n    <tr>\n      <th>30491</th>\n      <td>SMPbvZLSMMb7KU76YNYMGg</td>\n      <td>ARIA Resort &amp; Casino</td>\n      <td>Las Vegas</td>\n      <td>3.5</td>\n      <td>4580</td>\n      <td>Arts &amp; Entertainment, Hotels &amp; Travel, Casinos...</td>\n    </tr>\n  </tbody>\n</table>\n</div>"
     },
     "metadata": {},
     "execution_count": 16
    }
   ],
   "source": [
    "top_business_1 = df_business_1[df_business_1.review_count == df_business_1.review_count.max()]\n",
    "top_business_1"
   ]
  },
  {
   "source": [
    "#"
   ],
   "cell_type": "markdown",
   "metadata": {}
  },
  {
   "source": [
    "## Business 2\n",
    "We extract all of the businesses which are categorized as 'Restaurants', and not 'Hotels' to a dataset 'Business 2'."
   ],
   "cell_type": "markdown",
   "metadata": {}
  },
  {
   "cell_type": "code",
   "execution_count": 6,
   "metadata": {},
   "outputs": [
    {
     "output_type": "execute_result",
     "data": {
      "text/plain": [
       "                 business_id                         name       city  stars  \\\n",
       "246   AtD6B83S4Mbmq0t7iDnUVA                 Veggie House  Las Vegas    4.5   \n",
       "2575  7sb2FYLS2sejZKxRYF9mtg                       Sakana  Las Vegas    4.5   \n",
       "3653  rcaPajgKOJC2vo_l3xa42A                      Bouchon  Las Vegas    4.0   \n",
       "4030  lmxA0dJM0XsPCIHPXhEQ-g                     Sake Rok  Las Vegas    4.0   \n",
       "4269  e13SEvJud_vgeDR_doL4sQ  Hussong's Cantina Las Vegas  Las Vegas    4.0   \n",
       "\n",
       "      review_count                                         categories  \n",
       "246           1142  Restaurants, Specialty Food, Japanese, Sushi B...  \n",
       "2575          2529  Restaurants, Sushi Bars, Buffets, Japanese, Ba...  \n",
       "3653          4138  French, Cafes, Restaurants, Cocktail Bars, Nig...  \n",
       "4030          1110  Restaurants, Asian Fusion, Japanese, Bars, Sus...  \n",
       "4269          1050  Restaurants, Bars, Nightlife, Mexican, Burgers...  "
      ],
      "text/html": "<div>\n<style scoped>\n    .dataframe tbody tr th:only-of-type {\n        vertical-align: middle;\n    }\n\n    .dataframe tbody tr th {\n        vertical-align: top;\n    }\n\n    .dataframe thead th {\n        text-align: right;\n    }\n</style>\n<table border=\"1\" class=\"dataframe\">\n  <thead>\n    <tr style=\"text-align: right;\">\n      <th></th>\n      <th>business_id</th>\n      <th>name</th>\n      <th>city</th>\n      <th>stars</th>\n      <th>review_count</th>\n      <th>categories</th>\n    </tr>\n  </thead>\n  <tbody>\n    <tr>\n      <th>246</th>\n      <td>AtD6B83S4Mbmq0t7iDnUVA</td>\n      <td>Veggie House</td>\n      <td>Las Vegas</td>\n      <td>4.5</td>\n      <td>1142</td>\n      <td>Restaurants, Specialty Food, Japanese, Sushi B...</td>\n    </tr>\n    <tr>\n      <th>2575</th>\n      <td>7sb2FYLS2sejZKxRYF9mtg</td>\n      <td>Sakana</td>\n      <td>Las Vegas</td>\n      <td>4.5</td>\n      <td>2529</td>\n      <td>Restaurants, Sushi Bars, Buffets, Japanese, Ba...</td>\n    </tr>\n    <tr>\n      <th>3653</th>\n      <td>rcaPajgKOJC2vo_l3xa42A</td>\n      <td>Bouchon</td>\n      <td>Las Vegas</td>\n      <td>4.0</td>\n      <td>4138</td>\n      <td>French, Cafes, Restaurants, Cocktail Bars, Nig...</td>\n    </tr>\n    <tr>\n      <th>4030</th>\n      <td>lmxA0dJM0XsPCIHPXhEQ-g</td>\n      <td>Sake Rok</td>\n      <td>Las Vegas</td>\n      <td>4.0</td>\n      <td>1110</td>\n      <td>Restaurants, Asian Fusion, Japanese, Bars, Sus...</td>\n    </tr>\n    <tr>\n      <th>4269</th>\n      <td>e13SEvJud_vgeDR_doL4sQ</td>\n      <td>Hussong's Cantina Las Vegas</td>\n      <td>Las Vegas</td>\n      <td>4.0</td>\n      <td>1050</td>\n      <td>Restaurants, Bars, Nightlife, Mexican, Burgers...</td>\n    </tr>\n  </tbody>\n</table>\n</div>"
     },
     "metadata": {},
     "execution_count": 6
    }
   ],
   "source": [
    "df_business_2 = df_business[(df_business.review_count>1000) & (df_business.categories.str.contains('Restaurants',regex=False,na=False)) & (~df_business.categories.str.contains('Hotels',regex=False,na=False)) & (df_business.city=='Las Vegas')]\n",
    "df_business_2.head()"
   ]
  },
  {
   "source": [
    "### Review count\n",
    "The total number of reviews for the businesses in 'Business 2' are 484,659."
   ],
   "cell_type": "markdown",
   "metadata": {}
  },
  {
   "cell_type": "code",
   "execution_count": 7,
   "metadata": {},
   "outputs": [
    {
     "output_type": "execute_result",
     "data": {
      "text/plain": [
       "484659"
      ]
     },
     "metadata": {},
     "execution_count": 7
    }
   ],
   "source": [
    "df_business_2.review_count.sum()"
   ]
  },
  {
   "source": [
    "### Most reviewed business\n",
    "The business in 'Business 2' with the most reviews is 'Bacchanal Buffet'."
   ],
   "cell_type": "markdown",
   "metadata": {}
  },
  {
   "cell_type": "code",
   "execution_count": 8,
   "metadata": {},
   "outputs": [
    {
     "output_type": "execute_result",
     "data": {
      "text/plain": [
       "                  business_id              name       city  stars  \\\n",
       "81545  RESDUcs7fIiihp38-d6_6g  Bacchanal Buffet  Las Vegas    4.0   \n",
       "\n",
       "       review_count                                         categories  \n",
       "81545         10129  Sandwiches, Breakfast & Brunch, Food, Restaura...  "
      ],
      "text/html": "<div>\n<style scoped>\n    .dataframe tbody tr th:only-of-type {\n        vertical-align: middle;\n    }\n\n    .dataframe tbody tr th {\n        vertical-align: top;\n    }\n\n    .dataframe thead th {\n        text-align: right;\n    }\n</style>\n<table border=\"1\" class=\"dataframe\">\n  <thead>\n    <tr style=\"text-align: right;\">\n      <th></th>\n      <th>business_id</th>\n      <th>name</th>\n      <th>city</th>\n      <th>stars</th>\n      <th>review_count</th>\n      <th>categories</th>\n    </tr>\n  </thead>\n  <tbody>\n    <tr>\n      <th>81545</th>\n      <td>RESDUcs7fIiihp38-d6_6g</td>\n      <td>Bacchanal Buffet</td>\n      <td>Las Vegas</td>\n      <td>4.0</td>\n      <td>10129</td>\n      <td>Sandwiches, Breakfast &amp; Brunch, Food, Restaura...</td>\n    </tr>\n  </tbody>\n</table>\n</div>"
     },
     "metadata": {},
     "execution_count": 8
    }
   ],
   "source": [
    "top_business_2 = df_business_2[df_business_2.review_count == df_business_2.review_count.max()]\n",
    "top_business_2"
   ]
  },
  {
   "cell_type": "code",
   "execution_count": 24,
   "metadata": {},
   "outputs": [
    {
     "output_type": "stream",
     "name": "stdout",
     "text": [
      "['Sandwiches, Breakfast & Brunch, Food, Restaurants, Buffets']\n"
     ]
    }
   ],
   "source": [
    "print(top_business_2.categories.values)"
   ]
  },
  {
   "cell_type": "code",
   "execution_count": 27,
   "metadata": {},
   "outputs": [
    {
     "output_type": "execute_result",
     "data": {
      "text/plain": [
       "10129"
      ]
     },
     "metadata": {},
     "execution_count": 27
    }
   ],
   "source": [
    "top_business_2.review_count.values[0]"
   ]
  },
  {
   "source": [
    "## Extract review data"
   ],
   "cell_type": "markdown",
   "metadata": {}
  },
  {
   "cell_type": "code",
   "execution_count": 28,
   "metadata": {
    "tags": []
   },
   "outputs": [
    {
     "output_type": "execute_result",
     "data": {
      "text/plain": [
       "                  user_id             business_id stars  useful  \\\n",
       "0  6PgdGb3HrZdsfl2GiULo8w  RESDUcs7fIiihp38-d6_6g   5.0       0   \n",
       "1  IS9yw8P2uAPBX6FNLLX4KA  RESDUcs7fIiihp38-d6_6g   4.0      39   \n",
       "2  uZdFsE_aHbFBChgN6Xa8tw  RESDUcs7fIiihp38-d6_6g   4.0       1   \n",
       "3  8ZWJNAEWsymXDzKx3B0tTQ  RESDUcs7fIiihp38-d6_6g   1.0       0   \n",
       "4  E0sm4Ve7ifanFYeQMcV8Eg  RESDUcs7fIiihp38-d6_6g   5.0       0   \n",
       "\n",
       "                                                text                 date  \n",
       "0  After getting food poisoning at the Palms hote...  2012-12-04 03:10:18  \n",
       "1  \"A feast worthy of Gods\"\\n\\nBaccarnal Buffet i...  2014-01-17 00:50:50  \n",
       "2  The crab legs are better than the ones at Wick...  2015-06-08 18:03:09  \n",
       "3  Not worth it! Too salty food and expensive! Th...  2016-12-19 16:15:29  \n",
       "4  I would give this infinite stars if I could. M...  2015-07-28 07:13:17  "
      ],
      "text/html": "<div>\n<style scoped>\n    .dataframe tbody tr th:only-of-type {\n        vertical-align: middle;\n    }\n\n    .dataframe tbody tr th {\n        vertical-align: top;\n    }\n\n    .dataframe thead th {\n        text-align: right;\n    }\n</style>\n<table border=\"1\" class=\"dataframe\">\n  <thead>\n    <tr style=\"text-align: right;\">\n      <th></th>\n      <th>user_id</th>\n      <th>business_id</th>\n      <th>stars</th>\n      <th>useful</th>\n      <th>text</th>\n      <th>date</th>\n    </tr>\n  </thead>\n  <tbody>\n    <tr>\n      <th>0</th>\n      <td>6PgdGb3HrZdsfl2GiULo8w</td>\n      <td>RESDUcs7fIiihp38-d6_6g</td>\n      <td>5.0</td>\n      <td>0</td>\n      <td>After getting food poisoning at the Palms hote...</td>\n      <td>2012-12-04 03:10:18</td>\n    </tr>\n    <tr>\n      <th>1</th>\n      <td>IS9yw8P2uAPBX6FNLLX4KA</td>\n      <td>RESDUcs7fIiihp38-d6_6g</td>\n      <td>4.0</td>\n      <td>39</td>\n      <td>\"A feast worthy of Gods\"\\n\\nBaccarnal Buffet i...</td>\n      <td>2014-01-17 00:50:50</td>\n    </tr>\n    <tr>\n      <th>2</th>\n      <td>uZdFsE_aHbFBChgN6Xa8tw</td>\n      <td>RESDUcs7fIiihp38-d6_6g</td>\n      <td>4.0</td>\n      <td>1</td>\n      <td>The crab legs are better than the ones at Wick...</td>\n      <td>2015-06-08 18:03:09</td>\n    </tr>\n    <tr>\n      <th>3</th>\n      <td>8ZWJNAEWsymXDzKx3B0tTQ</td>\n      <td>RESDUcs7fIiihp38-d6_6g</td>\n      <td>1.0</td>\n      <td>0</td>\n      <td>Not worth it! Too salty food and expensive! Th...</td>\n      <td>2016-12-19 16:15:29</td>\n    </tr>\n    <tr>\n      <th>4</th>\n      <td>E0sm4Ve7ifanFYeQMcV8Eg</td>\n      <td>RESDUcs7fIiihp38-d6_6g</td>\n      <td>5.0</td>\n      <td>0</td>\n      <td>I would give this infinite stars if I could. M...</td>\n      <td>2015-07-28 07:13:17</td>\n    </tr>\n  </tbody>\n</table>\n</div>"
     },
     "metadata": {},
     "execution_count": 28
    }
   ],
   "source": [
    "df = load_data_functions.get_data_frame_from_file(filename=\"data/yelp_academic_dataset_review.json\", fields=[\"user_id\",\"business_id\",\"stars\",\"useful\",\"text\",\"date\"], max_nbr_items=top_business_2.review_count.values[0], wanted_values={'business_id': list(top_business_2.business_id)})\n",
    "df.head()"
   ]
  },
  {
   "cell_type": "code",
   "execution_count": 29,
   "metadata": {
    "tags": []
   },
   "outputs": [
    {
     "output_type": "stream",
     "name": "stdout",
     "text": [
      "<class 'pandas.core.frame.DataFrame'>\nRangeIndex: 10129 entries, 0 to 10128\nData columns (total 6 columns):\n #   Column       Non-Null Count  Dtype \n---  ------       --------------  ----- \n 0   user_id      10129 non-null  object\n 1   business_id  10129 non-null  object\n 2   stars        10129 non-null  object\n 3   useful       10129 non-null  int64 \n 4   text         10129 non-null  object\n 5   date         10129 non-null  object\ndtypes: int64(1), object(5)\nmemory usage: 474.9+ KB\n"
     ]
    }
   ],
   "source": [
    "df.info()"
   ]
  },
  {
   "cell_type": "code",
   "execution_count": 30,
   "metadata": {},
   "outputs": [
    {
     "output_type": "execute_result",
     "data": {
      "text/plain": [
       "                  user_id             business_id  stars  useful  \\\n",
       "0  6PgdGb3HrZdsfl2GiULo8w  RESDUcs7fIiihp38-d6_6g      5       0   \n",
       "1  IS9yw8P2uAPBX6FNLLX4KA  RESDUcs7fIiihp38-d6_6g      4      39   \n",
       "2  uZdFsE_aHbFBChgN6Xa8tw  RESDUcs7fIiihp38-d6_6g      4       1   \n",
       "3  8ZWJNAEWsymXDzKx3B0tTQ  RESDUcs7fIiihp38-d6_6g      1       0   \n",
       "4  E0sm4Ve7ifanFYeQMcV8Eg  RESDUcs7fIiihp38-d6_6g      5       0   \n",
       "\n",
       "                                                text                date  \\\n",
       "0  After getting food poisoning at the Palms hote... 2012-12-04 03:10:18   \n",
       "1  \"A feast worthy of Gods\"\\n\\nBaccarnal Buffet i... 2014-01-17 00:50:50   \n",
       "2  The crab legs are better than the ones at Wick... 2015-06-08 18:03:09   \n",
       "3  Not worth it! Too salty food and expensive! Th... 2016-12-19 16:15:29   \n",
       "4  I would give this infinite stars if I could. M... 2015-07-28 07:13:17   \n",
       "\n",
       "   text_length  nbr_words  \n",
       "0          937        176  \n",
       "1         4975        940  \n",
       "2          671        131  \n",
       "3           92         18  \n",
       "4          333         63  "
      ],
      "text/html": "<div>\n<style scoped>\n    .dataframe tbody tr th:only-of-type {\n        vertical-align: middle;\n    }\n\n    .dataframe tbody tr th {\n        vertical-align: top;\n    }\n\n    .dataframe thead th {\n        text-align: right;\n    }\n</style>\n<table border=\"1\" class=\"dataframe\">\n  <thead>\n    <tr style=\"text-align: right;\">\n      <th></th>\n      <th>user_id</th>\n      <th>business_id</th>\n      <th>stars</th>\n      <th>useful</th>\n      <th>text</th>\n      <th>date</th>\n      <th>text_length</th>\n      <th>nbr_words</th>\n    </tr>\n  </thead>\n  <tbody>\n    <tr>\n      <th>0</th>\n      <td>6PgdGb3HrZdsfl2GiULo8w</td>\n      <td>RESDUcs7fIiihp38-d6_6g</td>\n      <td>5</td>\n      <td>0</td>\n      <td>After getting food poisoning at the Palms hote...</td>\n      <td>2012-12-04 03:10:18</td>\n      <td>937</td>\n      <td>176</td>\n    </tr>\n    <tr>\n      <th>1</th>\n      <td>IS9yw8P2uAPBX6FNLLX4KA</td>\n      <td>RESDUcs7fIiihp38-d6_6g</td>\n      <td>4</td>\n      <td>39</td>\n      <td>\"A feast worthy of Gods\"\\n\\nBaccarnal Buffet i...</td>\n      <td>2014-01-17 00:50:50</td>\n      <td>4975</td>\n      <td>940</td>\n    </tr>\n    <tr>\n      <th>2</th>\n      <td>uZdFsE_aHbFBChgN6Xa8tw</td>\n      <td>RESDUcs7fIiihp38-d6_6g</td>\n      <td>4</td>\n      <td>1</td>\n      <td>The crab legs are better than the ones at Wick...</td>\n      <td>2015-06-08 18:03:09</td>\n      <td>671</td>\n      <td>131</td>\n    </tr>\n    <tr>\n      <th>3</th>\n      <td>8ZWJNAEWsymXDzKx3B0tTQ</td>\n      <td>RESDUcs7fIiihp38-d6_6g</td>\n      <td>1</td>\n      <td>0</td>\n      <td>Not worth it! Too salty food and expensive! Th...</td>\n      <td>2016-12-19 16:15:29</td>\n      <td>92</td>\n      <td>18</td>\n    </tr>\n    <tr>\n      <th>4</th>\n      <td>E0sm4Ve7ifanFYeQMcV8Eg</td>\n      <td>RESDUcs7fIiihp38-d6_6g</td>\n      <td>5</td>\n      <td>0</td>\n      <td>I would give this infinite stars if I could. M...</td>\n      <td>2015-07-28 07:13:17</td>\n      <td>333</td>\n      <td>63</td>\n    </tr>\n  </tbody>\n</table>\n</div>"
     },
     "metadata": {},
     "execution_count": 30
    }
   ],
   "source": [
    "df['date'] = pd.to_datetime(df['date'])\n",
    "df['text_length'] = df.text.apply(lambda x: len(x))\n",
    "df['stars'] = df.stars.astype('int')\n",
    "df['nbr_words'] = df.text.apply(lambda x: len(x.split(' ')))\n",
    "df.head()"
   ]
  },
  {
   "cell_type": "code",
   "execution_count": 31,
   "metadata": {
    "tags": []
   },
   "outputs": [
    {
     "output_type": "stream",
     "name": "stdout",
     "text": "<class 'pandas.core.frame.DataFrame'>\nInt64Index: 177697 entries, 4 to 484653\nData columns (total 8 columns):\n #   Column       Non-Null Count   Dtype         \n---  ------       --------------   -----         \n 0   user_id      177697 non-null  object        \n 1   business_id  177697 non-null  object        \n 2   stars        177697 non-null  int32         \n 3   useful       177697 non-null  int64         \n 4   text         177697 non-null  object        \n 5   date         177697 non-null  datetime64[ns]\n 6   text_length  177697 non-null  int64         \n 7   nbr_words    177697 non-null  int64         \ndtypes: datetime64[ns](1), int32(1), int64(3), object(3)\nmemory usage: 11.5+ MB\n"
    }
   ],
   "source": [
    "df_no_zero_useful = df[df.useful>0]\n",
    "df_no_zero_useful.info()"
   ]
  },
  {
   "source": [
    "### Save the review data to a csv file"
   ],
   "cell_type": "markdown",
   "metadata": {}
  },
  {
   "cell_type": "code",
   "execution_count": 32,
   "metadata": {},
   "outputs": [
    {
     "output_type": "stream",
     "name": "stdout",
     "text": [
      "<class 'pandas.core.frame.DataFrame'>\nRangeIndex: 10129 entries, 0 to 10128\nData columns (total 8 columns):\n #   Column       Non-Null Count  Dtype         \n---  ------       --------------  -----         \n 0   user_id      10129 non-null  object        \n 1   business_id  10129 non-null  object        \n 2   stars        10129 non-null  int64         \n 3   useful       10129 non-null  int64         \n 4   text         10129 non-null  object        \n 5   date         10129 non-null  datetime64[ns]\n 6   text_length  10129 non-null  int64         \n 7   nbr_words    10129 non-null  int64         \ndtypes: datetime64[ns](1), int64(4), object(3)\nmemory usage: 633.2+ KB\n"
     ]
    }
   ],
   "source": [
    "df.info()"
   ]
  },
  {
   "cell_type": "code",
   "execution_count": 33,
   "metadata": {},
   "outputs": [],
   "source": [
    "data_folder = \"data/\"\n",
    "save_to_file = input(f\"Specify the filename you would like to save the current df to: \\n{data_folder}  \")\n",
    "df.to_csv(data_folder + save_to_file, index=False)"
   ]
  }
 ]
}