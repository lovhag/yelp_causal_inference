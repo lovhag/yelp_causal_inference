{
 "metadata": {
  "language_info": {
   "codemirror_mode": {
    "name": "ipython",
    "version": 3
   },
   "file_extension": ".py",
   "mimetype": "text/x-python",
   "name": "python",
   "nbconvert_exporter": "python",
   "pygments_lexer": "ipython3",
   "version": "3.8.5-final"
  },
  "orig_nbformat": 2,
  "kernelspec": {
   "name": "Python 3.8.5 64-bit ('dl4nlp_assignment_1': conda)",
   "display_name": "Python 3.8.5 64-bit ('dl4nlp_assignment_1': conda)",
   "metadata": {
    "interpreter": {
     "hash": "dfc50ec6eac23905ec9d0de14b95fb04de7a27191c56780f2104afc692b71c20"
    }
   }
  }
 },
 "nbformat": 4,
 "nbformat_minor": 2,
 "cells": [
  {
   "source": [
    "# Evaluate treatment propensity models"
   ],
   "cell_type": "markdown",
   "metadata": {}
  },
  {
   "cell_type": "code",
   "execution_count": 2,
   "metadata": {},
   "outputs": [],
   "source": [
    "import treatment_propensity_models\n",
    "import importlib\n",
    "import evaluation_help_functions"
   ]
  },
  {
   "cell_type": "code",
   "execution_count": 80,
   "metadata": {},
   "outputs": [
    {
     "output_type": "execute_result",
     "data": {
      "text/plain": [
       "<module 'evaluation_help_functions' from '/Users/lovhag/Projects/yelp_causal_inference/evaluation_help_functions.py'>"
      ]
     },
     "metadata": {},
     "execution_count": 80
    }
   ],
   "source": [
    "importlib.reload(treatment_propensity_models)\n",
    "importlib.reload(evaluation_help_functions)"
   ]
  },
  {
   "source": [
    "## Get the treatment propensity models"
   ],
   "cell_type": "markdown",
   "metadata": {}
  },
  {
   "cell_type": "code",
   "execution_count": 81,
   "metadata": {},
   "outputs": [],
   "source": [
    "models = {\"baseline_model\": treatment_propensity_models.get_baseline_model(), \n",
    "        \"random_forest_model_1\": treatment_propensity_models.get_random_forest_model_1()}"
   ]
  },
  {
   "source": [
    "## Evaluate the models with cross validation for the test data"
   ],
   "cell_type": "markdown",
   "metadata": {}
  },
  {
   "cell_type": "code",
   "execution_count": 82,
   "metadata": {},
   "outputs": [
    {
     "output_type": "stream",
     "name": "stdout",
     "text": [
      "Data loaded! Loaded data info:\n<class 'pandas.core.frame.DataFrame'>\nRangeIndex: 10114 entries, 0 to 10113\nData columns (total 20 columns):\n #   Column                 Non-Null Count  Dtype  \n---  ------                 --------------  -----  \n 0   user_id                10114 non-null  object \n 1   business_id            10114 non-null  object \n 2   stars                  10114 non-null  int64  \n 3   useful                 10114 non-null  int64  \n 4   text                   10114 non-null  object \n 5   date                   10114 non-null  object \n 6   text_length            10114 non-null  int64  \n 7   nbr_words              10114 non-null  int64  \n 8   lemmatized_text        10114 non-null  object \n 9   processed_text         10114 non-null  object \n 10  test                   10114 non-null  int64  \n 11  Z1                     10114 non-null  int64  \n 12  Z2                     10114 non-null  int64  \n 13  Z3                     10114 non-null  int64  \n 14  is_positive_sentiment  10114 non-null  float64\n 15  sentiment_certainty    10114 non-null  float64\n 16  n_words                10114 non-null  int64  \n 17  n_fans                 10114 non-null  int64  \n 18  n_reviews              10114 non-null  int64  \n 19  useful_discrete        10114 non-null  int64  \ndtypes: float64(2), int64(12), object(6)\nmemory usage: 1.5+ MB\n"
     ]
    },
    {
     "output_type": "display_data",
     "data": {
      "text/plain": "<Figure size 1080x360 with 1 Axes>",
      "image/svg+xml": "<?xml version=\"1.0\" encoding=\"utf-8\" standalone=\"no\"?>\n<!DOCTYPE svg PUBLIC \"-//W3C//DTD SVG 1.1//EN\"\n  \"http://www.w3.org/Graphics/SVG/1.1/DTD/svg11.dtd\">\n<!-- Created with matplotlib (https://matplotlib.org/) -->\n<svg height=\"318.274375pt\" version=\"1.1\" viewBox=\"0 0 874.303125 318.274375\" width=\"874.303125pt\" xmlns=\"http://www.w3.org/2000/svg\" xmlns:xlink=\"http://www.w3.org/1999/xlink\">\n <metadata>\n  <rdf:RDF xmlns:cc=\"http://creativecommons.org/ns#\" xmlns:dc=\"http://purl.org/dc/elements/1.1/\" xmlns:rdf=\"http://www.w3.org/1999/02/22-rdf-syntax-ns#\">\n   <cc:Work>\n    <dc:type rdf:resource=\"http://purl.org/dc/dcmitype/StillImage\"/>\n    <dc:date>2020-10-27T15:09:19.136144</dc:date>\n    <dc:format>image/svg+xml</dc:format>\n    <dc:creator>\n     <cc:Agent>\n      <dc:title>Matplotlib v3.3.1, https://matplotlib.org/</dc:title>\n     </cc:Agent>\n    </dc:creator>\n   </cc:Work>\n  </rdf:RDF>\n </metadata>\n <defs>\n  <style type=\"text/css\">*{stroke-linecap:butt;stroke-linejoin:round;}</style>\n </defs>\n <g id=\"figure_1\">\n  <g id=\"patch_1\">\n   <path d=\"M 0 318.274375 \nL 874.303125 318.274375 \nL 874.303125 0 \nL 0 0 \nz\n\" style=\"fill:none;\"/>\n  </g>\n  <g id=\"axes_1\">\n   <g id=\"patch_2\">\n    <path d=\"M 30.103125 294.118125 \nL 867.103125 294.118125 \nL 867.103125 22.318125 \nL 30.103125 22.318125 \nz\n\" style=\"fill:#ffffff;\"/>\n   </g>\n   <g id=\"matplotlib.axis_1\">\n    <g id=\"xtick_1\">\n     <g id=\"line2d_1\">\n      <defs>\n       <path d=\"M 0 0 \nL 0 3.5 \n\" id=\"m260e6f9526\" style=\"stroke:#000000;stroke-width:0.8;\"/>\n      </defs>\n      <g>\n       <use style=\"stroke:#000000;stroke-width:0.8;\" x=\"239.353125\" xlink:href=\"#m260e6f9526\" y=\"294.118125\"/>\n      </g>\n     </g>\n     <g id=\"text_1\">\n      <!-- baseline_model -->\n      <g transform=\"translate(200.340625 308.716563)scale(0.1 -0.1)\">\n       <defs>\n        <path d=\"M 48.6875 27.296875 \nQ 48.6875 37.203125 44.609375 42.84375 \nQ 40.53125 48.484375 33.40625 48.484375 \nQ 26.265625 48.484375 22.1875 42.84375 \nQ 18.109375 37.203125 18.109375 27.296875 \nQ 18.109375 17.390625 22.1875 11.75 \nQ 26.265625 6.109375 33.40625 6.109375 \nQ 40.53125 6.109375 44.609375 11.75 \nQ 48.6875 17.390625 48.6875 27.296875 \nz\nM 18.109375 46.390625 \nQ 20.953125 51.265625 25.265625 53.625 \nQ 29.59375 56 35.59375 56 \nQ 45.5625 56 51.78125 48.09375 \nQ 58.015625 40.1875 58.015625 27.296875 \nQ 58.015625 14.40625 51.78125 6.484375 \nQ 45.5625 -1.421875 35.59375 -1.421875 \nQ 29.59375 -1.421875 25.265625 0.953125 \nQ 20.953125 3.328125 18.109375 8.203125 \nL 18.109375 0 \nL 9.078125 0 \nL 9.078125 75.984375 \nL 18.109375 75.984375 \nz\n\" id=\"DejaVuSans-98\"/>\n        <path d=\"M 34.28125 27.484375 \nQ 23.390625 27.484375 19.1875 25 \nQ 14.984375 22.515625 14.984375 16.5 \nQ 14.984375 11.71875 18.140625 8.90625 \nQ 21.296875 6.109375 26.703125 6.109375 \nQ 34.1875 6.109375 38.703125 11.40625 \nQ 43.21875 16.703125 43.21875 25.484375 \nL 43.21875 27.484375 \nz\nM 52.203125 31.203125 \nL 52.203125 0 \nL 43.21875 0 \nL 43.21875 8.296875 \nQ 40.140625 3.328125 35.546875 0.953125 \nQ 30.953125 -1.421875 24.3125 -1.421875 \nQ 15.921875 -1.421875 10.953125 3.296875 \nQ 6 8.015625 6 15.921875 \nQ 6 25.140625 12.171875 29.828125 \nQ 18.359375 34.515625 30.609375 34.515625 \nL 43.21875 34.515625 \nL 43.21875 35.40625 \nQ 43.21875 41.609375 39.140625 45 \nQ 35.0625 48.390625 27.6875 48.390625 \nQ 23 48.390625 18.546875 47.265625 \nQ 14.109375 46.140625 10.015625 43.890625 \nL 10.015625 52.203125 \nQ 14.9375 54.109375 19.578125 55.046875 \nQ 24.21875 56 28.609375 56 \nQ 40.484375 56 46.34375 49.84375 \nQ 52.203125 43.703125 52.203125 31.203125 \nz\n\" id=\"DejaVuSans-97\"/>\n        <path d=\"M 44.28125 53.078125 \nL 44.28125 44.578125 \nQ 40.484375 46.53125 36.375 47.5 \nQ 32.28125 48.484375 27.875 48.484375 \nQ 21.1875 48.484375 17.84375 46.4375 \nQ 14.5 44.390625 14.5 40.28125 \nQ 14.5 37.15625 16.890625 35.375 \nQ 19.28125 33.59375 26.515625 31.984375 \nL 29.59375 31.296875 \nQ 39.15625 29.25 43.1875 25.515625 \nQ 47.21875 21.78125 47.21875 15.09375 \nQ 47.21875 7.46875 41.1875 3.015625 \nQ 35.15625 -1.421875 24.609375 -1.421875 \nQ 20.21875 -1.421875 15.453125 -0.5625 \nQ 10.6875 0.296875 5.421875 2 \nL 5.421875 11.28125 \nQ 10.40625 8.6875 15.234375 7.390625 \nQ 20.0625 6.109375 24.8125 6.109375 \nQ 31.15625 6.109375 34.5625 8.28125 \nQ 37.984375 10.453125 37.984375 14.40625 \nQ 37.984375 18.0625 35.515625 20.015625 \nQ 33.0625 21.96875 24.703125 23.78125 \nL 21.578125 24.515625 \nQ 13.234375 26.265625 9.515625 29.90625 \nQ 5.8125 33.546875 5.8125 39.890625 \nQ 5.8125 47.609375 11.28125 51.796875 \nQ 16.75 56 26.8125 56 \nQ 31.78125 56 36.171875 55.265625 \nQ 40.578125 54.546875 44.28125 53.078125 \nz\n\" id=\"DejaVuSans-115\"/>\n        <path d=\"M 56.203125 29.59375 \nL 56.203125 25.203125 \nL 14.890625 25.203125 \nQ 15.484375 15.921875 20.484375 11.0625 \nQ 25.484375 6.203125 34.421875 6.203125 \nQ 39.59375 6.203125 44.453125 7.46875 \nQ 49.3125 8.734375 54.109375 11.28125 \nL 54.109375 2.78125 \nQ 49.265625 0.734375 44.1875 -0.34375 \nQ 39.109375 -1.421875 33.890625 -1.421875 \nQ 20.796875 -1.421875 13.15625 6.1875 \nQ 5.515625 13.8125 5.515625 26.8125 \nQ 5.515625 40.234375 12.765625 48.109375 \nQ 20.015625 56 32.328125 56 \nQ 43.359375 56 49.78125 48.890625 \nQ 56.203125 41.796875 56.203125 29.59375 \nz\nM 47.21875 32.234375 \nQ 47.125 39.59375 43.09375 43.984375 \nQ 39.0625 48.390625 32.421875 48.390625 \nQ 24.90625 48.390625 20.390625 44.140625 \nQ 15.875 39.890625 15.1875 32.171875 \nz\n\" id=\"DejaVuSans-101\"/>\n        <path d=\"M 9.421875 75.984375 \nL 18.40625 75.984375 \nL 18.40625 0 \nL 9.421875 0 \nz\n\" id=\"DejaVuSans-108\"/>\n        <path d=\"M 9.421875 54.6875 \nL 18.40625 54.6875 \nL 18.40625 0 \nL 9.421875 0 \nz\nM 9.421875 75.984375 \nL 18.40625 75.984375 \nL 18.40625 64.59375 \nL 9.421875 64.59375 \nz\n\" id=\"DejaVuSans-105\"/>\n        <path d=\"M 54.890625 33.015625 \nL 54.890625 0 \nL 45.90625 0 \nL 45.90625 32.71875 \nQ 45.90625 40.484375 42.875 44.328125 \nQ 39.84375 48.1875 33.796875 48.1875 \nQ 26.515625 48.1875 22.3125 43.546875 \nQ 18.109375 38.921875 18.109375 30.90625 \nL 18.109375 0 \nL 9.078125 0 \nL 9.078125 54.6875 \nL 18.109375 54.6875 \nL 18.109375 46.1875 \nQ 21.34375 51.125 25.703125 53.5625 \nQ 30.078125 56 35.796875 56 \nQ 45.21875 56 50.046875 50.171875 \nQ 54.890625 44.34375 54.890625 33.015625 \nz\n\" id=\"DejaVuSans-110\"/>\n        <path d=\"M 50.984375 -16.609375 \nL 50.984375 -23.578125 \nL -0.984375 -23.578125 \nL -0.984375 -16.609375 \nz\n\" id=\"DejaVuSans-95\"/>\n        <path d=\"M 52 44.1875 \nQ 55.375 50.25 60.0625 53.125 \nQ 64.75 56 71.09375 56 \nQ 79.640625 56 84.28125 50.015625 \nQ 88.921875 44.046875 88.921875 33.015625 \nL 88.921875 0 \nL 79.890625 0 \nL 79.890625 32.71875 \nQ 79.890625 40.578125 77.09375 44.375 \nQ 74.3125 48.1875 68.609375 48.1875 \nQ 61.625 48.1875 57.5625 43.546875 \nQ 53.515625 38.921875 53.515625 30.90625 \nL 53.515625 0 \nL 44.484375 0 \nL 44.484375 32.71875 \nQ 44.484375 40.625 41.703125 44.40625 \nQ 38.921875 48.1875 33.109375 48.1875 \nQ 26.21875 48.1875 22.15625 43.53125 \nQ 18.109375 38.875 18.109375 30.90625 \nL 18.109375 0 \nL 9.078125 0 \nL 9.078125 54.6875 \nL 18.109375 54.6875 \nL 18.109375 46.1875 \nQ 21.1875 51.21875 25.484375 53.609375 \nQ 29.78125 56 35.6875 56 \nQ 41.65625 56 45.828125 52.96875 \nQ 50 49.953125 52 44.1875 \nz\n\" id=\"DejaVuSans-109\"/>\n        <path d=\"M 30.609375 48.390625 \nQ 23.390625 48.390625 19.1875 42.75 \nQ 14.984375 37.109375 14.984375 27.296875 \nQ 14.984375 17.484375 19.15625 11.84375 \nQ 23.34375 6.203125 30.609375 6.203125 \nQ 37.796875 6.203125 41.984375 11.859375 \nQ 46.1875 17.53125 46.1875 27.296875 \nQ 46.1875 37.015625 41.984375 42.703125 \nQ 37.796875 48.390625 30.609375 48.390625 \nz\nM 30.609375 56 \nQ 42.328125 56 49.015625 48.375 \nQ 55.71875 40.765625 55.71875 27.296875 \nQ 55.71875 13.875 49.015625 6.21875 \nQ 42.328125 -1.421875 30.609375 -1.421875 \nQ 18.84375 -1.421875 12.171875 6.21875 \nQ 5.515625 13.875 5.515625 27.296875 \nQ 5.515625 40.765625 12.171875 48.375 \nQ 18.84375 56 30.609375 56 \nz\n\" id=\"DejaVuSans-111\"/>\n        <path d=\"M 45.40625 46.390625 \nL 45.40625 75.984375 \nL 54.390625 75.984375 \nL 54.390625 0 \nL 45.40625 0 \nL 45.40625 8.203125 \nQ 42.578125 3.328125 38.25 0.953125 \nQ 33.9375 -1.421875 27.875 -1.421875 \nQ 17.96875 -1.421875 11.734375 6.484375 \nQ 5.515625 14.40625 5.515625 27.296875 \nQ 5.515625 40.1875 11.734375 48.09375 \nQ 17.96875 56 27.875 56 \nQ 33.9375 56 38.25 53.625 \nQ 42.578125 51.265625 45.40625 46.390625 \nz\nM 14.796875 27.296875 \nQ 14.796875 17.390625 18.875 11.75 \nQ 22.953125 6.109375 30.078125 6.109375 \nQ 37.203125 6.109375 41.296875 11.75 \nQ 45.40625 17.390625 45.40625 27.296875 \nQ 45.40625 37.203125 41.296875 42.84375 \nQ 37.203125 48.484375 30.078125 48.484375 \nQ 22.953125 48.484375 18.875 42.84375 \nQ 14.796875 37.203125 14.796875 27.296875 \nz\n\" id=\"DejaVuSans-100\"/>\n       </defs>\n       <use xlink:href=\"#DejaVuSans-98\"/>\n       <use x=\"63.476562\" xlink:href=\"#DejaVuSans-97\"/>\n       <use x=\"124.755859\" xlink:href=\"#DejaVuSans-115\"/>\n       <use x=\"176.855469\" xlink:href=\"#DejaVuSans-101\"/>\n       <use x=\"238.378906\" xlink:href=\"#DejaVuSans-108\"/>\n       <use x=\"266.162109\" xlink:href=\"#DejaVuSans-105\"/>\n       <use x=\"293.945312\" xlink:href=\"#DejaVuSans-110\"/>\n       <use x=\"357.324219\" xlink:href=\"#DejaVuSans-101\"/>\n       <use x=\"418.847656\" xlink:href=\"#DejaVuSans-95\"/>\n       <use x=\"468.847656\" xlink:href=\"#DejaVuSans-109\"/>\n       <use x=\"566.259766\" xlink:href=\"#DejaVuSans-111\"/>\n       <use x=\"627.441406\" xlink:href=\"#DejaVuSans-100\"/>\n       <use x=\"690.917969\" xlink:href=\"#DejaVuSans-101\"/>\n       <use x=\"752.441406\" xlink:href=\"#DejaVuSans-108\"/>\n      </g>\n     </g>\n    </g>\n    <g id=\"xtick_2\">\n     <g id=\"line2d_2\">\n      <g>\n       <use style=\"stroke:#000000;stroke-width:0.8;\" x=\"657.853125\" xlink:href=\"#m260e6f9526\" y=\"294.118125\"/>\n      </g>\n     </g>\n     <g id=\"text_2\">\n      <!-- random_forest_model_1 -->\n      <g transform=\"translate(597.80625 308.716563)scale(0.1 -0.1)\">\n       <defs>\n        <path d=\"M 41.109375 46.296875 \nQ 39.59375 47.171875 37.8125 47.578125 \nQ 36.03125 48 33.890625 48 \nQ 26.265625 48 22.1875 43.046875 \nQ 18.109375 38.09375 18.109375 28.8125 \nL 18.109375 0 \nL 9.078125 0 \nL 9.078125 54.6875 \nL 18.109375 54.6875 \nL 18.109375 46.1875 \nQ 20.953125 51.171875 25.484375 53.578125 \nQ 30.03125 56 36.53125 56 \nQ 37.453125 56 38.578125 55.875 \nQ 39.703125 55.765625 41.0625 55.515625 \nz\n\" id=\"DejaVuSans-114\"/>\n        <path d=\"M 37.109375 75.984375 \nL 37.109375 68.5 \nL 28.515625 68.5 \nQ 23.6875 68.5 21.796875 66.546875 \nQ 19.921875 64.59375 19.921875 59.515625 \nL 19.921875 54.6875 \nL 34.71875 54.6875 \nL 34.71875 47.703125 \nL 19.921875 47.703125 \nL 19.921875 0 \nL 10.890625 0 \nL 10.890625 47.703125 \nL 2.296875 47.703125 \nL 2.296875 54.6875 \nL 10.890625 54.6875 \nL 10.890625 58.5 \nQ 10.890625 67.625 15.140625 71.796875 \nQ 19.390625 75.984375 28.609375 75.984375 \nz\n\" id=\"DejaVuSans-102\"/>\n        <path d=\"M 18.3125 70.21875 \nL 18.3125 54.6875 \nL 36.8125 54.6875 \nL 36.8125 47.703125 \nL 18.3125 47.703125 \nL 18.3125 18.015625 \nQ 18.3125 11.328125 20.140625 9.421875 \nQ 21.96875 7.515625 27.59375 7.515625 \nL 36.8125 7.515625 \nL 36.8125 0 \nL 27.59375 0 \nQ 17.1875 0 13.234375 3.875 \nQ 9.28125 7.765625 9.28125 18.015625 \nL 9.28125 47.703125 \nL 2.6875 47.703125 \nL 2.6875 54.6875 \nL 9.28125 54.6875 \nL 9.28125 70.21875 \nz\n\" id=\"DejaVuSans-116\"/>\n        <path d=\"M 12.40625 8.296875 \nL 28.515625 8.296875 \nL 28.515625 63.921875 \nL 10.984375 60.40625 \nL 10.984375 69.390625 \nL 28.421875 72.90625 \nL 38.28125 72.90625 \nL 38.28125 8.296875 \nL 54.390625 8.296875 \nL 54.390625 0 \nL 12.40625 0 \nz\n\" id=\"DejaVuSans-49\"/>\n       </defs>\n       <use xlink:href=\"#DejaVuSans-114\"/>\n       <use x=\"41.113281\" xlink:href=\"#DejaVuSans-97\"/>\n       <use x=\"102.392578\" xlink:href=\"#DejaVuSans-110\"/>\n       <use x=\"165.771484\" xlink:href=\"#DejaVuSans-100\"/>\n       <use x=\"229.248047\" xlink:href=\"#DejaVuSans-111\"/>\n       <use x=\"290.429688\" xlink:href=\"#DejaVuSans-109\"/>\n       <use x=\"387.841797\" xlink:href=\"#DejaVuSans-95\"/>\n       <use x=\"437.841797\" xlink:href=\"#DejaVuSans-102\"/>\n       <use x=\"473.046875\" xlink:href=\"#DejaVuSans-111\"/>\n       <use x=\"534.228516\" xlink:href=\"#DejaVuSans-114\"/>\n       <use x=\"573.091797\" xlink:href=\"#DejaVuSans-101\"/>\n       <use x=\"634.615234\" xlink:href=\"#DejaVuSans-115\"/>\n       <use x=\"686.714844\" xlink:href=\"#DejaVuSans-116\"/>\n       <use x=\"725.923828\" xlink:href=\"#DejaVuSans-95\"/>\n       <use x=\"775.923828\" xlink:href=\"#DejaVuSans-109\"/>\n       <use x=\"873.335938\" xlink:href=\"#DejaVuSans-111\"/>\n       <use x=\"934.517578\" xlink:href=\"#DejaVuSans-100\"/>\n       <use x=\"997.994141\" xlink:href=\"#DejaVuSans-101\"/>\n       <use x=\"1059.517578\" xlink:href=\"#DejaVuSans-108\"/>\n       <use x=\"1087.300781\" xlink:href=\"#DejaVuSans-95\"/>\n       <use x=\"1137.300781\" xlink:href=\"#DejaVuSans-49\"/>\n      </g>\n     </g>\n    </g>\n   </g>\n   <g id=\"matplotlib.axis_2\">\n    <g id=\"ytick_1\">\n     <g id=\"line2d_3\">\n      <defs>\n       <path d=\"M 0 0 \nL -3.5 0 \n\" id=\"m6ca5517a3d\" style=\"stroke:#000000;stroke-width:0.8;\"/>\n      </defs>\n      <g>\n       <use style=\"stroke:#000000;stroke-width:0.8;\" x=\"30.103125\" xlink:href=\"#m6ca5517a3d\" y=\"242.440167\"/>\n      </g>\n     </g>\n     <g id=\"text_3\">\n      <!-- 0.4 -->\n      <g transform=\"translate(7.2 246.239385)scale(0.1 -0.1)\">\n       <defs>\n        <path d=\"M 31.78125 66.40625 \nQ 24.171875 66.40625 20.328125 58.90625 \nQ 16.5 51.421875 16.5 36.375 \nQ 16.5 21.390625 20.328125 13.890625 \nQ 24.171875 6.390625 31.78125 6.390625 \nQ 39.453125 6.390625 43.28125 13.890625 \nQ 47.125 21.390625 47.125 36.375 \nQ 47.125 51.421875 43.28125 58.90625 \nQ 39.453125 66.40625 31.78125 66.40625 \nz\nM 31.78125 74.21875 \nQ 44.046875 74.21875 50.515625 64.515625 \nQ 56.984375 54.828125 56.984375 36.375 \nQ 56.984375 17.96875 50.515625 8.265625 \nQ 44.046875 -1.421875 31.78125 -1.421875 \nQ 19.53125 -1.421875 13.0625 8.265625 \nQ 6.59375 17.96875 6.59375 36.375 \nQ 6.59375 54.828125 13.0625 64.515625 \nQ 19.53125 74.21875 31.78125 74.21875 \nz\n\" id=\"DejaVuSans-48\"/>\n        <path d=\"M 10.6875 12.40625 \nL 21 12.40625 \nL 21 0 \nL 10.6875 0 \nz\n\" id=\"DejaVuSans-46\"/>\n        <path d=\"M 37.796875 64.3125 \nL 12.890625 25.390625 \nL 37.796875 25.390625 \nz\nM 35.203125 72.90625 \nL 47.609375 72.90625 \nL 47.609375 25.390625 \nL 58.015625 25.390625 \nL 58.015625 17.1875 \nL 47.609375 17.1875 \nL 47.609375 0 \nL 37.796875 0 \nL 37.796875 17.1875 \nL 4.890625 17.1875 \nL 4.890625 26.703125 \nz\n\" id=\"DejaVuSans-52\"/>\n       </defs>\n       <use xlink:href=\"#DejaVuSans-48\"/>\n       <use x=\"63.623047\" xlink:href=\"#DejaVuSans-46\"/>\n       <use x=\"95.410156\" xlink:href=\"#DejaVuSans-52\"/>\n      </g>\n     </g>\n    </g>\n    <g id=\"ytick_2\">\n     <g id=\"line2d_4\">\n      <g>\n       <use style=\"stroke:#000000;stroke-width:0.8;\" x=\"30.103125\" xlink:href=\"#m6ca5517a3d\" y=\"189.063252\"/>\n      </g>\n     </g>\n     <g id=\"text_4\">\n      <!-- 0.5 -->\n      <g transform=\"translate(7.2 192.862471)scale(0.1 -0.1)\">\n       <defs>\n        <path d=\"M 10.796875 72.90625 \nL 49.515625 72.90625 \nL 49.515625 64.59375 \nL 19.828125 64.59375 \nL 19.828125 46.734375 \nQ 21.96875 47.46875 24.109375 47.828125 \nQ 26.265625 48.1875 28.421875 48.1875 \nQ 40.625 48.1875 47.75 41.5 \nQ 54.890625 34.8125 54.890625 23.390625 \nQ 54.890625 11.625 47.5625 5.09375 \nQ 40.234375 -1.421875 26.90625 -1.421875 \nQ 22.3125 -1.421875 17.546875 -0.640625 \nQ 12.796875 0.140625 7.71875 1.703125 \nL 7.71875 11.625 \nQ 12.109375 9.234375 16.796875 8.0625 \nQ 21.484375 6.890625 26.703125 6.890625 \nQ 35.15625 6.890625 40.078125 11.328125 \nQ 45.015625 15.765625 45.015625 23.390625 \nQ 45.015625 31 40.078125 35.4375 \nQ 35.15625 39.890625 26.703125 39.890625 \nQ 22.75 39.890625 18.8125 39.015625 \nQ 14.890625 38.140625 10.796875 36.28125 \nz\n\" id=\"DejaVuSans-53\"/>\n       </defs>\n       <use xlink:href=\"#DejaVuSans-48\"/>\n       <use x=\"63.623047\" xlink:href=\"#DejaVuSans-46\"/>\n       <use x=\"95.410156\" xlink:href=\"#DejaVuSans-53\"/>\n      </g>\n     </g>\n    </g>\n    <g id=\"ytick_3\">\n     <g id=\"line2d_5\">\n      <g>\n       <use style=\"stroke:#000000;stroke-width:0.8;\" x=\"30.103125\" xlink:href=\"#m6ca5517a3d\" y=\"135.686337\"/>\n      </g>\n     </g>\n     <g id=\"text_5\">\n      <!-- 0.6 -->\n      <g transform=\"translate(7.2 139.485556)scale(0.1 -0.1)\">\n       <defs>\n        <path d=\"M 33.015625 40.375 \nQ 26.375 40.375 22.484375 35.828125 \nQ 18.609375 31.296875 18.609375 23.390625 \nQ 18.609375 15.53125 22.484375 10.953125 \nQ 26.375 6.390625 33.015625 6.390625 \nQ 39.65625 6.390625 43.53125 10.953125 \nQ 47.40625 15.53125 47.40625 23.390625 \nQ 47.40625 31.296875 43.53125 35.828125 \nQ 39.65625 40.375 33.015625 40.375 \nz\nM 52.59375 71.296875 \nL 52.59375 62.3125 \nQ 48.875 64.0625 45.09375 64.984375 \nQ 41.3125 65.921875 37.59375 65.921875 \nQ 27.828125 65.921875 22.671875 59.328125 \nQ 17.53125 52.734375 16.796875 39.40625 \nQ 19.671875 43.65625 24.015625 45.921875 \nQ 28.375 48.1875 33.59375 48.1875 \nQ 44.578125 48.1875 50.953125 41.515625 \nQ 57.328125 34.859375 57.328125 23.390625 \nQ 57.328125 12.15625 50.6875 5.359375 \nQ 44.046875 -1.421875 33.015625 -1.421875 \nQ 20.359375 -1.421875 13.671875 8.265625 \nQ 6.984375 17.96875 6.984375 36.375 \nQ 6.984375 53.65625 15.1875 63.9375 \nQ 23.390625 74.21875 37.203125 74.21875 \nQ 40.921875 74.21875 44.703125 73.484375 \nQ 48.484375 72.75 52.59375 71.296875 \nz\n\" id=\"DejaVuSans-54\"/>\n       </defs>\n       <use xlink:href=\"#DejaVuSans-48\"/>\n       <use x=\"63.623047\" xlink:href=\"#DejaVuSans-46\"/>\n       <use x=\"95.410156\" xlink:href=\"#DejaVuSans-54\"/>\n      </g>\n     </g>\n    </g>\n    <g id=\"ytick_4\">\n     <g id=\"line2d_6\">\n      <g>\n       <use style=\"stroke:#000000;stroke-width:0.8;\" x=\"30.103125\" xlink:href=\"#m6ca5517a3d\" y=\"82.309422\"/>\n      </g>\n     </g>\n     <g id=\"text_6\">\n      <!-- 0.7 -->\n      <g transform=\"translate(7.2 86.108641)scale(0.1 -0.1)\">\n       <defs>\n        <path d=\"M 8.203125 72.90625 \nL 55.078125 72.90625 \nL 55.078125 68.703125 \nL 28.609375 0 \nL 18.3125 0 \nL 43.21875 64.59375 \nL 8.203125 64.59375 \nz\n\" id=\"DejaVuSans-55\"/>\n       </defs>\n       <use xlink:href=\"#DejaVuSans-48\"/>\n       <use x=\"63.623047\" xlink:href=\"#DejaVuSans-46\"/>\n       <use x=\"95.410156\" xlink:href=\"#DejaVuSans-55\"/>\n      </g>\n     </g>\n    </g>\n    <g id=\"ytick_5\">\n     <g id=\"line2d_7\">\n      <g>\n       <use style=\"stroke:#000000;stroke-width:0.8;\" x=\"30.103125\" xlink:href=\"#m6ca5517a3d\" y=\"28.932508\"/>\n      </g>\n     </g>\n     <g id=\"text_7\">\n      <!-- 0.8 -->\n      <g transform=\"translate(7.2 32.731727)scale(0.1 -0.1)\">\n       <defs>\n        <path d=\"M 31.78125 34.625 \nQ 24.75 34.625 20.71875 30.859375 \nQ 16.703125 27.09375 16.703125 20.515625 \nQ 16.703125 13.921875 20.71875 10.15625 \nQ 24.75 6.390625 31.78125 6.390625 \nQ 38.8125 6.390625 42.859375 10.171875 \nQ 46.921875 13.96875 46.921875 20.515625 \nQ 46.921875 27.09375 42.890625 30.859375 \nQ 38.875 34.625 31.78125 34.625 \nz\nM 21.921875 38.8125 \nQ 15.578125 40.375 12.03125 44.71875 \nQ 8.5 49.078125 8.5 55.328125 \nQ 8.5 64.0625 14.71875 69.140625 \nQ 20.953125 74.21875 31.78125 74.21875 \nQ 42.671875 74.21875 48.875 69.140625 \nQ 55.078125 64.0625 55.078125 55.328125 \nQ 55.078125 49.078125 51.53125 44.71875 \nQ 48 40.375 41.703125 38.8125 \nQ 48.828125 37.15625 52.796875 32.3125 \nQ 56.78125 27.484375 56.78125 20.515625 \nQ 56.78125 9.90625 50.3125 4.234375 \nQ 43.84375 -1.421875 31.78125 -1.421875 \nQ 19.734375 -1.421875 13.25 4.234375 \nQ 6.78125 9.90625 6.78125 20.515625 \nQ 6.78125 27.484375 10.78125 32.3125 \nQ 14.796875 37.15625 21.921875 38.8125 \nz\nM 18.3125 54.390625 \nQ 18.3125 48.734375 21.84375 45.5625 \nQ 25.390625 42.390625 31.78125 42.390625 \nQ 38.140625 42.390625 41.71875 45.5625 \nQ 45.3125 48.734375 45.3125 54.390625 \nQ 45.3125 60.0625 41.71875 63.234375 \nQ 38.140625 66.40625 31.78125 66.40625 \nQ 25.390625 66.40625 21.84375 63.234375 \nQ 18.3125 60.0625 18.3125 54.390625 \nz\n\" id=\"DejaVuSans-56\"/>\n       </defs>\n       <use xlink:href=\"#DejaVuSans-48\"/>\n       <use x=\"63.623047\" xlink:href=\"#DejaVuSans-46\"/>\n       <use x=\"95.410156\" xlink:href=\"#DejaVuSans-56\"/>\n      </g>\n     </g>\n    </g>\n   </g>\n   <g id=\"line2d_8\">\n    <path clip-path=\"url(#pe0c6f3a620)\" d=\"M 207.965625 278.24457 \nL 270.740625 278.24457 \nL 270.740625 275.277354 \nL 207.965625 275.277354 \nL 207.965625 278.24457 \n\" style=\"fill:none;stroke:#000000;stroke-linecap:square;\"/>\n   </g>\n   <g id=\"line2d_9\">\n    <path clip-path=\"url(#pe0c6f3a620)\" d=\"M 239.353125 278.24457 \nL 239.353125 281.76358 \n\" style=\"fill:none;stroke:#000000;stroke-linecap:square;\"/>\n   </g>\n   <g id=\"line2d_10\">\n    <path clip-path=\"url(#pe0c6f3a620)\" d=\"M 239.353125 275.277354 \nL 239.353125 272.196642 \n\" style=\"fill:none;stroke:#000000;stroke-linecap:square;\"/>\n   </g>\n   <g id=\"line2d_11\">\n    <path clip-path=\"url(#pe0c6f3a620)\" d=\"M 223.659375 281.76358 \nL 255.046875 281.76358 \n\" style=\"fill:none;stroke:#000000;stroke-linecap:square;\"/>\n   </g>\n   <g id=\"line2d_12\">\n    <path clip-path=\"url(#pe0c6f3a620)\" d=\"M 223.659375 272.196642 \nL 255.046875 272.196642 \n\" style=\"fill:none;stroke:#000000;stroke-linecap:square;\"/>\n   </g>\n   <g id=\"line2d_13\"/>\n   <g id=\"line2d_14\">\n    <path clip-path=\"url(#pe0c6f3a620)\" d=\"M 626.465625 57.02215 \nL 689.240625 57.02215 \nL 689.240625 37.240712 \nL 626.465625 37.240712 \nL 626.465625 57.02215 \n\" style=\"fill:none;stroke:#000000;stroke-linecap:square;\"/>\n   </g>\n   <g id=\"line2d_15\">\n    <path clip-path=\"url(#pe0c6f3a620)\" d=\"M 657.853125 57.02215 \nL 657.853125 58.340913 \n\" style=\"fill:none;stroke:#000000;stroke-linecap:square;\"/>\n   </g>\n   <g id=\"line2d_16\">\n    <path clip-path=\"url(#pe0c6f3a620)\" d=\"M 657.853125 37.240712 \nL 657.853125 34.67267 \n\" style=\"fill:none;stroke:#000000;stroke-linecap:square;\"/>\n   </g>\n   <g id=\"line2d_17\">\n    <path clip-path=\"url(#pe0c6f3a620)\" d=\"M 642.159375 58.340913 \nL 673.546875 58.340913 \n\" style=\"fill:none;stroke:#000000;stroke-linecap:square;\"/>\n   </g>\n   <g id=\"line2d_18\">\n    <path clip-path=\"url(#pe0c6f3a620)\" d=\"M 642.159375 34.67267 \nL 673.546875 34.67267 \n\" style=\"fill:none;stroke:#000000;stroke-linecap:square;\"/>\n   </g>\n   <g id=\"line2d_19\"/>\n   <g id=\"line2d_20\">\n    <path clip-path=\"url(#pe0c6f3a620)\" d=\"M 207.965625 277.255498 \nL 270.740625 277.255498 \n\" style=\"fill:none;stroke:#ff7f0e;stroke-linecap:square;\"/>\n   </g>\n   <g id=\"line2d_21\">\n    <path clip-path=\"url(#pe0c6f3a620)\" d=\"M 626.465625 43.579819 \nL 689.240625 43.579819 \n\" style=\"fill:none;stroke:#ff7f0e;stroke-linecap:square;\"/>\n   </g>\n   <g id=\"patch_3\">\n    <path d=\"M 30.103125 294.118125 \nL 30.103125 22.318125 \n\" style=\"fill:none;stroke:#000000;stroke-linecap:square;stroke-linejoin:miter;stroke-width:0.8;\"/>\n   </g>\n   <g id=\"patch_4\">\n    <path d=\"M 867.103125 294.118125 \nL 867.103125 22.318125 \n\" style=\"fill:none;stroke:#000000;stroke-linecap:square;stroke-linejoin:miter;stroke-width:0.8;\"/>\n   </g>\n   <g id=\"patch_5\">\n    <path d=\"M 30.103125 294.118125 \nL 867.103125 294.118125 \n\" style=\"fill:none;stroke:#000000;stroke-linecap:square;stroke-linejoin:miter;stroke-width:0.8;\"/>\n   </g>\n   <g id=\"patch_6\">\n    <path d=\"M 30.103125 22.318125 \nL 867.103125 22.318125 \n\" style=\"fill:none;stroke:#000000;stroke-linecap:square;stroke-linejoin:miter;stroke-width:0.8;\"/>\n   </g>\n   <g id=\"text_8\">\n    <!-- predict Z1, Z2, Z3 -->\n    <g transform=\"translate(394.326563 16.318125)scale(0.12 -0.12)\">\n     <defs>\n      <path d=\"M 18.109375 8.203125 \nL 18.109375 -20.796875 \nL 9.078125 -20.796875 \nL 9.078125 54.6875 \nL 18.109375 54.6875 \nL 18.109375 46.390625 \nQ 20.953125 51.265625 25.265625 53.625 \nQ 29.59375 56 35.59375 56 \nQ 45.5625 56 51.78125 48.09375 \nQ 58.015625 40.1875 58.015625 27.296875 \nQ 58.015625 14.40625 51.78125 6.484375 \nQ 45.5625 -1.421875 35.59375 -1.421875 \nQ 29.59375 -1.421875 25.265625 0.953125 \nQ 20.953125 3.328125 18.109375 8.203125 \nz\nM 48.6875 27.296875 \nQ 48.6875 37.203125 44.609375 42.84375 \nQ 40.53125 48.484375 33.40625 48.484375 \nQ 26.265625 48.484375 22.1875 42.84375 \nQ 18.109375 37.203125 18.109375 27.296875 \nQ 18.109375 17.390625 22.1875 11.75 \nQ 26.265625 6.109375 33.40625 6.109375 \nQ 40.53125 6.109375 44.609375 11.75 \nQ 48.6875 17.390625 48.6875 27.296875 \nz\n\" id=\"DejaVuSans-112\"/>\n      <path d=\"M 48.78125 52.59375 \nL 48.78125 44.1875 \nQ 44.96875 46.296875 41.140625 47.34375 \nQ 37.3125 48.390625 33.40625 48.390625 \nQ 24.65625 48.390625 19.8125 42.84375 \nQ 14.984375 37.3125 14.984375 27.296875 \nQ 14.984375 17.28125 19.8125 11.734375 \nQ 24.65625 6.203125 33.40625 6.203125 \nQ 37.3125 6.203125 41.140625 7.25 \nQ 44.96875 8.296875 48.78125 10.40625 \nL 48.78125 2.09375 \nQ 45.015625 0.34375 40.984375 -0.53125 \nQ 36.96875 -1.421875 32.421875 -1.421875 \nQ 20.0625 -1.421875 12.78125 6.34375 \nQ 5.515625 14.109375 5.515625 27.296875 \nQ 5.515625 40.671875 12.859375 48.328125 \nQ 20.21875 56 33.015625 56 \nQ 37.15625 56 41.109375 55.140625 \nQ 45.0625 54.296875 48.78125 52.59375 \nz\n\" id=\"DejaVuSans-99\"/>\n      <path id=\"DejaVuSans-32\"/>\n      <path d=\"M 5.609375 72.90625 \nL 62.890625 72.90625 \nL 62.890625 65.375 \nL 16.796875 8.296875 \nL 64.015625 8.296875 \nL 64.015625 0 \nL 4.5 0 \nL 4.5 7.515625 \nL 50.59375 64.59375 \nL 5.609375 64.59375 \nz\n\" id=\"DejaVuSans-90\"/>\n      <path d=\"M 11.71875 12.40625 \nL 22.015625 12.40625 \nL 22.015625 4 \nL 14.015625 -11.625 \nL 7.71875 -11.625 \nL 11.71875 4 \nz\n\" id=\"DejaVuSans-44\"/>\n      <path d=\"M 19.1875 8.296875 \nL 53.609375 8.296875 \nL 53.609375 0 \nL 7.328125 0 \nL 7.328125 8.296875 \nQ 12.9375 14.109375 22.625 23.890625 \nQ 32.328125 33.6875 34.8125 36.53125 \nQ 39.546875 41.84375 41.421875 45.53125 \nQ 43.3125 49.21875 43.3125 52.78125 \nQ 43.3125 58.59375 39.234375 62.25 \nQ 35.15625 65.921875 28.609375 65.921875 \nQ 23.96875 65.921875 18.8125 64.3125 \nQ 13.671875 62.703125 7.8125 59.421875 \nL 7.8125 69.390625 \nQ 13.765625 71.78125 18.9375 73 \nQ 24.125 74.21875 28.421875 74.21875 \nQ 39.75 74.21875 46.484375 68.546875 \nQ 53.21875 62.890625 53.21875 53.421875 \nQ 53.21875 48.921875 51.53125 44.890625 \nQ 49.859375 40.875 45.40625 35.40625 \nQ 44.1875 33.984375 37.640625 27.21875 \nQ 31.109375 20.453125 19.1875 8.296875 \nz\n\" id=\"DejaVuSans-50\"/>\n      <path d=\"M 40.578125 39.3125 \nQ 47.65625 37.796875 51.625 33 \nQ 55.609375 28.21875 55.609375 21.1875 \nQ 55.609375 10.40625 48.1875 4.484375 \nQ 40.765625 -1.421875 27.09375 -1.421875 \nQ 22.515625 -1.421875 17.65625 -0.515625 \nQ 12.796875 0.390625 7.625 2.203125 \nL 7.625 11.71875 \nQ 11.71875 9.328125 16.59375 8.109375 \nQ 21.484375 6.890625 26.8125 6.890625 \nQ 36.078125 6.890625 40.9375 10.546875 \nQ 45.796875 14.203125 45.796875 21.1875 \nQ 45.796875 27.640625 41.28125 31.265625 \nQ 36.765625 34.90625 28.71875 34.90625 \nL 20.21875 34.90625 \nL 20.21875 43.015625 \nL 29.109375 43.015625 \nQ 36.375 43.015625 40.234375 45.921875 \nQ 44.09375 48.828125 44.09375 54.296875 \nQ 44.09375 59.90625 40.109375 62.90625 \nQ 36.140625 65.921875 28.71875 65.921875 \nQ 24.65625 65.921875 20.015625 65.03125 \nQ 15.375 64.15625 9.8125 62.3125 \nL 9.8125 71.09375 \nQ 15.4375 72.65625 20.34375 73.4375 \nQ 25.25 74.21875 29.59375 74.21875 \nQ 40.828125 74.21875 47.359375 69.109375 \nQ 53.90625 64.015625 53.90625 55.328125 \nQ 53.90625 49.265625 50.4375 45.09375 \nQ 46.96875 40.921875 40.578125 39.3125 \nz\n\" id=\"DejaVuSans-51\"/>\n     </defs>\n     <use xlink:href=\"#DejaVuSans-112\"/>\n     <use x=\"63.476562\" xlink:href=\"#DejaVuSans-114\"/>\n     <use x=\"102.339844\" xlink:href=\"#DejaVuSans-101\"/>\n     <use x=\"163.863281\" xlink:href=\"#DejaVuSans-100\"/>\n     <use x=\"227.339844\" xlink:href=\"#DejaVuSans-105\"/>\n     <use x=\"255.123047\" xlink:href=\"#DejaVuSans-99\"/>\n     <use x=\"310.103516\" xlink:href=\"#DejaVuSans-116\"/>\n     <use x=\"349.3125\" xlink:href=\"#DejaVuSans-32\"/>\n     <use x=\"381.099609\" xlink:href=\"#DejaVuSans-90\"/>\n     <use x=\"449.605469\" xlink:href=\"#DejaVuSans-49\"/>\n     <use x=\"513.228516\" xlink:href=\"#DejaVuSans-44\"/>\n     <use x=\"545.015625\" xlink:href=\"#DejaVuSans-32\"/>\n     <use x=\"576.802734\" xlink:href=\"#DejaVuSans-90\"/>\n     <use x=\"645.308594\" xlink:href=\"#DejaVuSans-50\"/>\n     <use x=\"708.931641\" xlink:href=\"#DejaVuSans-44\"/>\n     <use x=\"740.71875\" xlink:href=\"#DejaVuSans-32\"/>\n     <use x=\"772.505859\" xlink:href=\"#DejaVuSans-90\"/>\n     <use x=\"841.011719\" xlink:href=\"#DejaVuSans-51\"/>\n    </g>\n   </g>\n  </g>\n </g>\n <defs>\n  <clipPath id=\"pe0c6f3a620\">\n   <rect height=\"271.8\" width=\"837\" x=\"30.103125\" y=\"22.318125\"/>\n  </clipPath>\n </defs>\n</svg>\n",
      "image/png": "[encoded data removed]"
     },
     "metadata": {
      "needs_background": "light"
     }
    }
   ],
   "source": [
    "X_cols = ['is_positive_sentiment', 'n_words', 'n_fans', 'n_reviews']\n",
    "Y_cols = ['Z1','Z2', 'Z3']\n",
    "df = evaluation_help_functions.get_pandas_data('saved_data/data_features_interpretable.csv')\n",
    "X_data = df[df.test==1][X_cols].to_numpy()\n",
    "Y_data = df[df.test==1][Y_cols]\n",
    "score_dict = evaluation_help_functions.get_treatment_model_crossval_scores_basic(models, X_data, Y_data)\n",
    "evaluation_help_functions.plot_model_scores(score_dict, \"predict Z1, Z2, Z3\")"
   ]
  },
  {
   "source": [
    "## Get classification reports for the models"
   ],
   "cell_type": "markdown",
   "metadata": {}
  },
  {
   "cell_type": "code",
   "execution_count": 83,
   "metadata": {},
   "outputs": [
    {
     "output_type": "stream",
     "name": "stdout",
     "text": [
      "Data loaded! Loaded data info:\n<class 'pandas.core.frame.DataFrame'>\nRangeIndex: 10114 entries, 0 to 10113\nData columns (total 20 columns):\n #   Column                 Non-Null Count  Dtype  \n---  ------                 --------------  -----  \n 0   user_id                10114 non-null  object \n 1   business_id            10114 non-null  object \n 2   stars                  10114 non-null  int64  \n 3   useful                 10114 non-null  int64  \n 4   text                   10114 non-null  object \n 5   date                   10114 non-null  object \n 6   text_length            10114 non-null  int64  \n 7   nbr_words              10114 non-null  int64  \n 8   lemmatized_text        10114 non-null  object \n 9   processed_text         10114 non-null  object \n 10  test                   10114 non-null  int64  \n 11  Z1                     10114 non-null  int64  \n 12  Z2                     10114 non-null  int64  \n 13  Z3                     10114 non-null  int64  \n 14  is_positive_sentiment  10114 non-null  float64\n 15  sentiment_certainty    10114 non-null  float64\n 16  n_words                10114 non-null  int64  \n 17  n_fans                 10114 non-null  int64  \n 18  n_reviews              10114 non-null  int64  \n 19  useful_discrete        10114 non-null  int64  \ndtypes: float64(2), int64(12), object(6)\nmemory usage: 1.5+ MB\n"
     ]
    }
   ],
   "source": [
    "X_cols = ['is_positive_sentiment', 'n_words', 'n_fans', 'n_reviews']\n",
    "Y_cols = ['Z1','Z2', 'Z3']\n",
    "df = evaluation_help_functions.get_pandas_data('saved_data/data_features_interpretable.csv')\n",
    "X_data = df[df.test==1][X_cols].to_numpy()\n",
    "Y_data = df[df.test==1][Y_cols].to_numpy()\n",
    "predictions_dict = evaluation_help_functions.get_treatment_model_crossval_predictions_basic(models, X_data, Y_data)"
   ]
  },
  {
   "cell_type": "code",
   "execution_count": 84,
   "metadata": {},
   "outputs": [],
   "source": [
    "def categorize_y_vals(y_vals):\n",
    "    categorized_y = []\n",
    "    for y_val in y_vals:\n",
    "        categorized_y.append(np.where(np.all(Y_categorical==y_val, axis=1))[0].item())\n",
    "\n",
    "    return categorized_y"
   ]
  },
  {
   "cell_type": "code",
   "execution_count": 85,
   "metadata": {},
   "outputs": [
    {
     "output_type": "stream",
     "name": "stdout",
     "text": [
      "CLASSIFICATION REPORT baseline_model\n              precision    recall  f1-score   support\n\n     [0 0 0]       0.31      0.31      0.31      2542\n     [0 0 1]       0.02      0.03      0.02       159\n     [0 1 0]       0.47      0.45      0.46      3900\n     [0 1 1]       0.02      0.03      0.03       269\n     [1 0 0]       0.03      0.03      0.03       468\n     [1 0 1]       0.05      0.01      0.02       175\n     [1 1 0]       0.07      0.09      0.08       527\n     [1 1 1]       0.02      0.02      0.02        53\n\n    accuracy                           0.32      8093\n   macro avg       0.12      0.12      0.12      8093\nweighted avg       0.33      0.32      0.33      8093\n\n===========================================\nCLASSIFICATION REPORT random_forest_model_1\n              precision    recall  f1-score   support\n\n     [0 0 0]       0.73      0.80      0.77      2542\n     [0 0 1]       0.26      0.06      0.10       159\n     [0 1 0]       0.87      0.92      0.90      3900\n     [0 1 1]       0.07      0.00      0.01       269\n     [1 0 0]       0.52      0.63      0.57       468\n     [1 0 1]       0.56      0.86      0.68       175\n     [1 1 0]       0.42      0.24      0.30       527\n     [1 1 1]       0.75      0.06      0.11        53\n\n    accuracy                           0.77      8093\n   macro avg       0.52      0.45      0.43      8093\nweighted avg       0.73      0.77      0.74      8093\n\n===========================================\n"
     ]
    }
   ],
   "source": [
    "from sklearn.metrics import classification_report\n",
    "target_names = [str(val) for val in Y_categorical]\n",
    "\n",
    "for model_name, model in models.items():\n",
    "    print(f\"CLASSIFICATION REPORT {model_name}\")\n",
    "    print(classification_report(categorize_y_vals(Y_data), categorize_y_vals(predictions_dict[model_name]), target_names=target_names))\n",
    "    print(\"===========================================\")"
   ]
  },
  {
   "source": [
    "## Get treatment probabilities for all x"
   ],
   "cell_type": "markdown",
   "metadata": {}
  },
  {
   "cell_type": "code",
   "execution_count": 105,
   "metadata": {},
   "outputs": [],
   "source": [
    "import pandas as pd"
   ]
  },
  {
   "cell_type": "code",
   "execution_count": 103,
   "metadata": {},
   "outputs": [
    {
     "output_type": "execute_result",
     "data": {
      "text/plain": [
       "       is_positive_sentiment      n_words       n_fans    n_reviews\n",
       "count            8093.000000  8093.000000  8093.000000  8093.000000\n",
       "mean                0.640554   139.994687    16.087977   159.807364\n",
       "std                 0.479868   129.970251    56.368684   317.321461\n",
       "min                 0.000000     1.000000     0.000000     1.000000\n",
       "25%                 0.000000    52.000000     0.000000    15.000000\n",
       "50%                 1.000000    99.000000     1.000000    51.000000\n",
       "75%                 1.000000   185.000000     9.000000   168.000000\n",
       "max                 1.000000   975.000000  1464.000000  7745.000000"
      ],
      "text/html": "<div>\n<style scoped>\n    .dataframe tbody tr th:only-of-type {\n        vertical-align: middle;\n    }\n\n    .dataframe tbody tr th {\n        vertical-align: top;\n    }\n\n    .dataframe thead th {\n        text-align: right;\n    }\n</style>\n<table border=\"1\" class=\"dataframe\">\n  <thead>\n    <tr style=\"text-align: right;\">\n      <th></th>\n      <th>is_positive_sentiment</th>\n      <th>n_words</th>\n      <th>n_fans</th>\n      <th>n_reviews</th>\n    </tr>\n  </thead>\n  <tbody>\n    <tr>\n      <th>count</th>\n      <td>8093.000000</td>\n      <td>8093.000000</td>\n      <td>8093.000000</td>\n      <td>8093.000000</td>\n    </tr>\n    <tr>\n      <th>mean</th>\n      <td>0.640554</td>\n      <td>139.994687</td>\n      <td>16.087977</td>\n      <td>159.807364</td>\n    </tr>\n    <tr>\n      <th>std</th>\n      <td>0.479868</td>\n      <td>129.970251</td>\n      <td>56.368684</td>\n      <td>317.321461</td>\n    </tr>\n    <tr>\n      <th>min</th>\n      <td>0.000000</td>\n      <td>1.000000</td>\n      <td>0.000000</td>\n      <td>1.000000</td>\n    </tr>\n    <tr>\n      <th>25%</th>\n      <td>0.000000</td>\n      <td>52.000000</td>\n      <td>0.000000</td>\n      <td>15.000000</td>\n    </tr>\n    <tr>\n      <th>50%</th>\n      <td>1.000000</td>\n      <td>99.000000</td>\n      <td>1.000000</td>\n      <td>51.000000</td>\n    </tr>\n    <tr>\n      <th>75%</th>\n      <td>1.000000</td>\n      <td>185.000000</td>\n      <td>9.000000</td>\n      <td>168.000000</td>\n    </tr>\n    <tr>\n      <th>max</th>\n      <td>1.000000</td>\n      <td>975.000000</td>\n      <td>1464.000000</td>\n      <td>7745.000000</td>\n    </tr>\n  </tbody>\n</table>\n</div>"
     },
     "metadata": {},
     "execution_count": 103
    }
   ],
   "source": [
    "df[df.test==1][X_cols].describe()"
   ]
  },
  {
   "cell_type": "code",
   "execution_count": 93,
   "metadata": {},
   "outputs": [
    {
     "output_type": "execute_result",
     "data": {
      "text/plain": [
       "is_positive_sentiment  n_words  n_fans  n_reviews\n",
       "0.0                    1        0       1            1\n",
       "                                        29           1\n",
       "                                1       94           1\n",
       "                       5        0       1            2\n",
       "                                        3            1\n",
       "                                                    ..\n",
       "1.0                    883      0       12           1\n",
       "                       886      1       6            1\n",
       "                       922      3       72           1\n",
       "                       923      44      638          1\n",
       "                       937      0       15           1\n",
       "Name: user_id, Length: 7636, dtype: int64"
      ]
     },
     "metadata": {},
     "execution_count": 93
    }
   ],
   "source": [
    "df[df.test==1].groupby(X_cols).user_id.count()"
   ]
  },
  {
   "source": [
    "Number of unique contexts"
   ],
   "cell_type": "markdown",
   "metadata": {}
  },
  {
   "cell_type": "code",
   "execution_count": 97,
   "metadata": {},
   "outputs": [
    {
     "output_type": "execute_result",
     "data": {
      "text/plain": [
       "7636"
      ]
     },
     "metadata": {},
     "execution_count": 97
    }
   ],
   "source": [
    "len(df[df.test==1].groupby(X_cols).user_id.count())"
   ]
  },
  {
   "source": [
    "### Get prediction probabilities for all treatments"
   ],
   "cell_type": "markdown",
   "metadata": {}
  },
  {
   "cell_type": "code",
   "execution_count": 127,
   "metadata": {},
   "outputs": [
    {
     "output_type": "stream",
     "name": "stdout",
     "text": [
      "Data loaded! Loaded data info:\n<class 'pandas.core.frame.DataFrame'>\nRangeIndex: 10114 entries, 0 to 10113\nData columns (total 20 columns):\n #   Column                 Non-Null Count  Dtype  \n---  ------                 --------------  -----  \n 0   user_id                10114 non-null  object \n 1   business_id            10114 non-null  object \n 2   stars                  10114 non-null  int64  \n 3   useful                 10114 non-null  int64  \n 4   text                   10114 non-null  object \n 5   date                   10114 non-null  object \n 6   text_length            10114 non-null  int64  \n 7   nbr_words              10114 non-null  int64  \n 8   lemmatized_text        10114 non-null  object \n 9   processed_text         10114 non-null  object \n 10  test                   10114 non-null  int64  \n 11  Z1                     10114 non-null  int64  \n 12  Z2                     10114 non-null  int64  \n 13  Z3                     10114 non-null  int64  \n 14  is_positive_sentiment  10114 non-null  float64\n 15  sentiment_certainty    10114 non-null  float64\n 16  n_words                10114 non-null  int64  \n 17  n_fans                 10114 non-null  int64  \n 18  n_reviews              10114 non-null  int64  \n 19  useful_discrete        10114 non-null  int64  \ndtypes: float64(2), int64(12), object(6)\nmemory usage: 1.5+ MB\n"
     ]
    }
   ],
   "source": [
    "from sklearn.model_selection import cross_val_predict\n",
    "\n",
    "X_cols = ['is_positive_sentiment', 'n_words', 'n_fans', 'n_reviews']\n",
    "Y_cols = ['Z1','Z2', 'Z3']\n",
    "df = evaluation_help_functions.get_pandas_data('saved_data/data_features_interpretable.csv')\n",
    "X_data = df[df.test==1][X_cols]\n",
    "Y_data = df[df.test==1][Y_cols]\n",
    "\n",
    "pred_prob_dict = {}\n",
    "for model_name, model in models.items():\n",
    "    pred_prob_dict[model_name] = cross_val_predict(model, X_data.to_numpy(), Y_data.to_numpy(), cv=5, method='predict_proba')"
   ]
  },
  {
   "cell_type": "code",
   "execution_count": 123,
   "metadata": {},
   "outputs": [],
   "source": [
    "model_prob_results = {}\n",
    "for model_name in models:\n",
    "    prob_results = {}\n",
    "    for index, col in enumerate(Y_cols):\n",
    "        prob_results[col+\"_0\"] = []\n",
    "        prob_results[col+\"_1\"] = []\n",
    "        for preds in pred_prob_dict[model_name][index]:\n",
    "            prob_results[col+\"_0\"].append(preds[0])\n",
    "            prob_results[col+\"_1\"].append(preds[1])\n",
    "    model_prob_results[model_name] = pd.DataFrame(prob_results)"
   ]
  },
  {
   "cell_type": "code",
   "execution_count": 165,
   "metadata": {},
   "outputs": [
    {
     "output_type": "execute_result",
     "data": {
      "text/plain": [
       "       Z1_0      Z1_1      Z2_0      Z2_1      Z3_0      Z3_1  \\\n",
       "0  0.840667  0.159333  0.810476  0.189524  0.963143  0.036857   \n",
       "1  0.000000  1.000000  0.857022  0.142978  0.124606  0.875394   \n",
       "2  0.992500  0.007500  0.973738  0.026262  1.000000  0.000000   \n",
       "3  1.000000  0.000000  0.000000  1.000000  1.000000  0.000000   \n",
       "4  0.670707  0.329293  0.519563  0.480437  0.846356  0.153644   \n",
       "\n",
       "   is_positive_sentiment  n_words  n_fans  n_reviews  \n",
       "0                    1.0      176       0          3  \n",
       "1                    0.0      940     330       1224  \n",
       "2                    1.0      131     113       1864  \n",
       "3                    1.0       63       0         15  \n",
       "4                    1.0      216       0          8  "
      ],
      "text/html": "<div>\n<style scoped>\n    .dataframe tbody tr th:only-of-type {\n        vertical-align: middle;\n    }\n\n    .dataframe tbody tr th {\n        vertical-align: top;\n    }\n\n    .dataframe thead th {\n        text-align: right;\n    }\n</style>\n<table border=\"1\" class=\"dataframe\">\n  <thead>\n    <tr style=\"text-align: right;\">\n      <th></th>\n      <th>Z1_0</th>\n      <th>Z1_1</th>\n      <th>Z2_0</th>\n      <th>Z2_1</th>\n      <th>Z3_0</th>\n      <th>Z3_1</th>\n      <th>is_positive_sentiment</th>\n      <th>n_words</th>\n      <th>n_fans</th>\n      <th>n_reviews</th>\n    </tr>\n  </thead>\n  <tbody>\n    <tr>\n      <th>0</th>\n      <td>0.840667</td>\n      <td>0.159333</td>\n      <td>0.810476</td>\n      <td>0.189524</td>\n      <td>0.963143</td>\n      <td>0.036857</td>\n      <td>1.0</td>\n      <td>176</td>\n      <td>0</td>\n      <td>3</td>\n    </tr>\n    <tr>\n      <th>1</th>\n      <td>0.000000</td>\n      <td>1.000000</td>\n      <td>0.857022</td>\n      <td>0.142978</td>\n      <td>0.124606</td>\n      <td>0.875394</td>\n      <td>0.0</td>\n      <td>940</td>\n      <td>330</td>\n      <td>1224</td>\n    </tr>\n    <tr>\n      <th>2</th>\n      <td>0.992500</td>\n      <td>0.007500</td>\n      <td>0.973738</td>\n      <td>0.026262</td>\n      <td>1.000000</td>\n      <td>0.000000</td>\n      <td>1.0</td>\n      <td>131</td>\n      <td>113</td>\n      <td>1864</td>\n    </tr>\n    <tr>\n      <th>3</th>\n      <td>1.000000</td>\n      <td>0.000000</td>\n      <td>0.000000</td>\n      <td>1.000000</td>\n      <td>1.000000</td>\n      <td>0.000000</td>\n      <td>1.0</td>\n      <td>63</td>\n      <td>0</td>\n      <td>15</td>\n    </tr>\n    <tr>\n      <th>4</th>\n      <td>0.670707</td>\n      <td>0.329293</td>\n      <td>0.519563</td>\n      <td>0.480437</td>\n      <td>0.846356</td>\n      <td>0.153644</td>\n      <td>1.0</td>\n      <td>216</td>\n      <td>0</td>\n      <td>8</td>\n    </tr>\n  </tbody>\n</table>\n</div>"
     },
     "metadata": {},
     "execution_count": 165
    }
   ],
   "source": [
    "model_results = pd.concat([model_prob_results['random_forest_model_1'], X_data.reset_index(drop=True)], axis=1)\n",
    "model_results.head()"
   ]
  },
  {
   "source": [
    "### Bin the X data in order to get different X regions to check T predict probabilities for"
   ],
   "cell_type": "markdown",
   "metadata": {}
  },
  {
   "cell_type": "code",
   "execution_count": 166,
   "metadata": {},
   "outputs": [
    {
     "output_type": "execute_result",
     "data": {
      "text/plain": [
       "       Z1_0      Z1_1      Z2_0      Z2_1      Z3_0      Z3_1  \\\n",
       "0  0.840667  0.159333  0.810476  0.189524  0.963143  0.036857   \n",
       "1  0.000000  1.000000  0.857022  0.142978  0.124606  0.875394   \n",
       "2  0.992500  0.007500  0.973738  0.026262  1.000000  0.000000   \n",
       "3  1.000000  0.000000  0.000000  1.000000  1.000000  0.000000   \n",
       "4  0.670707  0.329293  0.519563  0.480437  0.846356  0.153644   \n",
       "\n",
       "   is_positive_sentiment  n_words  n_fans  n_reviews  \\\n",
       "0                    1.0      176       0          3   \n",
       "1                    0.0      940     330       1224   \n",
       "2                    1.0      131     113       1864   \n",
       "3                    1.0       63       0         15   \n",
       "4                    1.0      216       0          8   \n",
       "\n",
       "  is_positive_sentiment_binned    n_words_binned     n_fans_binned  \\\n",
       "0                   (0.5, 1.0]  (166.58, 176.32]   (-1.464, 14.64]   \n",
       "1                (-0.001, 0.5]  (936.04, 945.78]  (322.08, 336.72]   \n",
       "2                   (0.5, 1.0]  (127.62, 137.36]  (102.48, 117.12]   \n",
       "3                   (0.5, 1.0]    (59.44, 69.18]   (-1.464, 14.64]   \n",
       "4                   (0.5, 1.0]  (215.28, 225.02]   (-1.464, 14.64]   \n",
       "\n",
       "    n_reviews_binned  \n",
       "0    (-6.744, 78.44]  \n",
       "1  (1162.6, 1240.04]  \n",
       "2  (1859.56, 1937.0]  \n",
       "3    (-6.744, 78.44]  \n",
       "4    (-6.744, 78.44]  "
      ],
      "text/html": "<div>\n<style scoped>\n    .dataframe tbody tr th:only-of-type {\n        vertical-align: middle;\n    }\n\n    .dataframe tbody tr th {\n        vertical-align: top;\n    }\n\n    .dataframe thead th {\n        text-align: right;\n    }\n</style>\n<table border=\"1\" class=\"dataframe\">\n  <thead>\n    <tr style=\"text-align: right;\">\n      <th></th>\n      <th>Z1_0</th>\n      <th>Z1_1</th>\n      <th>Z2_0</th>\n      <th>Z2_1</th>\n      <th>Z3_0</th>\n      <th>Z3_1</th>\n      <th>is_positive_sentiment</th>\n      <th>n_words</th>\n      <th>n_fans</th>\n      <th>n_reviews</th>\n      <th>is_positive_sentiment_binned</th>\n      <th>n_words_binned</th>\n      <th>n_fans_binned</th>\n      <th>n_reviews_binned</th>\n    </tr>\n  </thead>\n  <tbody>\n    <tr>\n      <th>0</th>\n      <td>0.840667</td>\n      <td>0.159333</td>\n      <td>0.810476</td>\n      <td>0.189524</td>\n      <td>0.963143</td>\n      <td>0.036857</td>\n      <td>1.0</td>\n      <td>176</td>\n      <td>0</td>\n      <td>3</td>\n      <td>(0.5, 1.0]</td>\n      <td>(166.58, 176.32]</td>\n      <td>(-1.464, 14.64]</td>\n      <td>(-6.744, 78.44]</td>\n    </tr>\n    <tr>\n      <th>1</th>\n      <td>0.000000</td>\n      <td>1.000000</td>\n      <td>0.857022</td>\n      <td>0.142978</td>\n      <td>0.124606</td>\n      <td>0.875394</td>\n      <td>0.0</td>\n      <td>940</td>\n      <td>330</td>\n      <td>1224</td>\n      <td>(-0.001, 0.5]</td>\n      <td>(936.04, 945.78]</td>\n      <td>(322.08, 336.72]</td>\n      <td>(1162.6, 1240.04]</td>\n    </tr>\n    <tr>\n      <th>2</th>\n      <td>0.992500</td>\n      <td>0.007500</td>\n      <td>0.973738</td>\n      <td>0.026262</td>\n      <td>1.000000</td>\n      <td>0.000000</td>\n      <td>1.0</td>\n      <td>131</td>\n      <td>113</td>\n      <td>1864</td>\n      <td>(0.5, 1.0]</td>\n      <td>(127.62, 137.36]</td>\n      <td>(102.48, 117.12]</td>\n      <td>(1859.56, 1937.0]</td>\n    </tr>\n    <tr>\n      <th>3</th>\n      <td>1.000000</td>\n      <td>0.000000</td>\n      <td>0.000000</td>\n      <td>1.000000</td>\n      <td>1.000000</td>\n      <td>0.000000</td>\n      <td>1.0</td>\n      <td>63</td>\n      <td>0</td>\n      <td>15</td>\n      <td>(0.5, 1.0]</td>\n      <td>(59.44, 69.18]</td>\n      <td>(-1.464, 14.64]</td>\n      <td>(-6.744, 78.44]</td>\n    </tr>\n    <tr>\n      <th>4</th>\n      <td>0.670707</td>\n      <td>0.329293</td>\n      <td>0.519563</td>\n      <td>0.480437</td>\n      <td>0.846356</td>\n      <td>0.153644</td>\n      <td>1.0</td>\n      <td>216</td>\n      <td>0</td>\n      <td>8</td>\n      <td>(0.5, 1.0]</td>\n      <td>(215.28, 225.02]</td>\n      <td>(-1.464, 14.64]</td>\n      <td>(-6.744, 78.44]</td>\n    </tr>\n  </tbody>\n</table>\n</div>"
     },
     "metadata": {},
     "execution_count": 166
    }
   ],
   "source": [
    "standard_nbr_bins = 100\n",
    "n_bins = {\"is_positive_sentiment\": 2, \"n_words\": standard_nbr_bins, \"n_fans\": standard_nbr_bins, \"n_reviews\": standard_nbr_bins}\n",
    "\n",
    "X_cols_binned = []\n",
    "for col in X_cols:\n",
    "    col_name = col+\"_binned\"\n",
    "    X_cols_binned.append(col_name)\n",
    "    model_results[col_name] = pd.cut(model_results[col], n_bins[col])\n",
    "model_results.head()"
   ]
  },
  {
   "cell_type": "code",
   "execution_count": 169,
   "metadata": {},
   "outputs": [
    {
     "output_type": "execute_result",
     "data": {
      "text/plain": [
       "                                                                                    Z1_0  \\\n",
       "is_positive_sentiment_binned n_words_binned   n_fans_binned   n_reviews_binned             \n",
       "(-0.001, 0.5]                (0.026, 10.74]   (-1.464, 14.64] (-6.744, 78.44]   1.000000   \n",
       "                                                              (78.44, 155.88]   1.000000   \n",
       "                             (10.74, 20.48]   (-1.464, 14.64] (-6.744, 78.44]   1.000000   \n",
       "                                                              (78.44, 155.88]   1.000000   \n",
       "                                                              (155.88, 233.32]  1.000000   \n",
       "...                                                                                  ...   \n",
       "(0.5, 1.0]                   (858.12, 867.86] (-1.464, 14.64] (-6.744, 78.44]   0.075810   \n",
       "                             (877.6, 887.34]  (-1.464, 14.64] (-6.744, 78.44]   0.041960   \n",
       "                             (916.56, 926.3]  (-1.464, 14.64] (-6.744, 78.44]   0.034968   \n",
       "                                              (43.92, 58.56]  (620.52, 697.96]  0.011333   \n",
       "                             (936.04, 945.78] (-1.464, 14.64] (-6.744, 78.44]   0.079357   \n",
       "\n",
       "                                                                                    Z1_1  \\\n",
       "is_positive_sentiment_binned n_words_binned   n_fans_binned   n_reviews_binned             \n",
       "(-0.001, 0.5]                (0.026, 10.74]   (-1.464, 14.64] (-6.744, 78.44]   0.000000   \n",
       "                                                              (78.44, 155.88]   0.000000   \n",
       "                             (10.74, 20.48]   (-1.464, 14.64] (-6.744, 78.44]   0.000000   \n",
       "                                                              (78.44, 155.88]   0.000000   \n",
       "                                                              (155.88, 233.32]  0.000000   \n",
       "...                                                                                  ...   \n",
       "(0.5, 1.0]                   (858.12, 867.86] (-1.464, 14.64] (-6.744, 78.44]   0.924190   \n",
       "                             (877.6, 887.34]  (-1.464, 14.64] (-6.744, 78.44]   0.958040   \n",
       "                             (916.56, 926.3]  (-1.464, 14.64] (-6.744, 78.44]   0.965032   \n",
       "                                              (43.92, 58.56]  (620.52, 697.96]  0.988667   \n",
       "                             (936.04, 945.78] (-1.464, 14.64] (-6.744, 78.44]   0.920643   \n",
       "\n",
       "                                                                                    Z2_0  \\\n",
       "is_positive_sentiment_binned n_words_binned   n_fans_binned   n_reviews_binned             \n",
       "(-0.001, 0.5]                (0.026, 10.74]   (-1.464, 14.64] (-6.744, 78.44]   0.000000   \n",
       "                                                              (78.44, 155.88]   0.014444   \n",
       "                             (10.74, 20.48]   (-1.464, 14.64] (-6.744, 78.44]   0.000415   \n",
       "                                                              (78.44, 155.88]   0.010000   \n",
       "                                                              (155.88, 233.32]  0.012500   \n",
       "...                                                                                  ...   \n",
       "(0.5, 1.0]                   (858.12, 867.86] (-1.464, 14.64] (-6.744, 78.44]   0.903611   \n",
       "                             (877.6, 887.34]  (-1.464, 14.64] (-6.744, 78.44]   0.938143   \n",
       "                             (916.56, 926.3]  (-1.464, 14.64] (-6.744, 78.44]   0.928286   \n",
       "                                              (43.92, 58.56]  (620.52, 697.96]  0.967619   \n",
       "                             (936.04, 945.78] (-1.464, 14.64] (-6.744, 78.44]   0.934460   \n",
       "\n",
       "                                                                                    Z2_1  \\\n",
       "is_positive_sentiment_binned n_words_binned   n_fans_binned   n_reviews_binned             \n",
       "(-0.001, 0.5]                (0.026, 10.74]   (-1.464, 14.64] (-6.744, 78.44]   1.000000   \n",
       "                                                              (78.44, 155.88]   0.985556   \n",
       "                             (10.74, 20.48]   (-1.464, 14.64] (-6.744, 78.44]   0.999585   \n",
       "                                                              (78.44, 155.88]   0.990000   \n",
       "                                                              (155.88, 233.32]  0.987500   \n",
       "...                                                                                  ...   \n",
       "(0.5, 1.0]                   (858.12, 867.86] (-1.464, 14.64] (-6.744, 78.44]   0.096389   \n",
       "                             (877.6, 887.34]  (-1.464, 14.64] (-6.744, 78.44]   0.061857   \n",
       "                             (916.56, 926.3]  (-1.464, 14.64] (-6.744, 78.44]   0.071714   \n",
       "                                              (43.92, 58.56]  (620.52, 697.96]  0.032381   \n",
       "                             (936.04, 945.78] (-1.464, 14.64] (-6.744, 78.44]   0.065540   \n",
       "\n",
       "                                                                                    Z3_0  \\\n",
       "is_positive_sentiment_binned n_words_binned   n_fans_binned   n_reviews_binned             \n",
       "(-0.001, 0.5]                (0.026, 10.74]   (-1.464, 14.64] (-6.744, 78.44]   1.000000   \n",
       "                                                              (78.44, 155.88]   1.000000   \n",
       "                             (10.74, 20.48]   (-1.464, 14.64] (-6.744, 78.44]   1.000000   \n",
       "                                                              (78.44, 155.88]   1.000000   \n",
       "                                                              (155.88, 233.32]  1.000000   \n",
       "...                                                                                  ...   \n",
       "(0.5, 1.0]                   (858.12, 867.86] (-1.464, 14.64] (-6.744, 78.44]   0.402063   \n",
       "                             (877.6, 887.34]  (-1.464, 14.64] (-6.744, 78.44]   0.214341   \n",
       "                             (916.56, 926.3]  (-1.464, 14.64] (-6.744, 78.44]   0.083762   \n",
       "                                              (43.92, 58.56]  (620.52, 697.96]  0.088762   \n",
       "                             (936.04, 945.78] (-1.464, 14.64] (-6.744, 78.44]   0.092706   \n",
       "\n",
       "                                                                                    Z3_1  \n",
       "is_positive_sentiment_binned n_words_binned   n_fans_binned   n_reviews_binned            \n",
       "(-0.001, 0.5]                (0.026, 10.74]   (-1.464, 14.64] (-6.744, 78.44]   0.000000  \n",
       "                                                              (78.44, 155.88]   0.000000  \n",
       "                             (10.74, 20.48]   (-1.464, 14.64] (-6.744, 78.44]   0.000000  \n",
       "                                                              (78.44, 155.88]   0.000000  \n",
       "                                                              (155.88, 233.32]  0.000000  \n",
       "...                                                                                  ...  \n",
       "(0.5, 1.0]                   (858.12, 867.86] (-1.464, 14.64] (-6.744, 78.44]   0.597937  \n",
       "                             (877.6, 887.34]  (-1.464, 14.64] (-6.744, 78.44]   0.785659  \n",
       "                             (916.56, 926.3]  (-1.464, 14.64] (-6.744, 78.44]   0.916238  \n",
       "                                              (43.92, 58.56]  (620.52, 697.96]  0.911238  \n",
       "                             (936.04, 945.78] (-1.464, 14.64] (-6.744, 78.44]   0.907294  \n",
       "\n",
       "[1766 rows x 6 columns]"
      ],
      "text/html": "<div>\n<style scoped>\n    .dataframe tbody tr th:only-of-type {\n        vertical-align: middle;\n    }\n\n    .dataframe tbody tr th {\n        vertical-align: top;\n    }\n\n    .dataframe thead th {\n        text-align: right;\n    }\n</style>\n<table border=\"1\" class=\"dataframe\">\n  <thead>\n    <tr style=\"text-align: right;\">\n      <th></th>\n      <th></th>\n      <th></th>\n      <th></th>\n      <th>Z1_0</th>\n      <th>Z1_1</th>\n      <th>Z2_0</th>\n      <th>Z2_1</th>\n      <th>Z3_0</th>\n      <th>Z3_1</th>\n    </tr>\n    <tr>\n      <th>is_positive_sentiment_binned</th>\n      <th>n_words_binned</th>\n      <th>n_fans_binned</th>\n      <th>n_reviews_binned</th>\n      <th></th>\n      <th></th>\n      <th></th>\n      <th></th>\n      <th></th>\n      <th></th>\n    </tr>\n  </thead>\n  <tbody>\n    <tr>\n      <th rowspan=\"5\" valign=\"top\">(-0.001, 0.5]</th>\n      <th rowspan=\"2\" valign=\"top\">(0.026, 10.74]</th>\n      <th rowspan=\"2\" valign=\"top\">(-1.464, 14.64]</th>\n      <th>(-6.744, 78.44]</th>\n      <td>1.000000</td>\n      <td>0.000000</td>\n      <td>0.000000</td>\n      <td>1.000000</td>\n      <td>1.000000</td>\n      <td>0.000000</td>\n    </tr>\n    <tr>\n      <th>(78.44, 155.88]</th>\n      <td>1.000000</td>\n      <td>0.000000</td>\n      <td>0.014444</td>\n      <td>0.985556</td>\n      <td>1.000000</td>\n      <td>0.000000</td>\n    </tr>\n    <tr>\n      <th rowspan=\"3\" valign=\"top\">(10.74, 20.48]</th>\n      <th rowspan=\"3\" valign=\"top\">(-1.464, 14.64]</th>\n      <th>(-6.744, 78.44]</th>\n      <td>1.000000</td>\n      <td>0.000000</td>\n      <td>0.000415</td>\n      <td>0.999585</td>\n      <td>1.000000</td>\n      <td>0.000000</td>\n    </tr>\n    <tr>\n      <th>(78.44, 155.88]</th>\n      <td>1.000000</td>\n      <td>0.000000</td>\n      <td>0.010000</td>\n      <td>0.990000</td>\n      <td>1.000000</td>\n      <td>0.000000</td>\n    </tr>\n    <tr>\n      <th>(155.88, 233.32]</th>\n      <td>1.000000</td>\n      <td>0.000000</td>\n      <td>0.012500</td>\n      <td>0.987500</td>\n      <td>1.000000</td>\n      <td>0.000000</td>\n    </tr>\n    <tr>\n      <th>...</th>\n      <th>...</th>\n      <th>...</th>\n      <th>...</th>\n      <td>...</td>\n      <td>...</td>\n      <td>...</td>\n      <td>...</td>\n      <td>...</td>\n      <td>...</td>\n    </tr>\n    <tr>\n      <th rowspan=\"5\" valign=\"top\">(0.5, 1.0]</th>\n      <th>(858.12, 867.86]</th>\n      <th>(-1.464, 14.64]</th>\n      <th>(-6.744, 78.44]</th>\n      <td>0.075810</td>\n      <td>0.924190</td>\n      <td>0.903611</td>\n      <td>0.096389</td>\n      <td>0.402063</td>\n      <td>0.597937</td>\n    </tr>\n    <tr>\n      <th>(877.6, 887.34]</th>\n      <th>(-1.464, 14.64]</th>\n      <th>(-6.744, 78.44]</th>\n      <td>0.041960</td>\n      <td>0.958040</td>\n      <td>0.938143</td>\n      <td>0.061857</td>\n      <td>0.214341</td>\n      <td>0.785659</td>\n    </tr>\n    <tr>\n      <th rowspan=\"2\" valign=\"top\">(916.56, 926.3]</th>\n      <th>(-1.464, 14.64]</th>\n      <th>(-6.744, 78.44]</th>\n      <td>0.034968</td>\n      <td>0.965032</td>\n      <td>0.928286</td>\n      <td>0.071714</td>\n      <td>0.083762</td>\n      <td>0.916238</td>\n    </tr>\n    <tr>\n      <th>(43.92, 58.56]</th>\n      <th>(620.52, 697.96]</th>\n      <td>0.011333</td>\n      <td>0.988667</td>\n      <td>0.967619</td>\n      <td>0.032381</td>\n      <td>0.088762</td>\n      <td>0.911238</td>\n    </tr>\n    <tr>\n      <th>(936.04, 945.78]</th>\n      <th>(-1.464, 14.64]</th>\n      <th>(-6.744, 78.44]</th>\n      <td>0.079357</td>\n      <td>0.920643</td>\n      <td>0.934460</td>\n      <td>0.065540</td>\n      <td>0.092706</td>\n      <td>0.907294</td>\n    </tr>\n  </tbody>\n</table>\n<p>1766 rows × 6 columns</p>\n</div>"
     },
     "metadata": {},
     "execution_count": 169
    }
   ],
   "source": [
    "grouped_model_results = model_results.drop(columns=X_cols).groupby(X_cols_binned, observed=True).mean()\n",
    "grouped_model_results"
   ]
  },
  {
   "source": [
    "### Extract X regions for which the model is super certain"
   ],
   "cell_type": "markdown",
   "metadata": {}
  },
  {
   "cell_type": "code",
   "execution_count": 176,
   "metadata": {},
   "outputs": [
    {
     "output_type": "execute_result",
     "data": {
      "text/plain": [
       "                                                                              Z1_0  \\\n",
       "is_positive_sentiment_binned n_words_binned n_fans_binned   n_reviews_binned         \n",
       "(-0.001, 0.5]                (0.026, 10.74] (-1.464, 14.64] (-6.744, 78.44]    1.0   \n",
       "                             (20.48, 30.22] (-1.464, 14.64] (233.32, 310.76]   1.0   \n",
       "                             (30.22, 39.96] (-1.464, 14.64] (310.76, 388.2]    1.0   \n",
       "                             (39.96, 49.7]  (-1.464, 14.64] (310.76, 388.2]    1.0   \n",
       "                             (49.7, 59.44]  (-1.464, 14.64] (388.2, 465.64]    1.0   \n",
       "(0.5, 1.0]                   (10.74, 20.48] (-1.464, 14.64] (155.88, 233.32]   1.0   \n",
       "                                            (14.64, 29.28]  (78.44, 155.88]    1.0   \n",
       "                                            (43.92, 58.56]  (388.2, 465.64]    1.0   \n",
       "                             (20.48, 30.22] (14.64, 29.28]  (388.2, 465.64]    1.0   \n",
       "                                                            (620.52, 697.96]   1.0   \n",
       "                             (30.22, 39.96] (-1.464, 14.64] (388.2, 465.64]    1.0   \n",
       "                                            (14.64, 29.28]  (310.76, 388.2]    1.0   \n",
       "                                            (29.28, 43.92]  (543.08, 620.52]   1.0   \n",
       "                             (39.96, 49.7]  (14.64, 29.28]  (155.88, 233.32]   1.0   \n",
       "                                            (29.28, 43.92]  (465.64, 543.08]   1.0   \n",
       "\n",
       "                                                                              Z1_1  \\\n",
       "is_positive_sentiment_binned n_words_binned n_fans_binned   n_reviews_binned         \n",
       "(-0.001, 0.5]                (0.026, 10.74] (-1.464, 14.64] (-6.744, 78.44]    0.0   \n",
       "                             (20.48, 30.22] (-1.464, 14.64] (233.32, 310.76]   0.0   \n",
       "                             (30.22, 39.96] (-1.464, 14.64] (310.76, 388.2]    0.0   \n",
       "                             (39.96, 49.7]  (-1.464, 14.64] (310.76, 388.2]    0.0   \n",
       "                             (49.7, 59.44]  (-1.464, 14.64] (388.2, 465.64]    0.0   \n",
       "(0.5, 1.0]                   (10.74, 20.48] (-1.464, 14.64] (155.88, 233.32]   0.0   \n",
       "                                            (14.64, 29.28]  (78.44, 155.88]    0.0   \n",
       "                                            (43.92, 58.56]  (388.2, 465.64]    0.0   \n",
       "                             (20.48, 30.22] (14.64, 29.28]  (388.2, 465.64]    0.0   \n",
       "                                                            (620.52, 697.96]   0.0   \n",
       "                             (30.22, 39.96] (-1.464, 14.64] (388.2, 465.64]    0.0   \n",
       "                                            (14.64, 29.28]  (310.76, 388.2]    0.0   \n",
       "                                            (29.28, 43.92]  (543.08, 620.52]   0.0   \n",
       "                             (39.96, 49.7]  (14.64, 29.28]  (155.88, 233.32]   0.0   \n",
       "                                            (29.28, 43.92]  (465.64, 543.08]   0.0   \n",
       "\n",
       "                                                                              Z2_0  \\\n",
       "is_positive_sentiment_binned n_words_binned n_fans_binned   n_reviews_binned         \n",
       "(-0.001, 0.5]                (0.026, 10.74] (-1.464, 14.64] (-6.744, 78.44]    0.0   \n",
       "                             (20.48, 30.22] (-1.464, 14.64] (233.32, 310.76]   0.0   \n",
       "                             (30.22, 39.96] (-1.464, 14.64] (310.76, 388.2]    0.0   \n",
       "                             (39.96, 49.7]  (-1.464, 14.64] (310.76, 388.2]    0.0   \n",
       "                             (49.7, 59.44]  (-1.464, 14.64] (388.2, 465.64]    0.0   \n",
       "(0.5, 1.0]                   (10.74, 20.48] (-1.464, 14.64] (155.88, 233.32]   0.0   \n",
       "                                            (14.64, 29.28]  (78.44, 155.88]    0.0   \n",
       "                                            (43.92, 58.56]  (388.2, 465.64]    0.0   \n",
       "                             (20.48, 30.22] (14.64, 29.28]  (388.2, 465.64]    0.0   \n",
       "                                                            (620.52, 697.96]   0.0   \n",
       "                             (30.22, 39.96] (-1.464, 14.64] (388.2, 465.64]    0.0   \n",
       "                                            (14.64, 29.28]  (310.76, 388.2]    0.0   \n",
       "                                            (29.28, 43.92]  (543.08, 620.52]   0.0   \n",
       "                             (39.96, 49.7]  (14.64, 29.28]  (155.88, 233.32]   0.0   \n",
       "                                            (29.28, 43.92]  (465.64, 543.08]   0.0   \n",
       "\n",
       "                                                                              Z2_1  \\\n",
       "is_positive_sentiment_binned n_words_binned n_fans_binned   n_reviews_binned         \n",
       "(-0.001, 0.5]                (0.026, 10.74] (-1.464, 14.64] (-6.744, 78.44]    1.0   \n",
       "                             (20.48, 30.22] (-1.464, 14.64] (233.32, 310.76]   1.0   \n",
       "                             (30.22, 39.96] (-1.464, 14.64] (310.76, 388.2]    1.0   \n",
       "                             (39.96, 49.7]  (-1.464, 14.64] (310.76, 388.2]    1.0   \n",
       "                             (49.7, 59.44]  (-1.464, 14.64] (388.2, 465.64]    1.0   \n",
       "(0.5, 1.0]                   (10.74, 20.48] (-1.464, 14.64] (155.88, 233.32]   1.0   \n",
       "                                            (14.64, 29.28]  (78.44, 155.88]    1.0   \n",
       "                                            (43.92, 58.56]  (388.2, 465.64]    1.0   \n",
       "                             (20.48, 30.22] (14.64, 29.28]  (388.2, 465.64]    1.0   \n",
       "                                                            (620.52, 697.96]   1.0   \n",
       "                             (30.22, 39.96] (-1.464, 14.64] (388.2, 465.64]    1.0   \n",
       "                                            (14.64, 29.28]  (310.76, 388.2]    1.0   \n",
       "                                            (29.28, 43.92]  (543.08, 620.52]   1.0   \n",
       "                             (39.96, 49.7]  (14.64, 29.28]  (155.88, 233.32]   1.0   \n",
       "                                            (29.28, 43.92]  (465.64, 543.08]   1.0   \n",
       "\n",
       "                                                                              Z3_0  \\\n",
       "is_positive_sentiment_binned n_words_binned n_fans_binned   n_reviews_binned         \n",
       "(-0.001, 0.5]                (0.026, 10.74] (-1.464, 14.64] (-6.744, 78.44]    1.0   \n",
       "                             (20.48, 30.22] (-1.464, 14.64] (233.32, 310.76]   1.0   \n",
       "                             (30.22, 39.96] (-1.464, 14.64] (310.76, 388.2]    1.0   \n",
       "                             (39.96, 49.7]  (-1.464, 14.64] (310.76, 388.2]    1.0   \n",
       "                             (49.7, 59.44]  (-1.464, 14.64] (388.2, 465.64]    1.0   \n",
       "(0.5, 1.0]                   (10.74, 20.48] (-1.464, 14.64] (155.88, 233.32]   1.0   \n",
       "                                            (14.64, 29.28]  (78.44, 155.88]    1.0   \n",
       "                                            (43.92, 58.56]  (388.2, 465.64]    1.0   \n",
       "                             (20.48, 30.22] (14.64, 29.28]  (388.2, 465.64]    1.0   \n",
       "                                                            (620.52, 697.96]   1.0   \n",
       "                             (30.22, 39.96] (-1.464, 14.64] (388.2, 465.64]    1.0   \n",
       "                                            (14.64, 29.28]  (310.76, 388.2]    1.0   \n",
       "                                            (29.28, 43.92]  (543.08, 620.52]   1.0   \n",
       "                             (39.96, 49.7]  (14.64, 29.28]  (155.88, 233.32]   1.0   \n",
       "                                            (29.28, 43.92]  (465.64, 543.08]   1.0   \n",
       "\n",
       "                                                                              Z3_1  \n",
       "is_positive_sentiment_binned n_words_binned n_fans_binned   n_reviews_binned        \n",
       "(-0.001, 0.5]                (0.026, 10.74] (-1.464, 14.64] (-6.744, 78.44]    0.0  \n",
       "                             (20.48, 30.22] (-1.464, 14.64] (233.32, 310.76]   0.0  \n",
       "                             (30.22, 39.96] (-1.464, 14.64] (310.76, 388.2]    0.0  \n",
       "                             (39.96, 49.7]  (-1.464, 14.64] (310.76, 388.2]    0.0  \n",
       "                             (49.7, 59.44]  (-1.464, 14.64] (388.2, 465.64]    0.0  \n",
       "(0.5, 1.0]                   (10.74, 20.48] (-1.464, 14.64] (155.88, 233.32]   0.0  \n",
       "                                            (14.64, 29.28]  (78.44, 155.88]    0.0  \n",
       "                                            (43.92, 58.56]  (388.2, 465.64]    0.0  \n",
       "                             (20.48, 30.22] (14.64, 29.28]  (388.2, 465.64]    0.0  \n",
       "                                                            (620.52, 697.96]   0.0  \n",
       "                             (30.22, 39.96] (-1.464, 14.64] (388.2, 465.64]    0.0  \n",
       "                                            (14.64, 29.28]  (310.76, 388.2]    0.0  \n",
       "                                            (29.28, 43.92]  (543.08, 620.52]   0.0  \n",
       "                             (39.96, 49.7]  (14.64, 29.28]  (155.88, 233.32]   0.0  \n",
       "                                            (29.28, 43.92]  (465.64, 543.08]   0.0  "
      ],
      "text/html": "<div>\n<style scoped>\n    .dataframe tbody tr th:only-of-type {\n        vertical-align: middle;\n    }\n\n    .dataframe tbody tr th {\n        vertical-align: top;\n    }\n\n    .dataframe thead th {\n        text-align: right;\n    }\n</style>\n<table border=\"1\" class=\"dataframe\">\n  <thead>\n    <tr style=\"text-align: right;\">\n      <th></th>\n      <th></th>\n      <th></th>\n      <th></th>\n      <th>Z1_0</th>\n      <th>Z1_1</th>\n      <th>Z2_0</th>\n      <th>Z2_1</th>\n      <th>Z3_0</th>\n      <th>Z3_1</th>\n    </tr>\n    <tr>\n      <th>is_positive_sentiment_binned</th>\n      <th>n_words_binned</th>\n      <th>n_fans_binned</th>\n      <th>n_reviews_binned</th>\n      <th></th>\n      <th></th>\n      <th></th>\n      <th></th>\n      <th></th>\n      <th></th>\n    </tr>\n  </thead>\n  <tbody>\n    <tr>\n      <th rowspan=\"5\" valign=\"top\">(-0.001, 0.5]</th>\n      <th>(0.026, 10.74]</th>\n      <th>(-1.464, 14.64]</th>\n      <th>(-6.744, 78.44]</th>\n      <td>1.0</td>\n      <td>0.0</td>\n      <td>0.0</td>\n      <td>1.0</td>\n      <td>1.0</td>\n      <td>0.0</td>\n    </tr>\n    <tr>\n      <th>(20.48, 30.22]</th>\n      <th>(-1.464, 14.64]</th>\n      <th>(233.32, 310.76]</th>\n      <td>1.0</td>\n      <td>0.0</td>\n      <td>0.0</td>\n      <td>1.0</td>\n      <td>1.0</td>\n      <td>0.0</td>\n    </tr>\n    <tr>\n      <th>(30.22, 39.96]</th>\n      <th>(-1.464, 14.64]</th>\n      <th>(310.76, 388.2]</th>\n      <td>1.0</td>\n      <td>0.0</td>\n      <td>0.0</td>\n      <td>1.0</td>\n      <td>1.0</td>\n      <td>0.0</td>\n    </tr>\n    <tr>\n      <th>(39.96, 49.7]</th>\n      <th>(-1.464, 14.64]</th>\n      <th>(310.76, 388.2]</th>\n      <td>1.0</td>\n      <td>0.0</td>\n      <td>0.0</td>\n      <td>1.0</td>\n      <td>1.0</td>\n      <td>0.0</td>\n    </tr>\n    <tr>\n      <th>(49.7, 59.44]</th>\n      <th>(-1.464, 14.64]</th>\n      <th>(388.2, 465.64]</th>\n      <td>1.0</td>\n      <td>0.0</td>\n      <td>0.0</td>\n      <td>1.0</td>\n      <td>1.0</td>\n      <td>0.0</td>\n    </tr>\n    <tr>\n      <th rowspan=\"10\" valign=\"top\">(0.5, 1.0]</th>\n      <th rowspan=\"3\" valign=\"top\">(10.74, 20.48]</th>\n      <th>(-1.464, 14.64]</th>\n      <th>(155.88, 233.32]</th>\n      <td>1.0</td>\n      <td>0.0</td>\n      <td>0.0</td>\n      <td>1.0</td>\n      <td>1.0</td>\n      <td>0.0</td>\n    </tr>\n    <tr>\n      <th>(14.64, 29.28]</th>\n      <th>(78.44, 155.88]</th>\n      <td>1.0</td>\n      <td>0.0</td>\n      <td>0.0</td>\n      <td>1.0</td>\n      <td>1.0</td>\n      <td>0.0</td>\n    </tr>\n    <tr>\n      <th>(43.92, 58.56]</th>\n      <th>(388.2, 465.64]</th>\n      <td>1.0</td>\n      <td>0.0</td>\n      <td>0.0</td>\n      <td>1.0</td>\n      <td>1.0</td>\n      <td>0.0</td>\n    </tr>\n    <tr>\n      <th rowspan=\"2\" valign=\"top\">(20.48, 30.22]</th>\n      <th rowspan=\"2\" valign=\"top\">(14.64, 29.28]</th>\n      <th>(388.2, 465.64]</th>\n      <td>1.0</td>\n      <td>0.0</td>\n      <td>0.0</td>\n      <td>1.0</td>\n      <td>1.0</td>\n      <td>0.0</td>\n    </tr>\n    <tr>\n      <th>(620.52, 697.96]</th>\n      <td>1.0</td>\n      <td>0.0</td>\n      <td>0.0</td>\n      <td>1.0</td>\n      <td>1.0</td>\n      <td>0.0</td>\n    </tr>\n    <tr>\n      <th rowspan=\"3\" valign=\"top\">(30.22, 39.96]</th>\n      <th>(-1.464, 14.64]</th>\n      <th>(388.2, 465.64]</th>\n      <td>1.0</td>\n      <td>0.0</td>\n      <td>0.0</td>\n      <td>1.0</td>\n      <td>1.0</td>\n      <td>0.0</td>\n    </tr>\n    <tr>\n      <th>(14.64, 29.28]</th>\n      <th>(310.76, 388.2]</th>\n      <td>1.0</td>\n      <td>0.0</td>\n      <td>0.0</td>\n      <td>1.0</td>\n      <td>1.0</td>\n      <td>0.0</td>\n    </tr>\n    <tr>\n      <th>(29.28, 43.92]</th>\n      <th>(543.08, 620.52]</th>\n      <td>1.0</td>\n      <td>0.0</td>\n      <td>0.0</td>\n      <td>1.0</td>\n      <td>1.0</td>\n      <td>0.0</td>\n    </tr>\n    <tr>\n      <th rowspan=\"2\" valign=\"top\">(39.96, 49.7]</th>\n      <th>(14.64, 29.28]</th>\n      <th>(155.88, 233.32]</th>\n      <td>1.0</td>\n      <td>0.0</td>\n      <td>0.0</td>\n      <td>1.0</td>\n      <td>1.0</td>\n      <td>0.0</td>\n    </tr>\n    <tr>\n      <th>(29.28, 43.92]</th>\n      <th>(465.64, 543.08]</th>\n      <td>1.0</td>\n      <td>0.0</td>\n      <td>0.0</td>\n      <td>1.0</td>\n      <td>1.0</td>\n      <td>0.0</td>\n    </tr>\n  </tbody>\n</table>\n</div>"
     },
     "metadata": {},
     "execution_count": 176
    }
   ],
   "source": [
    "eps = 0.00001\n",
    "grouped_model_results[((grouped_model_results.Z1_0 == 0) | (grouped_model_results.Z1_0 == 1)) & ((grouped_model_results.Z2_0 == 0) | (grouped_model_results.Z2_0 == 1)) & ((grouped_model_results.Z3_0 == 0) | (grouped_model_results.Z3_0 == 1))]"
   ]
  }
 ]
}